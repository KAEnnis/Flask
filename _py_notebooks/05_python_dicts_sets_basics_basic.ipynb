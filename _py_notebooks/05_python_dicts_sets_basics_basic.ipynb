{
 "cells": [
  {
   "cell_type": "markdown",
   "metadata": {},
   "source": [
    "# Dict (Dictionary)\n",
    "\n",
    "Similar to actual dictionaries\n",
    "\n",
    "Dictionaries can be thought of as being composed of two lists combined – a list of keys and a list values:\n",
    "\n",
    "|   keys  |    values   |\n",
    "|:-------:|:-----------:|\n",
    "|   one   |     uno     |\n",
    "|   two   |     dos     |\n",
    "|  three  |    tres     |\n",
    "|  four   |   cuatro    |\n",
    "|  five   |   cinco     |\n"
   ]
  },
  {
   "cell_type": "code",
   "execution_count": 22,
   "metadata": {},
   "outputs": [
    {
     "name": "stdout",
     "output_type": "stream",
     "text": [
      "{}\n"
     ]
    }
   ],
   "source": [
    "empty_dict = {}\n",
    "print( empty_dict )"
   ]
  },
  {
   "cell_type": "code",
   "execution_count": 24,
   "metadata": {},
   "outputs": [
    {
     "name": "stdout",
     "output_type": "stream",
     "text": [
      "{'one': 'uno'}\n",
      "uno\n"
     ]
    }
   ],
   "source": [
    "single_dict = { \"one\": \"uno\" }\n",
    "print(single_dict)\n",
    "\n",
    "spanish_for_one = single_dict[\"one\"]\n",
    "print(spanish_for_one)"
   ]
  },
  {
   "cell_type": "code",
   "execution_count": 25,
   "metadata": {},
   "outputs": [
    {
     "name": "stdout",
     "output_type": "stream",
     "text": [
      "one\n"
     ]
    }
   ],
   "source": [
    "numbers = [\"one\", \"two\", \"three\", \"four\", \"five\"]\n",
    "print( numbers[0] )"
   ]
  },
  {
   "cell_type": "code",
   "execution_count": 26,
   "metadata": {},
   "outputs": [
    {
     "name": "stdout",
     "output_type": "stream",
     "text": [
      "{'one': 'uno', 'two': 'dos', 'three': 'tres', 'four': 'cuatro', 'five': 'cinco'}\n",
      "uno\n"
     ]
    }
   ],
   "source": [
    "# Declare a list with English number words\n",
    "numbers = [\"one\", \"two\", \"three\", \"four\", \"five\"]\n",
    "\n",
    "# Declare a dictionary mapping English numbers to Spanish numbers\n",
    "spanish_numbers = {\n",
    "    \"one\": \"uno\",\n",
    "    \"two\": \"dos\",\n",
    "    \"three\": \"tres\",\n",
    "    \"four\": \"cuatro\",\n",
    "    \"five\": \"cinco\"\n",
    "}\n",
    "\n",
    "# Print the spanish_numbers_dict\n",
    "print( spanish_numbers )\n",
    "# Print the spanish for one\n",
    "print(spanish_numbers[\"one\"])\n"
   ]
  },
  {
   "cell_type": "code",
   "execution_count": null,
   "metadata": {},
   "outputs": [],
   "source": []
  },
  {
   "cell_type": "code",
   "execution_count": null,
   "metadata": {},
   "outputs": [],
   "source": []
  },
  {
   "cell_type": "code",
   "execution_count": null,
   "metadata": {},
   "outputs": [],
   "source": []
  },
  {
   "cell_type": "code",
   "execution_count": 27,
   "metadata": {},
   "outputs": [
    {
     "name": "stdout",
     "output_type": "stream",
     "text": [
      "dict_keys(['one', 'two', 'three', 'four', 'five'])\n"
     ]
    }
   ],
   "source": [
    "#  Dict: keys, values and items\n",
    "spanish_numbers = {\n",
    "    \"one\": \"uno\",\n",
    "    \"two\": \"dos\",\n",
    "    \"three\": \"tres\",\n",
    "    \"four\": \"cuatro\",\n",
    "    \"five\": \"cinco\"\n",
    "}\n",
    "\n",
    "print( spanish_numbers.keys() )"
   ]
  },
  {
   "cell_type": "code",
   "execution_count": 28,
   "metadata": {},
   "outputs": [
    {
     "name": "stdout",
     "output_type": "stream",
     "text": [
      "dict_values(['uno', 'dos', 'tres', 'cuatro', 'cinco'])\n"
     ]
    }
   ],
   "source": [
    "print( spanish_numbers.values() )"
   ]
  },
  {
   "cell_type": "code",
   "execution_count": 29,
   "metadata": {},
   "outputs": [
    {
     "name": "stdout",
     "output_type": "stream",
     "text": [
      "dict_items([('one', 'uno'), ('two', 'dos'), ('three', 'tres'), ('four', 'cuatro'), ('five', 'cinco')])\n"
     ]
    }
   ],
   "source": [
    "print( spanish_numbers.items() )"
   ]
  },
  {
   "cell_type": "code",
   "execution_count": null,
   "metadata": {},
   "outputs": [],
   "source": []
  },
  {
   "cell_type": "code",
   "execution_count": null,
   "metadata": {},
   "outputs": [],
   "source": []
  },
  {
   "cell_type": "code",
   "execution_count": null,
   "metadata": {},
   "outputs": [],
   "source": []
  },
  {
   "cell_type": "code",
   "execution_count": null,
   "metadata": {},
   "outputs": [],
   "source": []
  },
  {
   "cell_type": "code",
   "execution_count": null,
   "metadata": {},
   "outputs": [],
   "source": []
  },
  {
   "cell_type": "code",
   "execution_count": 30,
   "metadata": {},
   "outputs": [
    {
     "name": "stdout",
     "output_type": "stream",
     "text": [
      "before: {'one': 'uno', 'two': 'dos', 'three': 'tres', 'four': 'cuatro', 'five': 'cinco'}\n",
      " after: {'one': 'uno', 'two': 'dos actualizado', 'three': 'tres', 'four': 'cuatro', 'five': 'cinco'}\n"
     ]
    }
   ],
   "source": [
    "# We can add new values by just assigning to them\n",
    "# NOTE: if the key already exists, the value will be overwritten\n",
    "spanish_numbers = {\n",
    "    \"one\": \"uno\",\n",
    "    \"two\": \"dos\",\n",
    "    \"three\": \"tres\",\n",
    "    \"four\": \"cuatro\",\n",
    "    \"five\": \"cinco\"\n",
    "}\n",
    "\n",
    "print(f\"before: {spanish_numbers}\")\n",
    "spanish_numbers[\"two\"] = \"dos actualizado\"      # Update the value of an existing key\n",
    "print(f\" after: {spanish_numbers}\")"
   ]
  },
  {
   "cell_type": "code",
   "execution_count": null,
   "metadata": {},
   "outputs": [],
   "source": []
  },
  {
   "cell_type": "code",
   "execution_count": null,
   "metadata": {},
   "outputs": [],
   "source": []
  },
  {
   "cell_type": "code",
   "execution_count": null,
   "metadata": {},
   "outputs": [],
   "source": []
  },
  {
   "cell_type": "code",
   "execution_count": null,
   "metadata": {},
   "outputs": [],
   "source": []
  },
  {
   "cell_type": "code",
   "execution_count": null,
   "metadata": {},
   "outputs": [],
   "source": []
  },
  {
   "cell_type": "code",
   "execution_count": 31,
   "metadata": {},
   "outputs": [
    {
     "name": "stdout",
     "output_type": "stream",
     "text": [
      "before: {'one': 'uno', 'two': 'dos', 'three': 'tres', 'four': 'cuatro', 'five': 'cinco'}\n",
      " after: {'one': 'uno', 'two': 'dos', 'three': 'tres', 'four': 'cuatro', 'five': 'cinco', 'six': 'seis'}\n"
     ]
    }
   ],
   "source": [
    "spanish_numbers = {\n",
    "    \"one\": \"uno\",\n",
    "    \"two\": \"dos\",\n",
    "    \"three\": \"tres\",\n",
    "    \"four\": \"cuatro\",\n",
    "    \"five\": \"cinco\"\n",
    "}\n",
    "\n",
    "print(f\"before: {spanish_numbers}\")\n",
    "spanish_numbers[\"six\"] = \"seis\"                 # Add a new key-value pair\n",
    "print(f\" after: {spanish_numbers}\")\n"
   ]
  },
  {
   "cell_type": "code",
   "execution_count": null,
   "metadata": {},
   "outputs": [],
   "source": []
  },
  {
   "cell_type": "code",
   "execution_count": null,
   "metadata": {},
   "outputs": [],
   "source": []
  },
  {
   "cell_type": "code",
   "execution_count": null,
   "metadata": {},
   "outputs": [],
   "source": []
  },
  {
   "cell_type": "code",
   "execution_count": null,
   "metadata": {},
   "outputs": [],
   "source": []
  },
  {
   "cell_type": "code",
   "execution_count": null,
   "metadata": {},
   "outputs": [],
   "source": []
  },
  {
   "cell_type": "code",
   "execution_count": null,
   "metadata": {},
   "outputs": [],
   "source": []
  },
  {
   "cell_type": "code",
   "execution_count": 32,
   "metadata": {},
   "outputs": [
    {
     "name": "stdout",
     "output_type": "stream",
     "text": [
      "before: {'one': 'uno', 'two': 'dos', 'three': 'tres', 'four': 'cuatro', 'five': 'cinco'}\n",
      " after: {'one': 'uno', 'two': 'dos', 'three': 'tres', 'five': 'cinco'}\n"
     ]
    }
   ],
   "source": [
    "spanish_numbers = {\n",
    "    \"one\": \"uno\",\n",
    "    \"two\": \"dos\",\n",
    "    \"three\": \"tres\",\n",
    "    \"four\": \"cuatro\",\n",
    "    \"five\": \"cinco\"\n",
    "}\n",
    "\n",
    "print(f\"before: {spanish_numbers}\")\n",
    "removed_value = spanish_numbers.pop(\"four\")     # Delete a key-value pair \n",
    "print(f\" after: {spanish_numbers}\")\n"
   ]
  },
  {
   "cell_type": "code",
   "execution_count": 33,
   "metadata": {},
   "outputs": [
    {
     "name": "stdout",
     "output_type": "stream",
     "text": [
      "cuatro\n"
     ]
    }
   ],
   "source": [
    "print(removed_value)"
   ]
  },
  {
   "cell_type": "code",
   "execution_count": null,
   "metadata": {},
   "outputs": [],
   "source": []
  },
  {
   "cell_type": "code",
   "execution_count": null,
   "metadata": {},
   "outputs": [],
   "source": []
  },
  {
   "cell_type": "code",
   "execution_count": null,
   "metadata": {},
   "outputs": [],
   "source": []
  },
  {
   "cell_type": "code",
   "execution_count": null,
   "metadata": {},
   "outputs": [],
   "source": []
  },
  {
   "cell_type": "code",
   "execution_count": null,
   "metadata": {},
   "outputs": [],
   "source": []
  },
  {
   "cell_type": "markdown",
   "metadata": {},
   "source": [
    "# Dictionary properties:\n",
    "\n",
    "- Values are mapped to keys\n",
    "- Values are accessed by their corresponding key\n",
    "- Key are unique and are immutable\n",
    "- Multiple keys can have the same values, values can be anything (including mutable types like lists) \n",
    "- Values cannot exist without a key"
   ]
  },
  {
   "cell_type": "code",
   "execution_count": 34,
   "metadata": {},
   "outputs": [
    {
     "name": "stdout",
     "output_type": "stream",
     "text": [
      "[1, 3]\n"
     ]
    }
   ],
   "source": [
    "my_dict = {}\n",
    "\n",
    "a_list = [1,2,3]\n",
    "a_list.remove(2)   #list is mutable (change it's structure/contents)\n",
    "print(a_list)"
   ]
  },
  {
   "cell_type": "code",
   "execution_count": 35,
   "metadata": {},
   "outputs": [
    {
     "ename": "TypeError",
     "evalue": "unhashable type: 'list'",
     "output_type": "error",
     "traceback": [
      "\u001b[1;31m---------------------------------------------------------------------------\u001b[0m",
      "\u001b[1;31mTypeError\u001b[0m                                 Traceback (most recent call last)",
      "Cell \u001b[1;32mIn[35], line 4\u001b[0m\n\u001b[0;32m      1\u001b[0m my_dict \u001b[38;5;241m=\u001b[39m {}\n\u001b[0;32m      2\u001b[0m a_list \u001b[38;5;241m=\u001b[39m [\u001b[38;5;241m1\u001b[39m,\u001b[38;5;241m2\u001b[39m,\u001b[38;5;241m3\u001b[39m]\n\u001b[1;32m----> 4\u001b[0m \u001b[43mmy_dict\u001b[49m\u001b[43m[\u001b[49m\u001b[43m \u001b[49m\u001b[43ma_list\u001b[49m\u001b[43m \u001b[49m\u001b[43m]\u001b[49m \u001b[38;5;241m=\u001b[39m \u001b[38;5;124m\"\u001b[39m\u001b[38;5;124mone,two,three\u001b[39m\u001b[38;5;124m\"\u001b[39m\n",
      "\u001b[1;31mTypeError\u001b[0m: unhashable type: 'list'"
     ]
    }
   ],
   "source": [
    "my_dict = {}\n",
    "a_list = [1,2,3]\n",
    "\n",
    "my_dict[ a_list ] = \"one,two,three\"\n"
   ]
  },
  {
   "cell_type": "code",
   "execution_count": null,
   "metadata": {},
   "outputs": [],
   "source": []
  },
  {
   "cell_type": "code",
   "execution_count": null,
   "metadata": {},
   "outputs": [],
   "source": []
  },
  {
   "cell_type": "code",
   "execution_count": null,
   "metadata": {},
   "outputs": [],
   "source": []
  },
  {
   "cell_type": "code",
   "execution_count": null,
   "metadata": {},
   "outputs": [],
   "source": []
  },
  {
   "cell_type": "code",
   "execution_count": 36,
   "metadata": {},
   "outputs": [
    {
     "ename": "KeyError",
     "evalue": "'eight'",
     "output_type": "error",
     "traceback": [
      "\u001b[1;31m---------------------------------------------------------------------------\u001b[0m",
      "\u001b[1;31mKeyError\u001b[0m                                  Traceback (most recent call last)",
      "Cell \u001b[1;32mIn[36], line 11\u001b[0m\n\u001b[0;32m      1\u001b[0m \u001b[38;5;66;03m# Note that trying to access a key that doesn't exist will raise an error:\u001b[39;00m\n\u001b[0;32m      2\u001b[0m \u001b[38;5;66;03m# spanish_numbers[\"eight\"]  # raises KeyError\u001b[39;00m\n\u001b[0;32m      3\u001b[0m spanish_numbers \u001b[38;5;241m=\u001b[39m {\n\u001b[0;32m      4\u001b[0m     \u001b[38;5;124m\"\u001b[39m\u001b[38;5;124mone\u001b[39m\u001b[38;5;124m\"\u001b[39m: \u001b[38;5;124m\"\u001b[39m\u001b[38;5;124muno\u001b[39m\u001b[38;5;124m\"\u001b[39m,\n\u001b[0;32m      5\u001b[0m     \u001b[38;5;124m\"\u001b[39m\u001b[38;5;124mtwo\u001b[39m\u001b[38;5;124m\"\u001b[39m: \u001b[38;5;124m\"\u001b[39m\u001b[38;5;124mdos\u001b[39m\u001b[38;5;124m\"\u001b[39m,\n\u001b[1;32m   (...)\u001b[0m\n\u001b[0;32m      8\u001b[0m     \u001b[38;5;124m\"\u001b[39m\u001b[38;5;124mfive\u001b[39m\u001b[38;5;124m\"\u001b[39m: \u001b[38;5;124m\"\u001b[39m\u001b[38;5;124mcinco\u001b[39m\u001b[38;5;124m\"\u001b[39m\n\u001b[0;32m      9\u001b[0m }\n\u001b[1;32m---> 11\u001b[0m test \u001b[38;5;241m=\u001b[39m \u001b[43mspanish_numbers\u001b[49m\u001b[43m[\u001b[49m\u001b[38;5;124;43m\"\u001b[39;49m\u001b[38;5;124;43meight\u001b[39;49m\u001b[38;5;124;43m\"\u001b[39;49m\u001b[43m]\u001b[49m   \u001b[38;5;66;03m#uncomment and see error\u001b[39;00m\n",
      "\u001b[1;31mKeyError\u001b[0m: 'eight'"
     ]
    }
   ],
   "source": [
    "# Note that trying to access a key that doesn't exist will raise an error:\n",
    "# spanish_numbers[\"eight\"]  # raises KeyError\n",
    "spanish_numbers = {\n",
    "    \"one\": \"uno\",\n",
    "    \"two\": \"dos\",\n",
    "    \"three\": \"tres\",\n",
    "    \"four\": \"cuatro\",\n",
    "    \"five\": \"cinco\"\n",
    "}\n",
    "\n",
    "test = spanish_numbers[\"eight\"]   #uncomment and see error"
   ]
  },
  {
   "cell_type": "code",
   "execution_count": 38,
   "metadata": {},
   "outputs": [
    {
     "name": "stdout",
     "output_type": "stream",
     "text": [
      "None\n"
     ]
    }
   ],
   "source": [
    "spanish_numbers = {\n",
    "    \"one\": \"uno\",\n",
    "    \"two\": \"dos\",\n",
    "    \"three\": \"tres\",\n",
    "    \"four\": \"cuatro\",\n",
    "    \"five\": \"cinco\"\n",
    "}\n",
    "\n",
    "result = spanish_numbers.get(\"eight\") #non-exsiting key\n",
    "print(result)"
   ]
  },
  {
   "cell_type": "code",
   "execution_count": 40,
   "metadata": {},
   "outputs": [
    {
     "name": "stdout",
     "output_type": "stream",
     "text": [
      "unXXX\n"
     ]
    }
   ],
   "source": [
    "#get(): default-value: value you want back in case it doesn't exist\n",
    "result = spanish_numbers.get(\"eight\", \"unXXX\" ) \n",
    "print(result)"
   ]
  },
  {
   "cell_type": "code",
   "execution_count": null,
   "metadata": {},
   "outputs": [],
   "source": []
  },
  {
   "cell_type": "code",
   "execution_count": null,
   "metadata": {},
   "outputs": [],
   "source": []
  },
  {
   "cell_type": "code",
   "execution_count": null,
   "metadata": {},
   "outputs": [],
   "source": [
    "# The dict `.get()` method can be used to prevent a key error\n",
    "#   by providing a default value in the case the key doesn't exist\n",
    "\n",
    "check = \"eight\"\n",
    "returned = spanish_numbers.get(\"eight\", \"unknown\") #no KeyError (crash)\n",
    "print( returned )"
   ]
  },
  {
   "cell_type": "code",
   "execution_count": null,
   "metadata": {},
   "outputs": [],
   "source": []
  },
  {
   "cell_type": "code",
   "execution_count": null,
   "metadata": {},
   "outputs": [],
   "source": []
  },
  {
   "cell_type": "code",
   "execution_count": null,
   "metadata": {},
   "outputs": [],
   "source": []
  },
  {
   "cell_type": "code",
   "execution_count": null,
   "metadata": {},
   "outputs": [],
   "source": []
  },
  {
   "cell_type": "code",
   "execution_count": null,
   "metadata": {},
   "outputs": [],
   "source": []
  },
  {
   "cell_type": "code",
   "execution_count": null,
   "metadata": {},
   "outputs": [],
   "source": []
  },
  {
   "cell_type": "code",
   "execution_count": null,
   "metadata": {},
   "outputs": [],
   "source": [
    "# If we use the `.get()` method without a default value ( it defaults to None)\n",
    "print(spanish_numbers.get(\"eight\"))\n"
   ]
  },
  {
   "cell_type": "markdown",
   "metadata": {},
   "source": [
    "#### creating dictionaries... example Lunar New Year"
   ]
  },
  {
   "cell_type": "code",
   "execution_count": 42,
   "metadata": {},
   "outputs": [
    {
     "name": "stdout",
     "output_type": "stream",
     "text": [
      "{2023: 'Rabbit', 2024: 'Dragon', 2025: 'Snake', 2026: 'Horse', 2027: 'Goat', 2028: 'Monkey', 2029: 'Rooster', 2030: 'Dog', 2031: 'Pig', 2032: 'Rat', 2033: 'Ox', 2034: 'Tiger'}\n"
     ]
    }
   ],
   "source": [
    "#Example:\n",
    "# e.g. two same length lists\n",
    "years   = [2023, 2024, 2025, 2026, 2027, 2028, 2029, 2030, 2031, 2032, 2033, 2034]\n",
    "animals = ['Rabbit', 'Dragon','Snake','Horse', 'Goat', 'Monkey', 'Rooster', 'Dog', 'Pig', 'Rat', 'Ox', 'Tiger']\n",
    "\n",
    "# print( len(years), len(animals))  # will print 12, 12 (e.g. same length)\n",
    "\n",
    "lunar_new_year = {}\n",
    "\n",
    "for i in range(len(years)):\n",
    "    year = years[i]\n",
    "    animal = animals[i]\n",
    "    lunar_new_year[year] = animal\n",
    "\n",
    "print(lunar_new_year)"
   ]
  },
  {
   "cell_type": "code",
   "execution_count": 43,
   "metadata": {},
   "outputs": [
    {
     "name": "stdout",
     "output_type": "stream",
     "text": [
      "2023: the year of the :  Rabbit\n",
      "2028: the year of the :  Monkey\n"
     ]
    }
   ],
   "source": [
    "print (\"2023: the year of the : \", lunar_new_year[2023])\n",
    "print (\"2028: the year of the : \", lunar_new_year[2028])"
   ]
  },
  {
   "cell_type": "code",
   "execution_count": 47,
   "metadata": {},
   "outputs": [
    {
     "name": "stdout",
     "output_type": "stream",
     "text": [
      "(2023, 'Rabbit')\n",
      "(2024, 'Dragon')\n",
      "(2025, 'Snake')\n",
      "(2026, 'Horse')\n",
      "(2027, 'Goat')\n",
      "(2028, 'Monkey')\n",
      "(2029, 'Rooster')\n",
      "(2030, 'Dog')\n",
      "(2031, 'Pig')\n",
      "(2032, 'Rat')\n",
      "(2033, 'Ox')\n",
      "(2034, 'Tiger')\n"
     ]
    }
   ],
   "source": [
    "#another way:\n",
    "years   = [2023, 2024, 2025, 2026, 2027, 2028, 2029, 2030, 2031, 2032, 2033, 2034]\n",
    "animals = ['Rabbit', 'Dragon','Snake','Horse', 'Goat', 'Monkey', 'Rooster', 'Dog', 'Pig', 'Rat', 'Ox', 'Tiger']\n",
    "\n",
    "#zip() function\n",
    "result = zip( years, animals )\n",
    "for item in result:\n",
    "    print( item )"
   ]
  },
  {
   "cell_type": "code",
   "execution_count": 48,
   "metadata": {},
   "outputs": [
    {
     "name": "stdout",
     "output_type": "stream",
     "text": [
      "<class 'dict'>\n"
     ]
    }
   ],
   "source": [
    "print( type( {} ) )  #type of an empty dict"
   ]
  },
  {
   "cell_type": "code",
   "execution_count": 50,
   "metadata": {},
   "outputs": [
    {
     "name": "stdout",
     "output_type": "stream",
     "text": [
      "Help on built-in function fromkeys:\n",
      "\n",
      "fromkeys(iterable, value=None, /) method of builtins.type instance\n",
      "    Create a new dictionary with keys from iterable and values set to value.\n",
      "\n"
     ]
    }
   ],
   "source": [
    "# dir(dict)\n",
    "# help( dict.fromkeys )"
   ]
  },
  {
   "cell_type": "code",
   "execution_count": 51,
   "metadata": {},
   "outputs": [
    {
     "name": "stdout",
     "output_type": "stream",
     "text": [
      "{} <class 'dict'>\n"
     ]
    }
   ],
   "source": [
    "my_dict = dict()\n",
    "print( my_dict, type(my_dict) )"
   ]
  },
  {
   "cell_type": "code",
   "execution_count": 52,
   "metadata": {},
   "outputs": [
    {
     "name": "stdout",
     "output_type": "stream",
     "text": [
      "{2023: 'Rabbit', 2024: 'Dragon', 2025: 'Snake', 2026: 'Horse', 2027: 'Goat', 2028: 'Monkey', 2029: 'Rooster', 2030: 'Dog', 2031: 'Pig', 2032: 'Rat', 2033: 'Ox', 2034: 'Tiger'}\n",
      "<class 'dict'>\n"
     ]
    }
   ],
   "source": [
    "years   = [2023, 2024, 2025, 2026, 2027, 2028, 2029, 2030, 2031, 2032, 2033, 2034]\n",
    "animals = ['Rabbit', 'Dragon','Snake','Horse', 'Goat', 'Monkey', 'Rooster', 'Dog', 'Pig', 'Rat', 'Ox', 'Tiger']\n",
    "\n",
    "#zip() function\n",
    "result = dict( zip( years, animals ) )\n",
    "print(result)\n",
    "print(type(result))"
   ]
  },
  {
   "cell_type": "code",
   "execution_count": null,
   "metadata": {},
   "outputs": [],
   "source": []
  },
  {
   "cell_type": "code",
   "execution_count": null,
   "metadata": {},
   "outputs": [],
   "source": []
  },
  {
   "cell_type": "code",
   "execution_count": null,
   "metadata": {},
   "outputs": [],
   "source": []
  },
  {
   "cell_type": "code",
   "execution_count": null,
   "metadata": {},
   "outputs": [],
   "source": []
  },
  {
   "cell_type": "code",
   "execution_count": null,
   "metadata": {},
   "outputs": [],
   "source": []
  },
  {
   "cell_type": "code",
   "execution_count": 53,
   "metadata": {},
   "outputs": [
    {
     "name": "stdout",
     "output_type": "stream",
     "text": [
      "before: lunar_new_year={2023: 'Rabbit', 2024: 'Dragon', 2025: 'Snake', 2026: 'Horse'}\n",
      " after: lunar_new_year={2023: 'Rabbit', 2024: 'Dragon', 2025: 'Snake', 2026: 'Horse', 2027: 'Goat', 2028: 'Monkey', 2029: 'Rooster', 2030: 'Dog'}\n"
     ]
    }
   ],
   "source": [
    "#the .update( :dict )\n",
    "lunar_new_year = {2023: 'Rabbit', 2024: 'Dragon', 2025: 'Snake', 2026: 'Horse'} \n",
    "print(f\"before: {lunar_new_year=}\")\n",
    "lunar_new_year.update( {2027: 'Goat', 2028: 'Monkey', 2029: 'Rooster', 2030: 'Dog'} )\n",
    "print(f\" after: {lunar_new_year=}\")"
   ]
  },
  {
   "cell_type": "code",
   "execution_count": 54,
   "metadata": {},
   "outputs": [
    {
     "name": "stdout",
     "output_type": "stream",
     "text": [
      "{2023: 'Rabbit', 2024: 'Dragon', 2025: 'Snake', 2026: 'Horse', 2035: 'Rabbit'}\n"
     ]
    }
   ],
   "source": [
    "#the .update() - adding an entry with a single dict-item as a dict itself\n",
    "\n",
    "lunar_new_year = {2023: 'Rabbit', 2024: 'Dragon', 2025: 'Snake', 2026: 'Horse'} \n",
    "lunar_new_year.update( {2035 : 'Rabbit'} )\n",
    "\n",
    "print(lunar_new_year)"
   ]
  },
  {
   "cell_type": "code",
   "execution_count": null,
   "metadata": {},
   "outputs": [],
   "source": []
  },
  {
   "cell_type": "code",
   "execution_count": null,
   "metadata": {},
   "outputs": [],
   "source": []
  },
  {
   "cell_type": "code",
   "execution_count": 55,
   "metadata": {},
   "outputs": [
    {
     "name": "stdout",
     "output_type": "stream",
     "text": [
      "before: lunar_new_year={2023: 'Rabbit', 2024: 'Dragon', 2025: 'Snake', 2026: 'Horse'}\n",
      " after bad insert: lunar_new_year={2023: 'Rabbit', 2024: 'Dragon', 2025: 'Snake', 2026: 'Horse', 2022: 'Salmon'}\n",
      " after pop: lunar_new_year={2023: 'Rabbit', 2024: 'Dragon', 2025: 'Snake', 2026: 'Horse'}\n",
      "Salmon\n"
     ]
    }
   ],
   "source": [
    "#the .pop( )\n",
    "lunar_new_year = {2023: 'Rabbit', 2024: 'Dragon', 2025: 'Snake', 2026: 'Horse'} \n",
    "print(f\"before: {lunar_new_year=}\")\n",
    "lunar_new_year[ 2022 ] = 'Salmon'\n",
    "print(f\" after bad insert: {lunar_new_year=}\")\n",
    "\n",
    "# print(\"\\n\\n\",'*'*50)\n",
    "# print(\"removing: joke value\")\n",
    "returned = lunar_new_year.pop(2022)\n",
    "print(f\" after pop: {lunar_new_year=}\")\n",
    "print ( returned )\n"
   ]
  },
  {
   "cell_type": "code",
   "execution_count": null,
   "metadata": {},
   "outputs": [],
   "source": []
  },
  {
   "cell_type": "code",
   "execution_count": null,
   "metadata": {},
   "outputs": [],
   "source": []
  },
  {
   "cell_type": "code",
   "execution_count": null,
   "metadata": {},
   "outputs": [],
   "source": []
  },
  {
   "cell_type": "code",
   "execution_count": null,
   "metadata": {},
   "outputs": [],
   "source": []
  },
  {
   "cell_type": "code",
   "execution_count": 56,
   "metadata": {},
   "outputs": [
    {
     "name": "stdout",
     "output_type": "stream",
     "text": [
      "{2023: 'Rabbit', 2024: 'Dragon', 2025: 'Snake', 2026: 'Horse'}\n",
      "2023: Rabbit\n",
      "2024: Dragon\n",
      "2025: Snake\n",
      "2026: Horse\n"
     ]
    }
   ],
   "source": [
    "#A nicer print than the default with\n",
    "# for key, value ... items()\n",
    "\n",
    "lunar_new_year = {2023: 'Rabbit', 2024: 'Dragon', 2025: 'Snake', 2026: 'Horse'} \n",
    "print( lunar_new_year )\n",
    "for key, value in lunar_new_year.items():\n",
    "    print(f\"{key}: {value}\")"
   ]
  },
  {
   "cell_type": "code",
   "execution_count": null,
   "metadata": {},
   "outputs": [],
   "source": []
  },
  {
   "cell_type": "code",
   "execution_count": null,
   "metadata": {},
   "outputs": [],
   "source": []
  },
  {
   "cell_type": "code",
   "execution_count": null,
   "metadata": {},
   "outputs": [],
   "source": []
  },
  {
   "cell_type": "code",
   "execution_count": null,
   "metadata": {},
   "outputs": [],
   "source": []
  },
  {
   "cell_type": "code",
   "execution_count": null,
   "metadata": {},
   "outputs": [],
   "source": []
  },
  {
   "cell_type": "code",
   "execution_count": null,
   "metadata": {},
   "outputs": [],
   "source": []
  },
  {
   "cell_type": "code",
   "execution_count": null,
   "metadata": {},
   "outputs": [],
   "source": []
  },
  {
   "cell_type": "code",
   "execution_count": null,
   "metadata": {},
   "outputs": [],
   "source": []
  },
  {
   "cell_type": "code",
   "execution_count": 58,
   "metadata": {},
   "outputs": [
    {
     "name": "stdout",
     "output_type": "stream",
     "text": [
      "Help on built-in function fromkeys:\n",
      "\n",
      "fromkeys(iterable, value=None, /) method of builtins.type instance\n",
      "    Create a new dictionary with keys from iterable and values set to value.\n",
      "\n"
     ]
    }
   ],
   "source": [
    "#What else can we do:\n",
    "# dir(dict) # uncomment, run and explore with help(dict.popitem), for example\n",
    "dir(dict)\n",
    "help(dict.fromkeys)"
   ]
  },
  {
   "cell_type": "code",
   "execution_count": null,
   "metadata": {},
   "outputs": [],
   "source": [
    "# create a toy dict for play\n",
    "# use the method of the dict that you discovered from help(dict.fromkeys) \n",
    "#   (fromkeys as an example)"
   ]
  },
  {
   "cell_type": "code",
   "execution_count": 71,
   "metadata": {},
   "outputs": [
    {
     "name": "stdout",
     "output_type": "stream",
     "text": [
      "Help on built-in function fromkeys:\n",
      "\n",
      "fromkeys(iterable, value=None, /) method of builtins.type instance\n",
      "    Create a new dictionary with keys from iterable and values set to value.\n",
      "\n"
     ]
    }
   ],
   "source": [
    "# dir(dict)\n",
    "help(dict.fromkeys)"
   ]
  },
  {
   "cell_type": "code",
   "execution_count": 74,
   "metadata": {},
   "outputs": [
    {
     "name": "stdout",
     "output_type": "stream",
     "text": [
      "abcdefghijklmnopqrstuvwxyz\n",
      "{1: 0, 2: 0, 3: 0}\n"
     ]
    }
   ],
   "source": [
    "import string\n",
    "# dir(string)\n",
    "print( string.ascii_lowercase )\n",
    "\n",
    "a_list = [1,2,3]\n",
    "result = dict.fromkeys(a_list, 0)\n",
    "print(result)\n"
   ]
  },
  {
   "cell_type": "code",
   "execution_count": 80,
   "metadata": {},
   "outputs": [
    {
     "name": "stdout",
     "output_type": "stream",
     "text": [
      "{'a': 0, 'b': 0, 'c': 0, 'd': 0, 'e': 0, 'f': 0, 'g': 0, 'h': 0, 'i': 0, 'j': 0, 'k': 0, 'l': 0, 'm': 0, 'n': 0, 'o': 0, 'p': 0, 'q': 0, 'r': 0, 's': 0, 't': 0, 'u': 0, 'v': 0, 'w': 0, 'x': 0, 'y': 0, 'z': 0}\n",
      "0\n",
      "1\n"
     ]
    }
   ],
   "source": [
    "import string\n",
    "\n",
    "list_alphabet = list( string.ascii_lowercase )\n",
    "count_of_letters_dict = dict.fromkeys(list_alphabet, 0)\n",
    "print(count_of_letters_dict)\n",
    "\n",
    "text = \"abba cdd\"\n",
    "#How to get a count of all the a/b/c etc. in that string\n",
    "char = text[0]      #test value of the string\n",
    "print(count_of_letters_dict[char]) #expect 0\n",
    "\n",
    "#how to add to it?\n",
    "count_of_letters_dict[char] = 1\n",
    "print(count_of_letters_dict[char])\n"
   ]
  },
  {
   "cell_type": "code",
   "execution_count": 6,
   "metadata": {},
   "outputs": [
    {
     "name": "stdout",
     "output_type": "stream",
     "text": [
      "{'a': 0, 'b': 0, 'c': 0, 'd': 0, 'e': 0, 'f': 0, 'g': 0, 'h': 0, 'i': 0, 'j': 0, 'k': 0, 'l': 0, 'm': 0, 'n': 0, 'o': 0, 'p': 0, 'q': 0, 'r': 0, 's': 0, 't': 0, 'u': 0, 'v': 0, 'w': 0, 'x': 0, 'y': 0, 'z': 0}\n",
      "{'a': 2, 'b': 2, 'c': 1, 'd': 2, 'e': 0, 'f': 0, 'g': 0, 'h': 0, 'i': 0, 'j': 0, 'k': 0, 'l': 0, 'm': 0, 'n': 0, 'o': 0, 'p': 0, 'q': 0, 'r': 0, 's': 0, 't': 0, 'u': 0, 'v': 0, 'w': 0, 'x': 0, 'y': 0, 'z': 0}\n"
     ]
    }
   ],
   "source": [
    "import string\n",
    "\n",
    "list_alphabet = list( string.ascii_lowercase )\n",
    "count_of_letters_dict = dict.fromkeys(list_alphabet, 0)\n",
    "print(count_of_letters_dict)\n",
    "text = \"abb acdd\"\n",
    "\n",
    "for letter in text:\n",
    "    if letter != \" \":       #better use isalpha() from string\n",
    "        count_of_letters_dict[letter]+=1\n",
    "\n",
    "print(count_of_letters_dict)"
   ]
  },
  {
   "cell_type": "code",
   "execution_count": null,
   "metadata": {},
   "outputs": [],
   "source": []
  },
  {
   "cell_type": "code",
   "execution_count": null,
   "metadata": {},
   "outputs": [],
   "source": []
  },
  {
   "cell_type": "code",
   "execution_count": null,
   "metadata": {},
   "outputs": [],
   "source": []
  },
  {
   "cell_type": "code",
   "execution_count": null,
   "metadata": {},
   "outputs": [],
   "source": []
  },
  {
   "cell_type": "code",
   "execution_count": 63,
   "metadata": {},
   "outputs": [
    {
     "name": "stdout",
     "output_type": "stream",
     "text": [
      "abcdefghijklmnopqrstuvwxyzABCDEFGHIJKLMNOPQRSTUVWXYZ\n",
      "{'a': None, 'b': None, 'c': None, 'd': None, 'e': None, 'f': None, 'g': None, 'h': None, 'i': None, 'j': None, 'k': None, 'l': None, 'm': None, 'n': None, 'o': None, 'p': None, 'q': None, 'r': None, 's': None, 't': None, 'u': None, 'v': None, 'w': None, 'x': None, 'y': None, 'z': None, 'A': None, 'B': None, 'C': None, 'D': None, 'E': None, 'F': None, 'G': None, 'H': None, 'I': None, 'J': None, 'K': None, 'L': None, 'M': None, 'N': None, 'O': None, 'P': None, 'Q': None, 'R': None, 'S': None, 'T': None, 'U': None, 'V': None, 'W': None, 'X': None, 'Y': None, 'Z': None}\n"
     ]
    }
   ],
   "source": [
    "#dict.fromkeys() example...\n",
    "\n",
    "import string\n",
    "# help(string)\n",
    "print( string.ascii_letters )\n",
    "alphabet = list( string.ascii_letters )\n",
    "\n",
    "a_dict = dict.fromkeys(alphabet)\n",
    "print(a_dict)"
   ]
  },
  {
   "cell_type": "code",
   "execution_count": null,
   "metadata": {},
   "outputs": [],
   "source": []
  },
  {
   "cell_type": "code",
   "execution_count": null,
   "metadata": {},
   "outputs": [],
   "source": []
  },
  {
   "cell_type": "code",
   "execution_count": null,
   "metadata": {},
   "outputs": [],
   "source": []
  },
  {
   "cell_type": "code",
   "execution_count": null,
   "metadata": {},
   "outputs": [],
   "source": []
  },
  {
   "cell_type": "code",
   "execution_count": null,
   "metadata": {},
   "outputs": [],
   "source": []
  },
  {
   "cell_type": "code",
   "execution_count": null,
   "metadata": {},
   "outputs": [],
   "source": []
  },
  {
   "cell_type": "code",
   "execution_count": null,
   "metadata": {},
   "outputs": [],
   "source": []
  },
  {
   "cell_type": "code",
   "execution_count": null,
   "metadata": {},
   "outputs": [],
   "source": []
  },
  {
   "cell_type": "code",
   "execution_count": null,
   "metadata": {},
   "outputs": [],
   "source": []
  },
  {
   "cell_type": "code",
   "execution_count": 125,
   "metadata": {},
   "outputs": [
    {
     "name": "stdout",
     "output_type": "stream",
     "text": [
      "q1answer\n"
     ]
    }
   ],
   "source": [
    "\"\"\" \n",
    "Question at break: \n",
    "{\n",
    "        questions:\n",
    "            \"question\" : \"answer\",\n",
    "            \"question\" : \"answer\",\n",
    "        invalidQuestions: \n",
    "            \"question\" : \"answer\",\n",
    "            \"question\" : \"answer\",      \n",
    "    }\n",
    "\"\"\"\n",
    "\n",
    "question_bank = {\n",
    "             \"questions\": { \"q1\":\"q1answer\",   \"q2\":\"q2answer\" }\n",
    "    ,\"invalid_questions\": {\"eq1\":\"eq1answer\", \"eq2\":\"eq2answer\" }\n",
    "}\n",
    "\n",
    "print( question_bank[\"questions\"][\"q1\"] )#give back q1 answer"
   ]
  },
  {
   "cell_type": "code",
   "execution_count": null,
   "metadata": {},
   "outputs": [],
   "source": []
  },
  {
   "cell_type": "markdown",
   "metadata": {},
   "source": [
    "# Sets\n",
    "Sets are like lists, but where the order doesn't matter.\n",
    "\n",
    "Without order, we cannot index or slice a set at all.\n",
    "\n",
    "This also means there cannot be duplicates - adding the same value a second time will be ignored."
   ]
  },
  {
   "cell_type": "code",
   "execution_count": 85,
   "metadata": {},
   "outputs": [
    {
     "name": "stdout",
     "output_type": "stream",
     "text": [
      "{1, 2, 3, 5, 6}\n"
     ]
    }
   ],
   "source": [
    "nums = [1, 3, 5, 2, 3, 5, 1, 6]\n",
    "num_set = set(nums)\n",
    "print(num_set)"
   ]
  },
  {
   "cell_type": "code",
   "execution_count": null,
   "metadata": {},
   "outputs": [],
   "source": []
  },
  {
   "cell_type": "code",
   "execution_count": null,
   "metadata": {},
   "outputs": [],
   "source": []
  },
  {
   "cell_type": "code",
   "execution_count": null,
   "metadata": {},
   "outputs": [],
   "source": []
  },
  {
   "cell_type": "code",
   "execution_count": null,
   "metadata": {},
   "outputs": [],
   "source": []
  },
  {
   "cell_type": "code",
   "execution_count": null,
   "metadata": {},
   "outputs": [],
   "source": []
  },
  {
   "cell_type": "code",
   "execution_count": null,
   "metadata": {},
   "outputs": [],
   "source": []
  },
  {
   "cell_type": "code",
   "execution_count": 101,
   "metadata": {},
   "outputs": [
    {
     "name": "stdout",
     "output_type": "stream",
     "text": [
      "1\n",
      "2\n",
      "3\n",
      "5\n",
      "6\n",
      "set()\n"
     ]
    }
   ],
   "source": [
    "nums = [1, 3, 5, 2, 3, 5, 1, 6]\n",
    "num_set = set(nums)\n",
    "\n",
    "# give_error = num_set[0]  #what will happen?\n",
    "\n",
    "while len(num_set) > 0:\n",
    "    result = num_set.pop()\n",
    "    print(result)\n",
    "\n",
    "# result = num_set.remove(5)\n",
    "# print(result)\n",
    "print(num_set)\n",
    "# dir(set)\n",
    "# help(set.remove)\n",
    "# help(set.pop)\n"
   ]
  },
  {
   "cell_type": "code",
   "execution_count": null,
   "metadata": {},
   "outputs": [],
   "source": []
  },
  {
   "cell_type": "code",
   "execution_count": null,
   "metadata": {},
   "outputs": [],
   "source": []
  },
  {
   "cell_type": "code",
   "execution_count": null,
   "metadata": {},
   "outputs": [],
   "source": []
  },
  {
   "cell_type": "code",
   "execution_count": null,
   "metadata": {},
   "outputs": [],
   "source": []
  },
  {
   "cell_type": "code",
   "execution_count": null,
   "metadata": {},
   "outputs": [],
   "source": []
  },
  {
   "cell_type": "code",
   "execution_count": null,
   "metadata": {},
   "outputs": [],
   "source": []
  },
  {
   "cell_type": "code",
   "execution_count": 102,
   "metadata": {},
   "outputs": [
    {
     "name": "stdout",
     "output_type": "stream",
     "text": [
      "{'s', 'l', 'n', 'U', 'e', 'a', 'o', ' ', 't', 'i', '.', 'w', 'd', 'f', 'h', 'r'}\n"
     ]
    }
   ],
   "source": [
    "some_text = \"Under the shade of the willow tree.\"\n",
    "set_text = set(some_text)\n",
    "print( set_text )"
   ]
  },
  {
   "cell_type": "code",
   "execution_count": null,
   "metadata": {},
   "outputs": [],
   "source": []
  },
  {
   "cell_type": "code",
   "execution_count": null,
   "metadata": {},
   "outputs": [],
   "source": []
  },
  {
   "cell_type": "code",
   "execution_count": null,
   "metadata": {},
   "outputs": [],
   "source": []
  },
  {
   "cell_type": "code",
   "execution_count": null,
   "metadata": {},
   "outputs": [],
   "source": []
  },
  {
   "cell_type": "code",
   "execution_count": null,
   "metadata": {},
   "outputs": [],
   "source": []
  },
  {
   "cell_type": "code",
   "execution_count": 103,
   "metadata": {},
   "outputs": [
    {
     "name": "stdout",
     "output_type": "stream",
     "text": [
      "{'banana', 'apricot', 'apple', 'mango'}\n"
     ]
    }
   ],
   "source": [
    "# We create sets similarly to lists, but with curly braces (just like dicts):\n",
    "fruits = {\"apple\", \"banana\", \"apricot\"}\n",
    "\n",
    "# We can add an item with `.add()`:\n",
    "fruits.add(\"mango\")\n",
    "print(fruits)\n",
    "\n"
   ]
  },
  {
   "cell_type": "code",
   "execution_count": 105,
   "metadata": {},
   "outputs": [
    {
     "name": "stdout",
     "output_type": "stream",
     "text": [
      "{'banana', 'apricot', 'apple', 'mango'}\n",
      "{'banana', 'apricot', 'apple', 'mango'}\n"
     ]
    }
   ],
   "source": [
    "# Quiz - what would happen if we repeat this?\n",
    "print(fruits)\n",
    "fruits.add(\"mango\")\n",
    "print(fruits)"
   ]
  },
  {
   "cell_type": "code",
   "execution_count": null,
   "metadata": {},
   "outputs": [],
   "source": []
  },
  {
   "cell_type": "code",
   "execution_count": null,
   "metadata": {},
   "outputs": [],
   "source": []
  },
  {
   "cell_type": "code",
   "execution_count": null,
   "metadata": {},
   "outputs": [],
   "source": []
  },
  {
   "cell_type": "code",
   "execution_count": null,
   "metadata": {},
   "outputs": [],
   "source": []
  },
  {
   "cell_type": "code",
   "execution_count": null,
   "metadata": {},
   "outputs": [],
   "source": []
  },
  {
   "cell_type": "code",
   "execution_count": null,
   "metadata": {},
   "outputs": [],
   "source": []
  },
  {
   "cell_type": "code",
   "execution_count": 107,
   "metadata": {},
   "outputs": [
    {
     "name": "stdout",
     "output_type": "stream",
     "text": [
      "None\n",
      "{'banana', 'apricot', 'apple'}\n"
     ]
    }
   ],
   "source": [
    "# We can remove an item with `.remove()`\n",
    "fruits = {\"apple\", \"banana\", \"apricot\", \"mango\"}\n",
    "\n",
    "fruits.remove(\"mango\")\n",
    "# print( fruits.remove(\"mango\") )  #returns None\n",
    "\n",
    "print(fruits)\n",
    "\n"
   ]
  },
  {
   "cell_type": "code",
   "execution_count": null,
   "metadata": {},
   "outputs": [],
   "source": []
  },
  {
   "cell_type": "code",
   "execution_count": null,
   "metadata": {},
   "outputs": [],
   "source": []
  },
  {
   "cell_type": "code",
   "execution_count": null,
   "metadata": {},
   "outputs": [],
   "source": []
  },
  {
   "cell_type": "markdown",
   "metadata": {},
   "source": [
    "#### `.remove()` VS `.discard()` "
   ]
  },
  {
   "cell_type": "code",
   "execution_count": 109,
   "metadata": {},
   "outputs": [],
   "source": [
    "#Compare .remove()\n",
    "fruits = {\"apple\", \"banana\", \"apricot\"}\n",
    "# fruits.remove(\"mango\")\n"
   ]
  },
  {
   "cell_type": "code",
   "execution_count": 110,
   "metadata": {},
   "outputs": [],
   "source": [
    "# with .discard() \n",
    "fruits = {\"apple\", \"banana\", \"apricot\"}\n",
    "fruits.discard(\"mango\") #no key error"
   ]
  },
  {
   "cell_type": "code",
   "execution_count": 111,
   "metadata": {},
   "outputs": [
    {
     "name": "stdout",
     "output_type": "stream",
     "text": [
      "Help on method_descriptor:\n",
      "\n",
      "discard(...)\n",
      "    Remove an element from a set if it is a member.\n",
      "    \n",
      "    Unlike set.remove(), the discard() method does not raise\n",
      "    an exception when an element is missing from the set.\n",
      "\n"
     ]
    }
   ],
   "source": [
    "# do a help(set.discard) and a help(set.remove)\n",
    "# help(set.discard)\n",
    "# help(set.remove)"
   ]
  },
  {
   "cell_type": "code",
   "execution_count": null,
   "metadata": {},
   "outputs": [],
   "source": []
  },
  {
   "cell_type": "code",
   "execution_count": null,
   "metadata": {},
   "outputs": [],
   "source": []
  },
  {
   "cell_type": "code",
   "execution_count": null,
   "metadata": {},
   "outputs": [],
   "source": []
  },
  {
   "cell_type": "markdown",
   "metadata": {},
   "source": [
    "#### set membership with `in`"
   ]
  },
  {
   "cell_type": "code",
   "execution_count": 112,
   "metadata": {},
   "outputs": [
    {
     "name": "stdout",
     "output_type": "stream",
     "text": [
      "True\n",
      "False\n"
     ]
    }
   ],
   "source": [
    "# 'membership' of a set with `in`\n",
    "# a set: 'fruits'\n",
    "fruits = {\"apple\", \"orange\", \"banana\", \"grape\"}\n",
    "\n",
    "# Check if \"apple\" and \"cucumber\" are in the set\n",
    "print(   \"apple\" in fruits)     # True\n",
    "print(\"cucumber\" in fruits)     # False\n"
   ]
  },
  {
   "cell_type": "code",
   "execution_count": null,
   "metadata": {},
   "outputs": [],
   "source": []
  },
  {
   "cell_type": "code",
   "execution_count": null,
   "metadata": {},
   "outputs": [],
   "source": []
  },
  {
   "cell_type": "code",
   "execution_count": null,
   "metadata": {},
   "outputs": [],
   "source": []
  },
  {
   "cell_type": "code",
   "execution_count": null,
   "metadata": {},
   "outputs": [],
   "source": []
  },
  {
   "cell_type": "markdown",
   "metadata": {},
   "source": [
    "#### set `update()` with another set or iterable"
   ]
  },
  {
   "cell_type": "code",
   "execution_count": 113,
   "metadata": {},
   "outputs": [
    {
     "name": "stdout",
     "output_type": "stream",
     "text": [
      ".update() updates the current set adding <no-duplicates> \n",
      "{1, 2, 3, 4, 6, 8}\n"
     ]
    }
   ],
   "source": [
    "x = {1,2,3,4}\n",
    "y = {2,4,6,8}\n",
    "print(\".update() updates the current set adding <no-duplicates> \")\n",
    "x.update(y)\n",
    "print(x)"
   ]
  },
  {
   "cell_type": "code",
   "execution_count": 114,
   "metadata": {},
   "outputs": [
    {
     "name": "stdout",
     "output_type": "stream",
     "text": [
      "{1, 2, 3, 4, 'a', 'c', 'b', 'd'}\n"
     ]
    }
   ],
   "source": [
    "# Also works with any other iterable.\n",
    "x = {1,2,3,4}\n",
    "x.update(\"abcd\")\n",
    "print(x)"
   ]
  },
  {
   "cell_type": "code",
   "execution_count": null,
   "metadata": {},
   "outputs": [],
   "source": []
  },
  {
   "cell_type": "code",
   "execution_count": null,
   "metadata": {},
   "outputs": [],
   "source": []
  },
  {
   "cell_type": "code",
   "execution_count": null,
   "metadata": {},
   "outputs": [],
   "source": []
  },
  {
   "cell_type": "markdown",
   "metadata": {},
   "source": [
    "#### union and intersection with `|` and `&`\n",
    "> but do a `dir(set)` also"
   ]
  },
  {
   "cell_type": "code",
   "execution_count": 115,
   "metadata": {},
   "outputs": [
    {
     "name": "stdout",
     "output_type": "stream",
     "text": [
      "{1, 2, 3, 4, 6, 8}\n",
      "{2, 4}\n"
     ]
    }
   ],
   "source": [
    "# Sets in Python are modelled after sets in maths, and support the union and intersection operations:\n",
    "small_integers = {1, 2, 3, 4}\n",
    "even_integers  = {2, 4, 6, 8}\n",
    "\n",
    "union = small_integers | even_integers  # Note the pipe symbol\n",
    "print(union)  # The union is the set of elements in EITHER of the two original sets\n",
    "\n",
    "intersection = small_integers & even_integers  # Note the ampersand (and) symbol\n",
    "print(intersection)  # The intersection is the set of elements in BOTh of the two original sets"
   ]
  },
  {
   "cell_type": "code",
   "execution_count": 117,
   "metadata": {},
   "outputs": [],
   "source": [
    "# dir(set)"
   ]
  },
  {
   "cell_type": "code",
   "execution_count": null,
   "metadata": {},
   "outputs": [],
   "source": [
    "#What else can we do:\n",
    "# dir(set) # uncomment, run and explore with help(set.update), for example"
   ]
  },
  {
   "cell_type": "code",
   "execution_count": 124,
   "metadata": {},
   "outputs": [
    {
     "name": "stdout",
     "output_type": "stream",
     "text": [
      "a\n",
      "('a', [1, 9, 3], 'text')\n",
      "('a', [1, 9], 'text')\n"
     ]
    }
   ],
   "source": [
    "# \"mutable\" concept\n",
    "\n",
    "test = \"abcd\"\n",
    "print( test[0] )   #read it\n",
    "# test[0] = x       #can't write to it\n",
    "\n",
    "#tuple: but...\n",
    "tup = (\"a\", [1,2,3], \"text\")\n",
    "#immutable but...\n",
    "# tup[1] = [4,5,6]  #error\n",
    "tup[1][1] = 9       #fine because the 'list' at tup[1] is a mutable\n",
    "print(tup)\n",
    "tup[1].remove(3)\n",
    "print(tup)"
   ]
  },
  {
   "cell_type": "code",
   "execution_count": null,
   "metadata": {},
   "outputs": [],
   "source": []
  },
  {
   "cell_type": "code",
   "execution_count": null,
   "metadata": {},
   "outputs": [],
   "source": []
  },
  {
   "cell_type": "code",
   "execution_count": null,
   "metadata": {},
   "outputs": [],
   "source": []
  },
  {
   "cell_type": "code",
   "execution_count": null,
   "metadata": {},
   "outputs": [],
   "source": []
  },
  {
   "cell_type": "code",
   "execution_count": null,
   "metadata": {},
   "outputs": [],
   "source": []
  }
 ],
 "metadata": {
  "kernelspec": {
   "display_name": "Python 3",
   "language": "python",
   "name": "python3"
  },
  "language_info": {
   "codemirror_mode": {
    "name": "ipython",
    "version": 3
   },
   "file_extension": ".py",
   "mimetype": "text/x-python",
   "name": "python",
   "nbconvert_exporter": "python",
   "pygments_lexer": "ipython3",
   "version": "3.11.4"
  }
 },
 "nbformat": 4,
 "nbformat_minor": 2
}
