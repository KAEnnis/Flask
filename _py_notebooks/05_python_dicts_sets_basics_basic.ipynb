{
 "cells": [
  {
   "cell_type": "markdown",
   "metadata": {},
   "source": [
    "# Dict (Dictionary)\n",
    "\n",
    "Similar to actual dictionaries\n",
    "\n",
    "Dictionaries can be thought of as being composed of two lists combined – a list of keys and a list values:\n",
    "\n",
    "|   keys  |    values   |\n",
    "|:-------:|:-----------:|\n",
    "|   one   |     uno     |\n",
    "|   two   |     dos     |\n",
    "|  three  |    tres     |\n",
    "|  four   |   cuatro    |\n",
    "|  five   |   cinco     |\n"
   ]
  },
  {
   "cell_type": "code",
   "execution_count": null,
   "metadata": {},
   "outputs": [],
   "source": [
    "# Declare a list with English number words\n",
    "numbers = [\"one\", \"two\", \"three\", \"four\", \"five\"]\n",
    "\n",
    "# Declare a dictionary mapping English numbers to Spanish numbers\n",
    "spanish_numbers = {\n",
    "    \"one\": \"uno\",\n",
    "    \"two\": \"dos\",\n",
    "    \"three\": \"tres\",\n",
    "    \"four\": \"cuatro\",\n",
    "    \"five\": \"cinco\"\n",
    "}\n",
    "\n",
    "# Print the spanish_numbers_dict\n",
    "print( spanish_numbers )\n",
    "# Print the spanish for one\n",
    "print(spanish_numbers[\"one\"])\n"
   ]
  },
  {
   "cell_type": "code",
   "execution_count": null,
   "metadata": {},
   "outputs": [],
   "source": []
  },
  {
   "cell_type": "code",
   "execution_count": null,
   "metadata": {},
   "outputs": [],
   "source": []
  },
  {
   "cell_type": "code",
   "execution_count": null,
   "metadata": {},
   "outputs": [],
   "source": []
  },
  {
   "cell_type": "code",
   "execution_count": null,
   "metadata": {},
   "outputs": [],
   "source": [
    "#  Dict: keys, values and items\n",
    "spanish_numbers = {\n",
    "    \"one\": \"uno\",\n",
    "    \"two\": \"dos\",\n",
    "    \"three\": \"tres\",\n",
    "    \"four\": \"cuatro\",\n",
    "    \"five\": \"cinco\"\n",
    "}\n",
    "\n",
    "print( spanish_numbers.keys() )\n",
    "\n"
   ]
  },
  {
   "cell_type": "code",
   "execution_count": null,
   "metadata": {},
   "outputs": [],
   "source": [
    "print( spanish_numbers.values() )"
   ]
  },
  {
   "cell_type": "code",
   "execution_count": null,
   "metadata": {},
   "outputs": [],
   "source": [
    "print( spanish_numbers.items() )"
   ]
  },
  {
   "cell_type": "code",
   "execution_count": null,
   "metadata": {},
   "outputs": [],
   "source": []
  },
  {
   "cell_type": "code",
   "execution_count": null,
   "metadata": {},
   "outputs": [],
   "source": []
  },
  {
   "cell_type": "code",
   "execution_count": null,
   "metadata": {},
   "outputs": [],
   "source": []
  },
  {
   "cell_type": "code",
   "execution_count": null,
   "metadata": {},
   "outputs": [],
   "source": []
  },
  {
   "cell_type": "code",
   "execution_count": null,
   "metadata": {},
   "outputs": [],
   "source": []
  },
  {
   "cell_type": "code",
   "execution_count": null,
   "metadata": {},
   "outputs": [],
   "source": [
    "# We can add new values by just assigning to them\n",
    "# NOTE: if the key already exists, the value will be overwritten\n",
    "spanish_numbers = {\n",
    "    \"one\": \"uno\",\n",
    "    \"two\": \"dos\",\n",
    "    \"three\": \"tres\",\n",
    "    \"four\": \"cuatro\",\n",
    "    \"five\": \"cinco\"\n",
    "}\n",
    "\n",
    "print(f\"before: {spanish_numbers}\")\n",
    "spanish_numbers[\"two\"] = \"dos actualizado\"      # Update the value of an existing key\n",
    "print(f\" after: {spanish_numbers}\")"
   ]
  },
  {
   "cell_type": "code",
   "execution_count": null,
   "metadata": {},
   "outputs": [],
   "source": []
  },
  {
   "cell_type": "code",
   "execution_count": null,
   "metadata": {},
   "outputs": [],
   "source": []
  },
  {
   "cell_type": "code",
   "execution_count": null,
   "metadata": {},
   "outputs": [],
   "source": []
  },
  {
   "cell_type": "code",
   "execution_count": null,
   "metadata": {},
   "outputs": [],
   "source": []
  },
  {
   "cell_type": "code",
   "execution_count": null,
   "metadata": {},
   "outputs": [],
   "source": []
  },
  {
   "cell_type": "code",
   "execution_count": null,
   "metadata": {},
   "outputs": [],
   "source": [
    "spanish_numbers = {\n",
    "    \"one\": \"uno\",\n",
    "    \"two\": \"dos\",\n",
    "    \"three\": \"tres\",\n",
    "    \"four\": \"cuatro\",\n",
    "    \"five\": \"cinco\"\n",
    "}\n",
    "\n",
    "print(f\"before: {spanish_numbers}\")\n",
    "spanish_numbers[\"six\"] = \"seis\"                 # Add a new key-value pair\n",
    "print(f\" after: {spanish_numbers}\")\n"
   ]
  },
  {
   "cell_type": "code",
   "execution_count": null,
   "metadata": {},
   "outputs": [],
   "source": []
  },
  {
   "cell_type": "code",
   "execution_count": null,
   "metadata": {},
   "outputs": [],
   "source": []
  },
  {
   "cell_type": "code",
   "execution_count": null,
   "metadata": {},
   "outputs": [],
   "source": []
  },
  {
   "cell_type": "code",
   "execution_count": null,
   "metadata": {},
   "outputs": [],
   "source": []
  },
  {
   "cell_type": "code",
   "execution_count": null,
   "metadata": {},
   "outputs": [],
   "source": []
  },
  {
   "cell_type": "code",
   "execution_count": null,
   "metadata": {},
   "outputs": [],
   "source": []
  },
  {
   "cell_type": "code",
   "execution_count": null,
   "metadata": {},
   "outputs": [],
   "source": [
    "spanish_numbers = {\n",
    "    \"one\": \"uno\",\n",
    "    \"two\": \"dos\",\n",
    "    \"three\": \"tres\",\n",
    "    \"four\": \"cuatro\",\n",
    "    \"five\": \"cinco\"\n",
    "}\n",
    "\n",
    "print(f\"before: {spanish_numbers}\")\n",
    "removed_value = spanish_numbers.pop(\"four\")     # Delete a key-value pair \n",
    "print(f\" after: {spanish_numbers}\")\n"
   ]
  },
  {
   "cell_type": "code",
   "execution_count": null,
   "metadata": {},
   "outputs": [],
   "source": []
  },
  {
   "cell_type": "code",
   "execution_count": null,
   "metadata": {},
   "outputs": [],
   "source": []
  },
  {
   "cell_type": "code",
   "execution_count": null,
   "metadata": {},
   "outputs": [],
   "source": []
  },
  {
   "cell_type": "code",
   "execution_count": null,
   "metadata": {},
   "outputs": [],
   "source": []
  },
  {
   "cell_type": "code",
   "execution_count": null,
   "metadata": {},
   "outputs": [],
   "source": []
  },
  {
   "cell_type": "code",
   "execution_count": null,
   "metadata": {},
   "outputs": [],
   "source": []
  },
  {
   "cell_type": "markdown",
   "metadata": {},
   "source": [
    "# Dictionary properties:\n",
    "\n",
    "- Values are mapped to keys\n",
    "- Values are accessed by their corresponding key\n",
    "- Key are unique and are immutable\n",
    "- Multiple keys can have the same values, values can be anything (including mutable types like lists) \n",
    "- Values cannot exist without a key"
   ]
  },
  {
   "cell_type": "code",
   "execution_count": null,
   "metadata": {},
   "outputs": [],
   "source": []
  },
  {
   "cell_type": "code",
   "execution_count": null,
   "metadata": {},
   "outputs": [],
   "source": []
  },
  {
   "cell_type": "code",
   "execution_count": null,
   "metadata": {},
   "outputs": [],
   "source": []
  },
  {
   "cell_type": "code",
   "execution_count": null,
   "metadata": {},
   "outputs": [],
   "source": []
  },
  {
   "cell_type": "code",
   "execution_count": null,
   "metadata": {},
   "outputs": [],
   "source": []
  },
  {
   "cell_type": "code",
   "execution_count": null,
   "metadata": {},
   "outputs": [],
   "source": []
  },
  {
   "cell_type": "code",
   "execution_count": null,
   "metadata": {},
   "outputs": [],
   "source": [
    "# Note that trying to access a key that doesn't exist will raise an error:\n",
    "# spanish_numbers[\"eight\"]  # raises KeyError\n",
    "spanish_numbers = {\n",
    "    \"one\": \"uno\",\n",
    "    \"two\": \"dos\",\n",
    "    \"three\": \"tres\",\n",
    "    \"four\": \"cuatro\",\n",
    "    \"five\": \"cinco\"\n",
    "}\n",
    "\n",
    "# test = spanish_numbers[\"eight\"]   #uncomment and see error"
   ]
  },
  {
   "cell_type": "code",
   "execution_count": null,
   "metadata": {},
   "outputs": [],
   "source": []
  },
  {
   "cell_type": "code",
   "execution_count": null,
   "metadata": {},
   "outputs": [],
   "source": []
  },
  {
   "cell_type": "code",
   "execution_count": null,
   "metadata": {},
   "outputs": [],
   "source": []
  },
  {
   "cell_type": "code",
   "execution_count": null,
   "metadata": {},
   "outputs": [],
   "source": []
  },
  {
   "cell_type": "markdown",
   "metadata": {},
   "source": [
    "#### creating dictionaries... example Lunar New Year"
   ]
  },
  {
   "cell_type": "code",
   "execution_count": null,
   "metadata": {},
   "outputs": [],
   "source": [
    "#Example:\n",
    "# e.g. two same length lists\n",
    "years   = [2023, 2024, 2025, 2026, 2027, 2028, 2029, 2030, 2031, 2032, 2033, 2034]\n",
    "animals = ['Rabbit', 'Dragon','Snake','Horse', 'Goat', 'Monkey', 'Rooster', 'Dog', 'Pig', 'Rat', 'Ox', 'Tiger']\n",
    "\n",
    "# print( len(years), len(animals))  # will print 12, 12 (e.g. same length)\n",
    "\n",
    "lunar_new_year = {}\n",
    "\n",
    "for i in range(len(years)):\n",
    "    year = years[i]\n",
    "    animal = animals[i]\n",
    "    lunar_new_year[year] = animal\n",
    "\n",
    "print(lunar_new_year)"
   ]
  },
  {
   "cell_type": "code",
   "execution_count": null,
   "metadata": {},
   "outputs": [],
   "source": [
    "print (\"2023: the year of the : \", lunar_new_year[2023])\n",
    "print (\"2028: the year of the : \", lunar_new_year[2028])"
   ]
  },
  {
   "cell_type": "code",
   "execution_count": null,
   "metadata": {},
   "outputs": [],
   "source": []
  },
  {
   "cell_type": "code",
   "execution_count": null,
   "metadata": {},
   "outputs": [],
   "source": []
  },
  {
   "cell_type": "code",
   "execution_count": null,
   "metadata": {},
   "outputs": [],
   "source": []
  },
  {
   "cell_type": "code",
   "execution_count": null,
   "metadata": {},
   "outputs": [],
   "source": [
    "#the .update( :dict )\n",
    "lunar_new_year = {2023: 'Rabbit', 2024: 'Dragon', 2025: 'Snake', 2026: 'Horse'} \n",
    "print(f\"before: {lunar_new_year=}\")\n",
    "lunar_new_year.update({2027: 'Goat', 2028: 'Monkey', 2029: 'Rooster', 2030: 'Dog'})\n",
    "print(f\" after: {lunar_new_year=}\")"
   ]
  },
  {
   "cell_type": "code",
   "execution_count": null,
   "metadata": {},
   "outputs": [],
   "source": [
    "#the .update() - adding an entry with a single dict-item as a dict itself\n",
    "\n",
    "lunar_new_year = {2023: 'Rabbit', 2024: 'Dragon', 2025: 'Snake', 2026: 'Horse'} \n",
    "lunar_new_year.update({2035 : 'Rabbit'})\n",
    "\n",
    "print(lunar_new_year)"
   ]
  },
  {
   "cell_type": "code",
   "execution_count": null,
   "metadata": {},
   "outputs": [],
   "source": []
  },
  {
   "cell_type": "code",
   "execution_count": null,
   "metadata": {},
   "outputs": [],
   "source": []
  },
  {
   "cell_type": "code",
   "execution_count": null,
   "metadata": {},
   "outputs": [],
   "source": [
    "#the .pop( )\n",
    "lunar_new_year = {2023: 'Rabbit', 2024: 'Dragon', 2025: 'Snake', 2026: 'Horse'} \n",
    "print(f\"before: {lunar_new_year=}\")\n",
    "lunar_new_year[ 2022 ] = 'Salmon'\n",
    "print(f\" after bad insert: {lunar_new_year=}\")\n",
    "\n",
    "# print(\"\\n\\n\",'*'*50)\n",
    "# print(\"removing: joke value\")\n",
    "returned = lunar_new_year.pop(2022)\n",
    "print(f\" after pop: {lunar_new_year=}\")\n",
    "print ( returned )\n"
   ]
  },
  {
   "cell_type": "code",
   "execution_count": null,
   "metadata": {},
   "outputs": [],
   "source": []
  },
  {
   "cell_type": "code",
   "execution_count": null,
   "metadata": {},
   "outputs": [],
   "source": []
  },
  {
   "cell_type": "code",
   "execution_count": null,
   "metadata": {},
   "outputs": [],
   "source": []
  },
  {
   "cell_type": "code",
   "execution_count": null,
   "metadata": {},
   "outputs": [],
   "source": []
  },
  {
   "cell_type": "code",
   "execution_count": null,
   "metadata": {},
   "outputs": [],
   "source": [
    "#A nicer print than the default with\n",
    "# for key, value ... items()\n",
    "\n",
    "lunar_new_year = {2023: 'Rabbit', 2024: 'Dragon', 2025: 'Snake', 2026: 'Horse'} \n",
    "\n",
    "for key, value in lunar_new_year.items():\n",
    "    print(f\"{key}: {value}\")"
   ]
  },
  {
   "cell_type": "code",
   "execution_count": null,
   "metadata": {},
   "outputs": [],
   "source": []
  },
  {
   "cell_type": "code",
   "execution_count": null,
   "metadata": {},
   "outputs": [],
   "source": [
    "# The dict `.get()` method can be used to prevent a key error\n",
    "#   by providing a default value in the case the key doesn't exist\n",
    "\n",
    "check = \"eight\"\n",
    "returned = spanish_numbers.get(\"eight\", \"unknown\") #no KeyError (crash)\n",
    "print( returned )"
   ]
  },
  {
   "cell_type": "code",
   "execution_count": null,
   "metadata": {},
   "outputs": [],
   "source": []
  },
  {
   "cell_type": "code",
   "execution_count": null,
   "metadata": {},
   "outputs": [],
   "source": []
  },
  {
   "cell_type": "code",
   "execution_count": null,
   "metadata": {},
   "outputs": [],
   "source": []
  },
  {
   "cell_type": "code",
   "execution_count": null,
   "metadata": {},
   "outputs": [],
   "source": []
  },
  {
   "cell_type": "code",
   "execution_count": null,
   "metadata": {},
   "outputs": [],
   "source": []
  },
  {
   "cell_type": "code",
   "execution_count": null,
   "metadata": {},
   "outputs": [],
   "source": []
  },
  {
   "cell_type": "code",
   "execution_count": null,
   "metadata": {},
   "outputs": [],
   "source": [
    "# If we use the `.get()` method without a default value ( it defaults to None)\n",
    "print(spanish_numbers.get(\"eight\"))\n"
   ]
  },
  {
   "cell_type": "code",
   "execution_count": null,
   "metadata": {},
   "outputs": [],
   "source": []
  },
  {
   "cell_type": "code",
   "execution_count": null,
   "metadata": {},
   "outputs": [],
   "source": []
  },
  {
   "cell_type": "code",
   "execution_count": null,
   "metadata": {},
   "outputs": [],
   "source": []
  },
  {
   "cell_type": "code",
   "execution_count": null,
   "metadata": {},
   "outputs": [],
   "source": []
  },
  {
   "cell_type": "code",
   "execution_count": null,
   "metadata": {},
   "outputs": [],
   "source": []
  },
  {
   "cell_type": "code",
   "execution_count": null,
   "metadata": {},
   "outputs": [],
   "source": []
  },
  {
   "cell_type": "code",
   "execution_count": null,
   "metadata": {},
   "outputs": [],
   "source": []
  },
  {
   "cell_type": "code",
   "execution_count": null,
   "metadata": {},
   "outputs": [],
   "source": [
    "#What else can we do:\n",
    "# dir(dict) # uncomment, run and explore with help(dict.popitem), for example"
   ]
  },
  {
   "cell_type": "code",
   "execution_count": null,
   "metadata": {},
   "outputs": [],
   "source": []
  },
  {
   "cell_type": "code",
   "execution_count": null,
   "metadata": {},
   "outputs": [],
   "source": []
  },
  {
   "cell_type": "code",
   "execution_count": null,
   "metadata": {},
   "outputs": [],
   "source": []
  },
  {
   "cell_type": "code",
   "execution_count": null,
   "metadata": {},
   "outputs": [],
   "source": []
  },
  {
   "cell_type": "code",
   "execution_count": null,
   "metadata": {},
   "outputs": [],
   "source": []
  },
  {
   "cell_type": "code",
   "execution_count": null,
   "metadata": {},
   "outputs": [],
   "source": []
  },
  {
   "cell_type": "code",
   "execution_count": null,
   "metadata": {},
   "outputs": [],
   "source": []
  },
  {
   "cell_type": "code",
   "execution_count": null,
   "metadata": {},
   "outputs": [],
   "source": []
  },
  {
   "cell_type": "markdown",
   "metadata": {},
   "source": [
    "# Sets\n",
    "Sets are like lists, but where the order doesn't matter.\n",
    "\n",
    "Without order, we cannot index or slice a set at all.\n",
    "\n",
    "This also means there cannot be duplicates - adding the same value a second time will be ignored."
   ]
  },
  {
   "cell_type": "code",
   "execution_count": null,
   "metadata": {},
   "outputs": [],
   "source": [
    "nums = [1, 3, 5, 2, 3, 5, 1, 6]\n",
    "num_set = set(nums)\n",
    "print(num_set)"
   ]
  },
  {
   "cell_type": "code",
   "execution_count": null,
   "metadata": {},
   "outputs": [],
   "source": []
  },
  {
   "cell_type": "code",
   "execution_count": null,
   "metadata": {},
   "outputs": [],
   "source": []
  },
  {
   "cell_type": "code",
   "execution_count": null,
   "metadata": {},
   "outputs": [],
   "source": []
  },
  {
   "cell_type": "code",
   "execution_count": null,
   "metadata": {},
   "outputs": [],
   "source": []
  },
  {
   "cell_type": "code",
   "execution_count": null,
   "metadata": {},
   "outputs": [],
   "source": []
  },
  {
   "cell_type": "code",
   "execution_count": null,
   "metadata": {},
   "outputs": [],
   "source": []
  },
  {
   "cell_type": "code",
   "execution_count": null,
   "metadata": {},
   "outputs": [],
   "source": [
    "nums = [1, 3, 5, 2, 3, 5, 1, 6]\n",
    "num_set = set(nums)\n",
    "\n",
    "give_error = num_set[0]  #what will happen?"
   ]
  },
  {
   "cell_type": "code",
   "execution_count": null,
   "metadata": {},
   "outputs": [],
   "source": []
  },
  {
   "cell_type": "code",
   "execution_count": null,
   "metadata": {},
   "outputs": [],
   "source": []
  },
  {
   "cell_type": "code",
   "execution_count": null,
   "metadata": {},
   "outputs": [],
   "source": []
  },
  {
   "cell_type": "code",
   "execution_count": null,
   "metadata": {},
   "outputs": [],
   "source": []
  },
  {
   "cell_type": "code",
   "execution_count": null,
   "metadata": {},
   "outputs": [],
   "source": []
  },
  {
   "cell_type": "code",
   "execution_count": null,
   "metadata": {},
   "outputs": [],
   "source": []
  },
  {
   "cell_type": "code",
   "execution_count": null,
   "metadata": {},
   "outputs": [],
   "source": [
    "some_text = \"Under the shade of the willow tree.\"\n",
    "set_text = set(some_text)\n",
    "print( set_text )"
   ]
  },
  {
   "cell_type": "code",
   "execution_count": null,
   "metadata": {},
   "outputs": [],
   "source": []
  },
  {
   "cell_type": "code",
   "execution_count": null,
   "metadata": {},
   "outputs": [],
   "source": []
  },
  {
   "cell_type": "code",
   "execution_count": null,
   "metadata": {},
   "outputs": [],
   "source": []
  },
  {
   "cell_type": "code",
   "execution_count": null,
   "metadata": {},
   "outputs": [],
   "source": []
  },
  {
   "cell_type": "code",
   "execution_count": null,
   "metadata": {},
   "outputs": [],
   "source": []
  },
  {
   "cell_type": "code",
   "execution_count": null,
   "metadata": {},
   "outputs": [],
   "source": [
    "# We create sets similarly to lists, but with curly braces (just like dicts):\n",
    "fruits = {\"apple\", \"banana\", \"apricot\"}\n",
    "\n",
    "# We can add an item with `.add()`:\n",
    "fruits.add(\"mango\")\n",
    "print(fruits)\n",
    "\n"
   ]
  },
  {
   "cell_type": "code",
   "execution_count": null,
   "metadata": {},
   "outputs": [],
   "source": [
    "# Quiz - what would happen if we repeat this?\n",
    "fruits.add(\"mango\")\n",
    "print(fruits)"
   ]
  },
  {
   "cell_type": "code",
   "execution_count": null,
   "metadata": {},
   "outputs": [],
   "source": []
  },
  {
   "cell_type": "code",
   "execution_count": null,
   "metadata": {},
   "outputs": [],
   "source": []
  },
  {
   "cell_type": "code",
   "execution_count": null,
   "metadata": {},
   "outputs": [],
   "source": []
  },
  {
   "cell_type": "code",
   "execution_count": null,
   "metadata": {},
   "outputs": [],
   "source": []
  },
  {
   "cell_type": "code",
   "execution_count": null,
   "metadata": {},
   "outputs": [],
   "source": []
  },
  {
   "cell_type": "code",
   "execution_count": null,
   "metadata": {},
   "outputs": [],
   "source": []
  },
  {
   "cell_type": "code",
   "execution_count": null,
   "metadata": {},
   "outputs": [],
   "source": [
    "# We can remove an item with `.remove()`\n",
    "fruits = {\"apple\", \"banana\", \"apricot\", \"mango\"}\n",
    "\n",
    "fruits.remove(\"mango\")\n",
    "print(fruits)\n",
    "\n"
   ]
  },
  {
   "cell_type": "code",
   "execution_count": null,
   "metadata": {},
   "outputs": [],
   "source": []
  },
  {
   "cell_type": "code",
   "execution_count": null,
   "metadata": {},
   "outputs": [],
   "source": []
  },
  {
   "cell_type": "code",
   "execution_count": null,
   "metadata": {},
   "outputs": [],
   "source": []
  },
  {
   "cell_type": "markdown",
   "metadata": {},
   "source": [
    "#### `.remove()` VS `.discard()` "
   ]
  },
  {
   "cell_type": "code",
   "execution_count": null,
   "metadata": {},
   "outputs": [],
   "source": [
    "#Compare .remove()\n",
    "fruits = {\"apple\", \"banana\", \"apricot\"}\n",
    "fruits.remove(\"mango\")\n"
   ]
  },
  {
   "cell_type": "code",
   "execution_count": null,
   "metadata": {},
   "outputs": [],
   "source": [
    "# with .discard() \n",
    "fruits = {\"apple\", \"banana\", \"apricot\"}\n",
    "fruits.discard(\"mango\")"
   ]
  },
  {
   "cell_type": "code",
   "execution_count": 19,
   "metadata": {},
   "outputs": [],
   "source": [
    "# do a help(set.discard) and a help(set.remove)\n",
    "# help(set.discard)\n",
    "# help(set.remove)"
   ]
  },
  {
   "cell_type": "code",
   "execution_count": null,
   "metadata": {},
   "outputs": [],
   "source": []
  },
  {
   "cell_type": "code",
   "execution_count": null,
   "metadata": {},
   "outputs": [],
   "source": []
  },
  {
   "cell_type": "code",
   "execution_count": null,
   "metadata": {},
   "outputs": [],
   "source": []
  },
  {
   "cell_type": "markdown",
   "metadata": {},
   "source": [
    "#### set membership with `in`"
   ]
  },
  {
   "cell_type": "code",
   "execution_count": null,
   "metadata": {},
   "outputs": [],
   "source": [
    "# 'membership' of a set with `in`\n",
    "# a set: 'fruits'\n",
    "fruits = {\"apple\", \"orange\", \"banana\", \"grape\"}\n",
    "\n",
    "# Check if \"apple\" and \"cucumber\" are in the set\n",
    "print(   \"apple\" in fruits)     # True\n",
    "print(\"cucumber\" in fruits)     # False\n"
   ]
  },
  {
   "cell_type": "code",
   "execution_count": null,
   "metadata": {},
   "outputs": [],
   "source": []
  },
  {
   "cell_type": "code",
   "execution_count": null,
   "metadata": {},
   "outputs": [],
   "source": []
  },
  {
   "cell_type": "code",
   "execution_count": null,
   "metadata": {},
   "outputs": [],
   "source": []
  },
  {
   "cell_type": "code",
   "execution_count": null,
   "metadata": {},
   "outputs": [],
   "source": []
  },
  {
   "cell_type": "markdown",
   "metadata": {},
   "source": [
    "#### set `update()` with another set or iterable"
   ]
  },
  {
   "cell_type": "code",
   "execution_count": null,
   "metadata": {},
   "outputs": [],
   "source": [
    "x = {1,2,3,4}\n",
    "y = {2,4,6,8}\n",
    "print(\".update() updates the current set adding <no-duplicates> \")\n",
    "x.update(y)\n",
    "print(x)"
   ]
  },
  {
   "cell_type": "code",
   "execution_count": 16,
   "metadata": {},
   "outputs": [
    {
     "name": "stdout",
     "output_type": "stream",
     "text": [
      "{1, 2, 3, 4, 'a', 'c', 'b', 'd'}\n"
     ]
    }
   ],
   "source": [
    "# Also works with any other iterable.\n",
    "x = {1,2,3,4}\n",
    "x.update(\"abcd\")\n",
    "print(x)"
   ]
  },
  {
   "cell_type": "code",
   "execution_count": null,
   "metadata": {},
   "outputs": [],
   "source": []
  },
  {
   "cell_type": "code",
   "execution_count": null,
   "metadata": {},
   "outputs": [],
   "source": []
  },
  {
   "cell_type": "code",
   "execution_count": null,
   "metadata": {},
   "outputs": [],
   "source": []
  },
  {
   "cell_type": "markdown",
   "metadata": {},
   "source": [
    "#### union and intersection with `|` and `&`\n",
    "> but do a `dir(set)` also"
   ]
  },
  {
   "cell_type": "code",
   "execution_count": null,
   "metadata": {},
   "outputs": [],
   "source": [
    "# Sets in Python are modelled after sets in maths, and support the union and intersection operations:\n",
    "small_integers = {1, 2, 3, 4}\n",
    "even_integers  = {2, 4, 6, 8}\n",
    "\n",
    "union = small_integers | even_integers  # Note the pipe symbol\n",
    "print(union)  # The union is the set of elements in EITHER of the two original sets\n",
    "\n",
    "intersection = small_integers & even_integers  # Note the ampersand (and) symbol\n",
    "print(intersection)  # The intersection is the set of elements in BOTh of the two original sets"
   ]
  },
  {
   "cell_type": "code",
   "execution_count": 21,
   "metadata": {},
   "outputs": [],
   "source": [
    "# dir(set)"
   ]
  },
  {
   "cell_type": "code",
   "execution_count": null,
   "metadata": {},
   "outputs": [],
   "source": [
    "#What else can we do:\n",
    "# dir(set) # uncomment, run and explore with help(set.update), for example"
   ]
  },
  {
   "cell_type": "code",
   "execution_count": null,
   "metadata": {},
   "outputs": [],
   "source": []
  },
  {
   "cell_type": "code",
   "execution_count": null,
   "metadata": {},
   "outputs": [],
   "source": []
  },
  {
   "cell_type": "code",
   "execution_count": null,
   "metadata": {},
   "outputs": [],
   "source": []
  },
  {
   "cell_type": "code",
   "execution_count": null,
   "metadata": {},
   "outputs": [],
   "source": []
  },
  {
   "cell_type": "code",
   "execution_count": null,
   "metadata": {},
   "outputs": [],
   "source": []
  },
  {
   "cell_type": "code",
   "execution_count": null,
   "metadata": {},
   "outputs": [],
   "source": []
  }
 ],
 "metadata": {
  "kernelspec": {
   "display_name": "Python 3",
   "language": "python",
   "name": "python3"
  },
  "language_info": {
   "codemirror_mode": {
    "name": "ipython",
    "version": 3
   },
   "file_extension": ".py",
   "mimetype": "text/x-python",
   "name": "python",
   "nbconvert_exporter": "python",
   "pygments_lexer": "ipython3",
   "version": "3.11.4"
  }
 },
 "nbformat": 4,
 "nbformat_minor": 2
}
