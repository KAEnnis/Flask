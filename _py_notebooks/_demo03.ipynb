{
 "cells": [
  {
   "cell_type": "code",
   "execution_count": 1,
   "metadata": {},
   "outputs": [
    {
     "name": "stdout",
     "output_type": "stream",
     "text": [
      "minutes: 2.4\n"
     ]
    }
   ],
   "source": [
    "seconds = 144\n",
    "#how to do that... get the minutes from 144 seconds\n",
    "minutes = seconds / 60\n",
    "print(\"minutes:\", minutes)"
   ]
  },
  {
   "cell_type": "code",
   "execution_count": 2,
   "metadata": {},
   "outputs": [
    {
     "name": "stdout",
     "output_type": "stream",
     "text": [
      "minutes: 2\n"
     ]
    }
   ],
   "source": [
    "seconds = 144\n",
    "#improve on that: want a whole number like '2' minutes\n",
    "minutes = int( seconds / 60 )\n",
    "print(\"minutes:\", minutes)"
   ]
  },
  {
   "cell_type": "code",
   "execution_count": 6,
   "metadata": {},
   "outputs": [
    {
     "name": "stdout",
     "output_type": "stream",
     "text": [
      "minutes: 2\n"
     ]
    }
   ],
   "source": [
    "seconds = 144\n",
    "#another way...\n",
    "minutes = seconds // 60\n",
    "print(\"minutes:\", minutes)"
   ]
  },
  {
   "cell_type": "code",
   "execution_count": 8,
   "metadata": {},
   "outputs": [
    {
     "name": "stdout",
     "output_type": "stream",
     "text": [
      "remaining_seconds: 24\n"
     ]
    }
   ],
   "source": [
    "seconds = 144\n",
    "\n",
    "remaining_seconds = seconds % 60\n",
    "print(\"remaining_seconds:\", remaining_seconds)"
   ]
  },
  {
   "cell_type": "code",
   "execution_count": 9,
   "metadata": {},
   "outputs": [
    {
     "name": "stdout",
     "output_type": "stream",
     "text": [
      "2:24\n"
     ]
    }
   ],
   "source": [
    "#stick the above two parts together\n",
    "seconds = 144\n",
    "minutes = seconds // 60\n",
    "remaining_seconds = seconds % 60\n",
    "\n",
    "print(f\"{minutes}:{remaining_seconds}\")"
   ]
  },
  {
   "cell_type": "code",
   "execution_count": 10,
   "metadata": {},
   "outputs": [
    {
     "name": "stdout",
     "output_type": "stream",
     "text": [
      "2:24\n"
     ]
    }
   ],
   "source": [
    "#try re-write the code - using shorter variable names...\n",
    "# assignment: R.H.S happens first...\n",
    "seconds = 144\n",
    "minutes = seconds // 60\n",
    "seconds = seconds % 60    #because R.H.S happens first\n",
    "\n",
    "print(f\"{minutes}:{seconds}\")"
   ]
  },
  {
   "cell_type": "code",
   "execution_count": 16,
   "metadata": {},
   "outputs": [
    {
     "name": "stdout",
     "output_type": "stream",
     "text": [
      "There are 2 minutes and 24 seconds the original 144 seconds\n"
     ]
    }
   ],
   "source": [
    "start_seconds = 144\n",
    "minutes = start_seconds // 60\n",
    "seconds = start_seconds % 60    #`seconds` overwritten here to 24\n",
    "\n",
    "print(f\"There are {minutes} minutes and {seconds} seconds the original {start_seconds} seconds\")"
   ]
  },
  {
   "cell_type": "code",
   "execution_count": 18,
   "metadata": {},
   "outputs": [
    {
     "name": "stdout",
     "output_type": "stream",
     "text": [
      "2.0\n"
     ]
    }
   ],
   "source": [
    "#Query: does / always return float\n",
    "print(4/2)  #2.0"
   ]
  },
  {
   "cell_type": "code",
   "execution_count": 21,
   "metadata": {},
   "outputs": [
    {
     "name": "stdout",
     "output_type": "stream",
     "text": [
      "There are 144.0 cents in €1.44\n"
     ]
    }
   ],
   "source": [
    "#TASK: €1.44 - how many cents in that...\n",
    "\n",
    "amount = 1.44\n",
    "\n",
    "cents = amount * 100\n",
    "print(f\"There are {cents} cents in €{amount}\")"
   ]
  },
  {
   "cell_type": "code",
   "execution_count": 25,
   "metadata": {},
   "outputs": [
    {
     "name": "stdout",
     "output_type": "stream",
     "text": [
      "There are 2 fifty_cents in €1.44\n"
     ]
    }
   ],
   "source": [
    "amount = 1.44\n",
    "\n",
    "cents = amount * 100\n",
    "\n",
    "fifty_cent = int( cents // 50 )\n",
    "\n",
    "print(f\"There are {fifty_cent} fifty_cents in €{amount}\")"
   ]
  },
  {
   "cell_type": "code",
   "execution_count": null,
   "metadata": {},
   "outputs": [],
   "source": [
    "#experiment with tuples... come back to this later\n",
    "amount = 1.44\n",
    "\n",
    "cents = amount * 100\n",
    "\n",
    "fifty_cent = cents // 50, cents % 50 #tuple\n",
    "\n",
    "print(f\"There are {fifty_cent} fifty_cents in €{amount}\")"
   ]
  },
  {
   "cell_type": "code",
   "execution_count": null,
   "metadata": {},
   "outputs": [],
   "source": [
    "#give change in euro, and 50 cent and then \n",
    "# state the remainder\n",
    "amount = 1.64\n",
    "cents = amount * 100\n",
    "#calculate euro \n",
    "\n",
    "#calculating 50cent peices but for whole lot\n",
    "fifty_cent = int( cents // 50 )\n",
    "\n",
    "print(f\"There are {fifty_cent} fifty_cents in €{amount}\")"
   ]
  },
  {
   "cell_type": "code",
   "execution_count": null,
   "metadata": {},
   "outputs": [],
   "source": []
  },
  {
   "cell_type": "code",
   "execution_count": null,
   "metadata": {},
   "outputs": [],
   "source": []
  }
 ],
 "metadata": {
  "kernelspec": {
   "display_name": "Python 3",
   "language": "python",
   "name": "python3"
  },
  "language_info": {
   "codemirror_mode": {
    "name": "ipython",
    "version": 3
   },
   "file_extension": ".py",
   "mimetype": "text/x-python",
   "name": "python",
   "nbconvert_exporter": "python",
   "pygments_lexer": "ipython3",
   "version": "3.11.4"
  }
 },
 "nbformat": 4,
 "nbformat_minor": 2
}
