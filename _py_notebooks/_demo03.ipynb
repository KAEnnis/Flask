{
 "cells": [
  {
   "cell_type": "code",
   "execution_count": 1,
   "metadata": {},
   "outputs": [
    {
     "name": "stdout",
     "output_type": "stream",
     "text": [
      "minutes: 2.4\n"
     ]
    }
   ],
   "source": [
    "seconds = 144\n",
    "#how to do that... get the minutes from 144 seconds\n",
    "minutes = seconds / 60\n",
    "print(\"minutes:\", minutes)"
   ]
  },
  {
   "cell_type": "code",
   "execution_count": 2,
   "metadata": {},
   "outputs": [
    {
     "name": "stdout",
     "output_type": "stream",
     "text": [
      "minutes: 2\n"
     ]
    }
   ],
   "source": [
    "seconds = 144\n",
    "#improve on that: want a whole number like '2' minutes\n",
    "minutes = int( seconds / 60 )\n",
    "print(\"minutes:\", minutes)"
   ]
  },
  {
   "cell_type": "code",
   "execution_count": 6,
   "metadata": {},
   "outputs": [
    {
     "name": "stdout",
     "output_type": "stream",
     "text": [
      "minutes: 2\n"
     ]
    }
   ],
   "source": [
    "seconds = 144\n",
    "#another way...\n",
    "minutes = seconds // 60\n",
    "print(\"minutes:\", minutes)"
   ]
  },
  {
   "cell_type": "code",
   "execution_count": 8,
   "metadata": {},
   "outputs": [
    {
     "name": "stdout",
     "output_type": "stream",
     "text": [
      "remaining_seconds: 24\n"
     ]
    }
   ],
   "source": [
    "seconds = 144\n",
    "\n",
    "remaining_seconds = seconds % 60\n",
    "print(\"remaining_seconds:\", remaining_seconds)"
   ]
  },
  {
   "cell_type": "code",
   "execution_count": 9,
   "metadata": {},
   "outputs": [
    {
     "name": "stdout",
     "output_type": "stream",
     "text": [
      "2:24\n"
     ]
    }
   ],
   "source": [
    "#stick the above two parts together\n",
    "seconds = 144\n",
    "minutes = seconds // 60\n",
    "remaining_seconds = seconds % 60\n",
    "\n",
    "print(f\"{minutes}:{remaining_seconds}\")"
   ]
  },
  {
   "cell_type": "code",
   "execution_count": 10,
   "metadata": {},
   "outputs": [
    {
     "name": "stdout",
     "output_type": "stream",
     "text": [
      "2:24\n"
     ]
    }
   ],
   "source": [
    "#try re-write the code - using shorter variable names...\n",
    "# assignment: R.H.S happens first...\n",
    "seconds = 144\n",
    "minutes = seconds // 60\n",
    "seconds = seconds % 60    #because R.H.S happens first\n",
    "\n",
    "print(f\"{minutes}:{seconds}\")"
   ]
  },
  {
   "cell_type": "code",
   "execution_count": 16,
   "metadata": {},
   "outputs": [
    {
     "name": "stdout",
     "output_type": "stream",
     "text": [
      "There are 2 minutes and 24 seconds the original 144 seconds\n"
     ]
    }
   ],
   "source": [
    "start_seconds = 144\n",
    "minutes = start_seconds // 60\n",
    "seconds = start_seconds % 60    #`seconds` overwritten here to 24\n",
    "\n",
    "print(f\"There are {minutes} minutes and {seconds} seconds the original {start_seconds} seconds\")"
   ]
  },
  {
   "cell_type": "code",
   "execution_count": 18,
   "metadata": {},
   "outputs": [
    {
     "name": "stdout",
     "output_type": "stream",
     "text": [
      "2.0\n"
     ]
    }
   ],
   "source": [
    "#Query: does / always return float\n",
    "print(4/2)  #2.0"
   ]
  },
  {
   "cell_type": "code",
   "execution_count": 21,
   "metadata": {},
   "outputs": [
    {
     "name": "stdout",
     "output_type": "stream",
     "text": [
      "There are 144.0 cents in €1.44\n"
     ]
    }
   ],
   "source": [
    "#TASK: €1.44 - how many cents in that...\n",
    "\n",
    "amount = 1.44\n",
    "\n",
    "cents = amount * 100\n",
    "print(f\"There are {cents} cents in €{amount}\")"
   ]
  },
  {
   "cell_type": "code",
   "execution_count": 25,
   "metadata": {},
   "outputs": [
    {
     "name": "stdout",
     "output_type": "stream",
     "text": [
      "There are 2 fifty_cents in €1.44\n"
     ]
    }
   ],
   "source": [
    "amount = 1.44\n",
    "\n",
    "cents = amount * 100\n",
    "\n",
    "fifty_cent = int( cents // 50 )\n",
    "\n",
    "print(f\"There are {fifty_cent} fifty_cents in €{amount}\")"
   ]
  },
  {
   "cell_type": "code",
   "execution_count": null,
   "metadata": {},
   "outputs": [],
   "source": [
    "#experiment with tuples... come back to this later\n",
    "amount = 1.44\n",
    "\n",
    "cents = amount * 100\n",
    "\n",
    "fifty_cent = cents // 50, cents % 50 #tuple\n",
    "\n",
    "print(f\"There are {fifty_cent} fifty_cents in €{amount}\")"
   ]
  },
  {
   "cell_type": "code",
   "execution_count": null,
   "metadata": {},
   "outputs": [],
   "source": [
    "cents = 164\n",
    "#how to get the 64\n",
    "left_over = cents % 100\n",
    "print(f\"{left_over=}\")"
   ]
  },
  {
   "cell_type": "code",
   "execution_count": 47,
   "metadata": {},
   "outputs": [
    {
     "name": "stdout",
     "output_type": "stream",
     "text": [
      "€2.94: change is: 2 euros, 1 fifties and 4 tens.\n"
     ]
    }
   ],
   "source": [
    "#give change in euro, and 50 cent and then \n",
    "# state the remainder\n",
    "amount = 2.94\n",
    "cents = amount * 100\n",
    "\n",
    "#euro coin\n",
    "euro_coin = int(cents // 100)\n",
    "left_over = cents % 100\n",
    "#fifty_cent\n",
    "fifty_cent = int(left_over // 50)\n",
    "left_over2 = left_over %  50\n",
    "\n",
    "#remainder\n",
    "ten_cent   = int( left_over2 // 10 )\n",
    "left_over3 = left_over %  10 \n",
    "\n",
    "\n",
    "print(f\"€{amount}: change is: {euro_coin} euros, {fifty_cent} fifties and {ten_cent} tens.\")"
   ]
  },
  {
   "cell_type": "code",
   "execution_count": 50,
   "metadata": {},
   "outputs": [
    {
     "name": "stdout",
     "output_type": "stream",
     "text": [
      "In 34: there are 3 tens and 4 units. \n"
     ]
    }
   ],
   "source": [
    "two_digit_number = 34\n",
    "tens  = two_digit_number // 10\n",
    "units = two_digit_number %  10\n",
    "\n",
    "\n",
    "print(f\"In {two_digit_number}: there are {tens} tens and {units} units. \")"
   ]
  },
  {
   "cell_type": "code",
   "execution_count": 59,
   "metadata": {},
   "outputs": [
    {
     "name": "stdout",
     "output_type": "stream",
     "text": [
      "thous=3, left=234, hunds=2, 34, tens=3, 4\n"
     ]
    }
   ],
   "source": [
    "#make it a bigger problem ...\n",
    "two_digit_number = 3234\n",
    "##same problem as the previous - just mightn't look like it\n",
    "thous = two_digit_number // 1000\n",
    "left  = two_digit_number %  1000\n",
    "\n",
    "hunds = left // 100\n",
    "left2 = left %  100\n",
    "\n",
    "tens  = left2 // 10\n",
    "left3 = left2 %  10\n",
    "print(f\"{thous=}, {left=}, {hunds=}, {left2}, {tens=}, {left3}\")"
   ]
  },
  {
   "cell_type": "code",
   "execution_count": 62,
   "metadata": {},
   "outputs": [
    {
     "name": "stdout",
     "output_type": "stream",
     "text": [
      "thous=3, hunds=2, tens=3, units=4, left=4\n"
     ]
    }
   ],
   "source": [
    "#This is equivalent... in time you might prefer this way...\n",
    "# key: \"the R.H.S. happens first\"\n",
    "two_digit_number = 3234\n",
    "\n",
    "thous = two_digit_number // 1000\n",
    "left  = two_digit_number %  1000\n",
    "\n",
    "hunds = left // 100\n",
    "left  = left %  100\n",
    "\n",
    "tens  = left // 10\n",
    "left  = left %  10\n",
    "\n",
    "units = left\n",
    "print(f\"{thous=}, {hunds=}, {tens=}, {units=}, {left=}\")"
   ]
  },
  {
   "cell_type": "code",
   "execution_count": null,
   "metadata": {},
   "outputs": [],
   "source": []
  }
 ],
 "metadata": {
  "kernelspec": {
   "display_name": "Python 3",
   "language": "python",
   "name": "python3"
  },
  "language_info": {
   "codemirror_mode": {
    "name": "ipython",
    "version": 3
   },
   "file_extension": ".py",
   "mimetype": "text/x-python",
   "name": "python",
   "nbconvert_exporter": "python",
   "pygments_lexer": "ipython3",
   "version": "3.11.4"
  }
 },
 "nbformat": 4,
 "nbformat_minor": 2
}
