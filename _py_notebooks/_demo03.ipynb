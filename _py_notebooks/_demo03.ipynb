{
 "cells": [
  {
   "cell_type": "code",
   "execution_count": 1,
   "metadata": {},
   "outputs": [
    {
     "name": "stdout",
     "output_type": "stream",
     "text": [
      "minutes: 2.4\n"
     ]
    }
   ],
   "source": [
    "seconds = 144\n",
    "#how to do that... get the minutes from 144 seconds\n",
    "minutes = seconds / 60\n",
    "print(\"minutes:\", minutes)"
   ]
  },
  {
   "cell_type": "code",
   "execution_count": 2,
   "metadata": {},
   "outputs": [
    {
     "name": "stdout",
     "output_type": "stream",
     "text": [
      "minutes: 2\n"
     ]
    }
   ],
   "source": [
    "seconds = 144\n",
    "#improve on that: want a whole number like '2' minutes\n",
    "minutes = int( seconds / 60 )\n",
    "print(\"minutes:\", minutes)"
   ]
  },
  {
   "cell_type": "code",
   "execution_count": 6,
   "metadata": {},
   "outputs": [
    {
     "name": "stdout",
     "output_type": "stream",
     "text": [
      "minutes: 2\n"
     ]
    }
   ],
   "source": [
    "seconds = 144\n",
    "#another way...\n",
    "minutes = seconds // 60\n",
    "print(\"minutes:\", minutes)"
   ]
  },
  {
   "cell_type": "code",
   "execution_count": 8,
   "metadata": {},
   "outputs": [
    {
     "name": "stdout",
     "output_type": "stream",
     "text": [
      "remaining_seconds: 24\n"
     ]
    }
   ],
   "source": [
    "seconds = 144\n",
    "\n",
    "remaining_seconds = seconds % 60\n",
    "print(\"remaining_seconds:\", remaining_seconds)"
   ]
  },
  {
   "cell_type": "code",
   "execution_count": 9,
   "metadata": {},
   "outputs": [
    {
     "name": "stdout",
     "output_type": "stream",
     "text": [
      "2:24\n"
     ]
    }
   ],
   "source": [
    "#stick the above two parts together\n",
    "seconds = 144\n",
    "minutes = seconds // 60\n",
    "remaining_seconds = seconds % 60\n",
    "\n",
    "print(f\"{minutes}:{remaining_seconds}\")"
   ]
  },
  {
   "cell_type": "code",
   "execution_count": 10,
   "metadata": {},
   "outputs": [
    {
     "name": "stdout",
     "output_type": "stream",
     "text": [
      "2:24\n"
     ]
    }
   ],
   "source": [
    "#try re-write the code - using shorter variable names...\n",
    "# assignment: R.H.S happens first...\n",
    "seconds = 144\n",
    "minutes = seconds // 60\n",
    "seconds = seconds % 60    #because R.H.S happens first\n",
    "\n",
    "print(f\"{minutes}:{seconds}\")"
   ]
  },
  {
   "cell_type": "code",
   "execution_count": 16,
   "metadata": {},
   "outputs": [
    {
     "name": "stdout",
     "output_type": "stream",
     "text": [
      "There are 2 minutes and 24 seconds the original 144 seconds\n"
     ]
    }
   ],
   "source": [
    "start_seconds = 144\n",
    "minutes = start_seconds // 60\n",
    "seconds = start_seconds % 60    #`seconds` overwritten here to 24\n",
    "\n",
    "print(f\"There are {minutes} minutes and {seconds} seconds the original {start_seconds} seconds\")"
   ]
  },
  {
   "cell_type": "code",
   "execution_count": 18,
   "metadata": {},
   "outputs": [
    {
     "name": "stdout",
     "output_type": "stream",
     "text": [
      "2.0\n"
     ]
    }
   ],
   "source": [
    "#Query: does / always return float\n",
    "print(4/2)  #2.0"
   ]
  },
  {
   "cell_type": "code",
   "execution_count": 21,
   "metadata": {},
   "outputs": [
    {
     "name": "stdout",
     "output_type": "stream",
     "text": [
      "There are 144.0 cents in €1.44\n"
     ]
    }
   ],
   "source": [
    "#TASK: €1.44 - how many cents in that...\n",
    "\n",
    "amount = 1.44\n",
    "\n",
    "cents = amount * 100\n",
    "print(f\"There are {cents} cents in €{amount}\")"
   ]
  },
  {
   "cell_type": "code",
   "execution_count": 25,
   "metadata": {},
   "outputs": [
    {
     "name": "stdout",
     "output_type": "stream",
     "text": [
      "There are 2 fifty_cents in €1.44\n"
     ]
    }
   ],
   "source": [
    "amount = 1.44\n",
    "\n",
    "cents = amount * 100\n",
    "\n",
    "fifty_cent = int( cents // 50 )\n",
    "\n",
    "print(f\"There are {fifty_cent} fifty_cents in €{amount}\")"
   ]
  },
  {
   "cell_type": "code",
   "execution_count": null,
   "metadata": {},
   "outputs": [],
   "source": [
    "#experiment with tuples... come back to this later\n",
    "amount = 1.44\n",
    "\n",
    "cents = amount * 100\n",
    "\n",
    "fifty_cent = cents // 50, cents % 50 #tuple\n",
    "\n",
    "print(f\"There are {fifty_cent} fifty_cents in €{amount}\")"
   ]
  },
  {
   "cell_type": "code",
   "execution_count": null,
   "metadata": {},
   "outputs": [],
   "source": [
    "cents = 164\n",
    "#how to get the 64\n",
    "left_over = cents % 100\n",
    "print(f\"{left_over=}\")"
   ]
  },
  {
   "cell_type": "code",
   "execution_count": 47,
   "metadata": {},
   "outputs": [
    {
     "name": "stdout",
     "output_type": "stream",
     "text": [
      "€2.94: change is: 2 euros, 1 fifties and 4 tens.\n"
     ]
    }
   ],
   "source": [
    "#give change in euro, and 50 cent and then \n",
    "# state the remainder\n",
    "amount = 2.94\n",
    "cents = amount * 100\n",
    "\n",
    "#euro coin\n",
    "euro_coin = int(cents // 100)\n",
    "left_over = cents % 100\n",
    "#fifty_cent\n",
    "fifty_cent = int(left_over // 50)\n",
    "left_over2 = left_over %  50\n",
    "\n",
    "#remainder\n",
    "ten_cent   = int( left_over2 // 10 )\n",
    "left_over3 = left_over %  10 \n",
    "\n",
    "\n",
    "print(f\"€{amount}: change is: {euro_coin} euros, {fifty_cent} fifties and {ten_cent} tens.\")"
   ]
  },
  {
   "cell_type": "code",
   "execution_count": 50,
   "metadata": {},
   "outputs": [
    {
     "name": "stdout",
     "output_type": "stream",
     "text": [
      "In 34: there are 3 tens and 4 units. \n"
     ]
    }
   ],
   "source": [
    "two_digit_number = 34\n",
    "tens  = two_digit_number // 10\n",
    "units = two_digit_number %  10\n",
    "\n",
    "\n",
    "print(f\"In {two_digit_number}: there are {tens} tens and {units} units. \")"
   ]
  },
  {
   "cell_type": "code",
   "execution_count": 63,
   "metadata": {},
   "outputs": [
    {
     "name": "stdout",
     "output_type": "stream",
     "text": [
      "thous=3, left=234, hunds=2, 34, tens=3, left3=4\n"
     ]
    }
   ],
   "source": [
    "#make it a bigger problem ...\n",
    "two_digit_number = 3234\n",
    "##same problem as the previous - just mightn't look like it\n",
    "thous = two_digit_number // 1000\n",
    "left  = two_digit_number %  1000\n",
    "\n",
    "hunds = left // 100\n",
    "left2 = left %  100\n",
    "\n",
    "tens  = left2 // 10\n",
    "left3 = left2 %  10\n",
    "print(f\"{thous=}, {left=}, {hunds=}, {left2}, {tens=}, {left3=}\")"
   ]
  },
  {
   "cell_type": "code",
   "execution_count": 62,
   "metadata": {},
   "outputs": [
    {
     "name": "stdout",
     "output_type": "stream",
     "text": [
      "thous=3, hunds=2, tens=3, units=4, left=4\n"
     ]
    }
   ],
   "source": [
    "#This is equivalent... in time you might prefer this way...\n",
    "# key: \"the R.H.S. happens first\"\n",
    "two_digit_number = 3234\n",
    "\n",
    "thous = two_digit_number // 1000\n",
    "left  = two_digit_number %  1000\n",
    "\n",
    "hunds = left // 100\n",
    "left  = left %  100\n",
    "\n",
    "tens  = left // 10\n",
    "left  = left %  10\n",
    "\n",
    "units = left\n",
    "print(f\"{thous=}, {hunds=}, {tens=}, {units=}, {left=}\")"
   ]
  },
  {
   "cell_type": "code",
   "execution_count": 68,
   "metadata": {},
   "outputs": [
    {
     "name": "stdout",
     "output_type": "stream",
     "text": [
      "1709238152.923046\n"
     ]
    }
   ],
   "source": [
    "import time\n",
    "# help(time.time)\n",
    "# dir(time)\n",
    "time_seconds = time.time()\n",
    "print( time_seconds )"
   ]
  },
  {
   "cell_type": "code",
   "execution_count": 71,
   "metadata": {},
   "outputs": [
    {
     "name": "stdout",
     "output_type": "stream",
     "text": [
      "2024-02-29 20:24:55.242851\n",
      "2024-02-29 20:24:55.244833\n"
     ]
    }
   ],
   "source": [
    "from datetime import datetime\n",
    "# help(datetime)\n",
    "# dir(datetime)\n",
    "print( datetime.now() )\n",
    "print( datetime.today() )"
   ]
  },
  {
   "cell_type": "code",
   "execution_count": 73,
   "metadata": {},
   "outputs": [
    {
     "name": "stdout",
     "output_type": "stream",
     "text": [
      "tick...\n",
      "tick...\n",
      "tick...\n",
      "tick...\n",
      "tick...\n",
      "time taken: 5.006450891494751\n"
     ]
    }
   ],
   "source": [
    "#example of a basic timer...\n",
    "import time\n",
    "start_time = time.time()             #set start timer\n",
    "\n",
    "for _ in range(5):\n",
    "    print(\"tick...\")\n",
    "    time.sleep(1)                   #pause for 1 sec (five times)\n",
    "\n",
    "end_time = time.time()               #stop the timer\n",
    "\n",
    "time_taken = end_time - start_time  #calc time elapsed\n",
    "print(f\"time taken: {time_taken}\")"
   ]
  },
  {
   "cell_type": "code",
   "execution_count": 80,
   "metadata": {},
   "outputs": [
    {
     "name": "stdout",
     "output_type": "stream",
     "text": [
      "5\n"
     ]
    }
   ],
   "source": [
    "#random numbers\n",
    "import random\n",
    "\n",
    "num = random.randint(0, 10)\n",
    "\n",
    "print( num )"
   ]
  },
  {
   "cell_type": "code",
   "execution_count": 84,
   "metadata": {},
   "outputs": [
    {
     "name": "stdout",
     "output_type": "stream",
     "text": [
      "what is 5 minus 7?\n"
     ]
    }
   ],
   "source": [
    "import random\n",
    "\n",
    "num1 = random.randint(0, 10)\n",
    "num2 = random.randint(0, 10)\n",
    "\n",
    "print( f\"what is {num1} minus {num2}?\" )"
   ]
  },
  {
   "cell_type": "code",
   "execution_count": 96,
   "metadata": {},
   "outputs": [
    {
     "name": "stdout",
     "output_type": "stream",
     "text": [
      "what is 4 minus 2?\n"
     ]
    }
   ],
   "source": [
    "#want to have bigger value always first (positive results)\n",
    "import random\n",
    "\n",
    "num1 = random.randint(0, 10)\n",
    "num2 = random.randint(0, 10)\n",
    "\n",
    "if num1 > num2:\n",
    "    bigger, smaller = num1, num2\n",
    "else:\n",
    "    bigger, smaller = num2, num1\n",
    "\n",
    "print( f\"what is {bigger} minus {smaller}?\" )"
   ]
  },
  {
   "cell_type": "code",
   "execution_count": null,
   "metadata": {},
   "outputs": [],
   "source": [
    "#Note: slight issue with doing this...\n",
    "# OK in Python but need to know a few things...\n",
    "\"\"\"\n",
    "if num1 > num2:\n",
    "    bigger, smaller = num1, num2\n",
    "else:\n",
    "    bigger, smaller = num2, num1\n",
    "\"\"\"\n",
    "#see later..."
   ]
  },
  {
   "cell_type": "code",
   "execution_count": 103,
   "metadata": {},
   "outputs": [
    {
     "name": "stdout",
     "output_type": "stream",
     "text": [
      "no good, you loose\n"
     ]
    }
   ],
   "source": [
    "### Guess a number game\n",
    "import random\n",
    "                                        \n",
    "# hidden      = random.randint(1, 10)                                      \n",
    "hidden      = 4 #Stub value for testing\n",
    "user_number = int( input(\"Pick a number between 1 and 10: \") )\n",
    "                                        \n",
    "if user_number == hidden:\n",
    "    print( \"Good guess you won\")\n",
    "else: \n",
    "    print( \"no good, you loose\")\n",
    "\n"
   ]
  },
  {
   "cell_type": "code",
   "execution_count": 116,
   "metadata": {},
   "outputs": [
    {
     "name": "stdout",
     "output_type": "stream",
     "text": [
      "your BMI is: 0: you are classifed as: bmi can't be lower than 1\n"
     ]
    }
   ],
   "source": [
    "\"\"\"\n",
    "Body Mass Index (BMI) is a measure of health on weight. \n",
    "It can be calculated by taking your weight in kilograms and \n",
    "dividing by the square of your height in meters. \n",
    "The interpretation of BMI for people 16 years or older is as follows:\n",
    "+-------------+-----------------------+\n",
    "| BMI         | Category              |\n",
    "+-------------+-----------------------+\n",
    "| < 18.5      | Underweight           |\n",
    "| 18.5 - 24.9 | Normal weight         |\n",
    "| 25 - 29.9   | Overweight            |\n",
    "| >= 30       | Weight Issue (Class 1)|\n",
    "+-------------+-----------------------+\n",
    "\"\"\"\n",
    "def KG_PER_POUND():\n",
    "    return 0.45359237   # Constant\n",
    "\n",
    "def MTR_PER_INCH():\n",
    "    return 0.0254       # Constant \n",
    "\n",
    "# weight_lbs = float( input(\"Enter weight in pounds:\"))\n",
    "# height_in  = float( input(\"Enter your height in inches:\") )\n",
    "    \n",
    "\n",
    "weight_kg  = weight_lbs * KG_PER_POUND()\n",
    "height_mtr = height_in * MTR_PER_INCH()\n",
    "\n",
    "# bmi = weight_kg / (height_mtr**2)  #** means to \"the power of\"\n",
    "bmi = 0\n",
    "#How to test each branch...\n",
    "msg = \"\"\n",
    "if 1 < bmi < 18.5:     \n",
    "    msg = \"Underweight\"\n",
    "elif 18.5 < bmi < 24.9:\n",
    "    msg = \"Normal weight\"\n",
    "elif 25.0 < bmi < 29.9:  \n",
    "    msg = \"Overweight\"\n",
    "elif 29.9 < bmi <= 30: \n",
    "    msg = \"Weight Issue (Class 1)\"\n",
    "else:\n",
    "    if bmi <= 0:\n",
    "        msg = \"bmi can't be lower than 1\"\n",
    "    else:\n",
    "        msg = \"bmi to large to calc\"     \n",
    "print(f\"your BMI is: {bmi}: you are classifed as: {msg}\")\n"
   ]
  },
  {
   "cell_type": "code",
   "execution_count": null,
   "metadata": {},
   "outputs": [],
   "source": []
  },
  {
   "cell_type": "code",
   "execution_count": 119,
   "metadata": {},
   "outputs": [
    {
     "name": "stdout",
     "output_type": "stream",
     "text": [
      "what is 4 minus 2?\n",
      "Correct! well done\n"
     ]
    }
   ],
   "source": [
    "# Subtraction tutor: suppose want it to ask 5 sums\n",
    "import random\n",
    "\n",
    "num1 = random.randint(0, 10)\n",
    "num2 = random.randint(0, 10)\n",
    "\n",
    "if num1 > num2:\n",
    "    bigger, smaller = num1, num2\n",
    "else:\n",
    "    bigger, smaller = num2, num1\n",
    "\n",
    "print( f\"what is {bigger} minus {smaller}?\" )\n",
    "user_input = int( input(\"what is the answer?\") )\n",
    "correct_answer = bigger-smaller\n",
    "if( user_input == correct_answer):\n",
    "    print(\"Correct! well done\")\n",
    "else: \n",
    "    print(\"Woops try again\")"
   ]
  },
  {
   "cell_type": "code",
   "execution_count": 120,
   "metadata": {},
   "outputs": [
    {
     "name": "stdout",
     "output_type": "stream",
     "text": [
      "do the subtraction code\n",
      "do the subtraction code\n",
      "do the subtraction code\n",
      "do the subtraction code\n",
      "do the subtraction code\n"
     ]
    }
   ],
   "source": [
    "#Suppose I want a quiz with 5 sums:\n",
    "\n",
    "for _ in range(5):\n",
    "    print(\"do the subtraction code\")"
   ]
  },
  {
   "cell_type": "code",
   "execution_count": 122,
   "metadata": {},
   "outputs": [
    {
     "name": "stdout",
     "output_type": "stream",
     "text": [
      "you entered:  this\n",
      "you entered:  that\n",
      "you entered:  these\n",
      "you entered:  those\n",
      "program continues\n"
     ]
    }
   ],
   "source": [
    "line = input(\"Enter next value or 'done'\")\n",
    "while line != \"done\":                           #stop-value (\"sentinel\")\n",
    "    print(\"you entered: \", line)\n",
    "    line = input(\"Enter next value or 'done'\")\n",
    "\n",
    "print(\"program continues\")"
   ]
  },
  {
   "cell_type": "code",
   "execution_count": 124,
   "metadata": {},
   "outputs": [],
   "source": [
    "line = input(\"Enter next value or 'done'\")\n",
    "while True:\n",
    "    if line == \"done\":\n",
    "        break\n",
    "    line = input(\"Enter next value or 'done'\")"
   ]
  },
  {
   "cell_type": "code",
   "execution_count": 125,
   "metadata": {},
   "outputs": [
    {
     "name": "stdout",
     "output_type": "stream",
     "text": [
      "it wasn't 'done' that you typed anyhow\n",
      "it wasn't 'done' that you typed anyhow\n",
      "it wasn't 'done' that you typed anyhow\n"
     ]
    }
   ],
   "source": [
    "while (line:=input(\"Enter next value or 'done'\")) != \"done\":\n",
    "    print(\"it wasn't 'done' that you typed anyhow\")"
   ]
  },
  {
   "cell_type": "code",
   "execution_count": 1,
   "metadata": {},
   "outputs": [
    {
     "name": "stdout",
     "output_type": "stream",
     "text": [
      "GCD is:  2\n"
     ]
    }
   ],
   "source": [
    "#greatest common denominator\n",
    "def get_smaller_bigger(num1, num2):\n",
    "    \"\"\"\n",
    "        Take in two num and return a tuple\n",
    "        where the smaller is the first \n",
    "        element of the tuple and the bigger \n",
    "        the second\n",
    "    \"\"\"\n",
    "    if num1 > num2:\n",
    "        smaller, bigger = num2, num1\n",
    "    else:\n",
    "        smaller, bigger = num1, num2\n",
    "    return smaller, bigger\n",
    "\n",
    "num1 = int( input(\"Enter a num for gcd: \") )\n",
    "num2 = int( input(\"Enter another num for gcd: \") )\n",
    "smaller, bigger = get_smaller_bigger(num1, num2)\n",
    "\n",
    "gcd = 0 #start val\n",
    "for i in range(1, smaller):\n",
    "    if smaller % i == 0 and bigger % i == 0:\n",
    "        gcd = i\n",
    "\n",
    "print(\"GCD is: \", gcd)"
   ]
  }
 ],
 "metadata": {
  "kernelspec": {
   "display_name": "Python 3",
   "language": "python",
   "name": "python3"
  },
  "language_info": {
   "codemirror_mode": {
    "name": "ipython",
    "version": 3
   },
   "file_extension": ".py",
   "mimetype": "text/x-python",
   "name": "python",
   "nbconvert_exporter": "python",
   "pygments_lexer": "ipython3",
   "version": "3.11.4"
  }
 },
 "nbformat": 4,
 "nbformat_minor": 2
}
