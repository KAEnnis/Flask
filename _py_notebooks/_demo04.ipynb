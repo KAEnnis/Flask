{
 "cells": [
  {
   "cell_type": "code",
   "execution_count": null,
   "metadata": {},
   "outputs": [],
   "source": [
    "time = 144\n",
    "\n",
    "min = time//60\n",
    "print( type(min), min)"
   ]
  },
  {
   "cell_type": "code",
   "execution_count": null,
   "metadata": {},
   "outputs": [],
   "source": [
    "#See below: why the int() needed?\n",
    "amount = 2.94\n",
    "cents = amount * 100\n",
    "\n",
    "#euro coin\n",
    "euro_coin = int(cents // 100)  #why the int() needed?\n",
    "left_over = cents % 100"
   ]
  },
  {
   "cell_type": "code",
   "execution_count": null,
   "metadata": {},
   "outputs": [],
   "source": [
    "#Improved version:\n",
    "amount = 2.94\n",
    "cents = amount * 100\n",
    "cents = int(cents)      # cast to int() early\n",
    "#euro coin\n",
    "euro_coin = cents // 100\n",
    "left_over = cents % 100"
   ]
  },
  {
   "cell_type": "markdown",
   "metadata": {},
   "source": [
    "#### Using `%` to repeatedly index each element of a sequence"
   ]
  },
  {
   "cell_type": "code",
   "execution_count": null,
   "metadata": {},
   "outputs": [],
   "source": [
    "# Suppose:\n",
    "slides = [\"slide1\", \"slide2\", \"slide3\"]\n",
    "\n",
    "#want:\n",
    "# slide1, slide2, slide3,... slide1, slide2, slide3... and so on repeatedly"
   ]
  },
  {
   "cell_type": "code",
   "execution_count": null,
   "metadata": {},
   "outputs": [],
   "source": [
    "print( 1 % 3 )\n",
    "print( 2 % 3 )\n",
    "print( 3 % 3 )\n",
    "print( 4 % 3 )\n",
    "print( 5 % 3 )\n",
    "print( 6 % 3 )"
   ]
  },
  {
   "cell_type": "code",
   "execution_count": null,
   "metadata": {},
   "outputs": [],
   "source": [
    "#TASK: adjust the print()'s from the above cell\n",
    "#       to get 0,1,2...0,1,2...repeatedly"
   ]
  },
  {
   "cell_type": "code",
   "execution_count": null,
   "metadata": {},
   "outputs": [],
   "source": [
    "slides = [\"slide1\", \"slide2\", \"slide3\"]\n",
    "def print_slide(n):\n",
    "    print(slides[n])\n",
    "    \n",
    "count = len(slides)\n",
    "while count < 20:\n",
    "    slide_index = count % len(slides)\n",
    "    print( slides[slide_index] )\n",
    "    count+=1\n",
    "\n",
    "#TASK: what is count at the end?\n",
    "print(\"program continues: count is: ... \")"
   ]
  },
  {
   "cell_type": "markdown",
   "metadata": {},
   "source": [
    "#### Python ternary expression: \n",
    "```python\n",
    "    result_if_true if condition else result_if_false\n",
    "```"
   ]
  },
  {
   "cell_type": "code",
   "execution_count": null,
   "metadata": {},
   "outputs": [],
   "source": [
    "#See below use of \"ternary expression\" used on right hand side of an assignment\n",
    "\n",
    "slides = [\"slide1\", \"slide2\", \"slide3\"]\n",
    "count = len(slides)\n",
    "count = count+1 if count<3 else count%len(slides)\n",
    "print(count)\n",
    "\n",
    "count = count+1 if count<3 else count%len(slides)\n",
    "print(count)\n"
   ]
  },
  {
   "cell_type": "code",
   "execution_count": null,
   "metadata": {},
   "outputs": [],
   "source": [
    "#TASK: can you fix this code?\n",
    "#       TRY to predict the output before running\n",
    "slides = [\"slide1\", \"slide2\", \"slide3\"]\n",
    "count = len(slides)\n",
    "while count < 20:\n",
    "    print( count , end=\", \")\n",
    "    count = count+1 if count<3 else count%len(slides)\n",
    "    print( f\"[after {count}]\" )\n",
    "print(f\"program continues: count is: ... {count}\")"
   ]
  },
  {
   "cell_type": "code",
   "execution_count": null,
   "metadata": {},
   "outputs": [],
   "source": []
  },
  {
   "cell_type": "code",
   "execution_count": null,
   "metadata": {},
   "outputs": [],
   "source": [
    "# Imagine the number below will change value:\n",
    "#   (i.e. set to just _one_ value for now)\n",
    "number = 4\n",
    "\n",
    "is_even = True     #stub-value for now\n",
    "print(f\"Number: {number} - is even: {is_even}\")\n"
   ]
  },
  {
   "cell_type": "code",
   "execution_count": null,
   "metadata": {},
   "outputs": [],
   "source": [
    "#TASK1of3 write if-else code to check is_even\n",
    "number = 4\n",
    "\n",
    "is_even = True     #stub-value for now\n",
    "print(f\"Number: {number} - is even: {is_even}\")"
   ]
  },
  {
   "cell_type": "code",
   "execution_count": null,
   "metadata": {},
   "outputs": [],
   "source": [
    "#TASK2of3 write a ternery-expression to check is_even\n",
    "number = 4\n",
    "\n",
    "is_even = True     #stub-value for now\n",
    "print(f\"Number: {number} - is even: {is_even}\")"
   ]
  },
  {
   "cell_type": "code",
   "execution_count": null,
   "metadata": {},
   "outputs": [],
   "source": [
    "#TASK3of3 write a ternery-expression to check is_even\n",
    "def is_even( number ):\n",
    "    return True     #stub-value for now\n",
    "\n",
    "for number in range(5):\n",
    "    print(f\"Number: {number} - is even: ...\" )  #TASK: update to print True/False"
   ]
  },
  {
   "cell_type": "code",
   "execution_count": null,
   "metadata": {},
   "outputs": [],
   "source": [
    "# Challenge: \n",
    "# Consider if a ternery-expression could be used for:\n",
    "# max(num1, num2)\n",
    "# min(num1, num2)\n",
    "# order(num1, num2, asc=True)\n",
    "# abs(num)\n",
    "# square(num)\n",
    "# ..."
   ]
  },
  {
   "cell_type": "code",
   "execution_count": null,
   "metadata": {},
   "outputs": [],
   "source": []
  },
  {
   "cell_type": "code",
   "execution_count": null,
   "metadata": {},
   "outputs": [],
   "source": []
  },
  {
   "cell_type": "markdown",
   "metadata": {},
   "source": [
    "# 2. Floating point pitfalls\n",
    "Show that `0.1 + 0.2 == 0.3`"
   ]
  },
  {
   "cell_type": "code",
   "execution_count": null,
   "metadata": {},
   "outputs": [],
   "source": [
    "# Your solution here\n",
    "\n",
    "# This won't work:\n",
    "# assert 0.1 + 0.2 == 0.3"
   ]
  },
  {
   "cell_type": "code",
   "execution_count": null,
   "metadata": {},
   "outputs": [],
   "source": [
    "_0pt33 = 0.33\n",
    "print(_0pt33)"
   ]
  },
  {
   "cell_type": "code",
   "execution_count": null,
   "metadata": {},
   "outputs": [],
   "source": [
    "_0pt33 = 0.33\n",
    "print(_0pt33)\n",
    "print(f\"{_0pt33} actually {_0pt33:.25f}\")\n",
    "format(_0pt33, \".25f\")"
   ]
  },
  {
   "cell_type": "code",
   "execution_count": null,
   "metadata": {},
   "outputs": [],
   "source": [
    "0.3 == 0.1 + 0.2\n",
    "print( format(0.3, \".25f\") )\n",
    "print( format(0.2, \".25f\") )\n",
    "print( format(0.1, \".25f\") )\n",
    "print( format(0.1+0.2, \".25f\") )\n",
    "print( format(10/3, \".3f\") )"
   ]
  },
  {
   "cell_type": "markdown",
   "metadata": {},
   "source": [
    "#### Formatting with `format()` and \"format-specifiers\" (e.g. '10.2f')"
   ]
  },
  {
   "cell_type": "code",
   "execution_count": null,
   "metadata": {},
   "outputs": [],
   "source": [
    "number = 4.21111783456\n",
    "print( number )\n",
    "print(f\"The number nicely formatted is: --{number:10.2f}--\")  \n",
    "#NOTE: @f-string -> the ':' to denote the \"format-specifier\""
   ]
  },
  {
   "cell_type": "code",
   "execution_count": null,
   "metadata": {},
   "outputs": [],
   "source": [
    "print(\"--\", format(57.467657, '10.2f'))\n",
    "print(\"--\", format(0.0033923, '10.2f'))\n",
    "print(\"--\", format(57.4, '10.2f'))\n",
    "print(\"--\", format(57, '10.2f'))"
   ]
  },
  {
   "cell_type": "code",
   "execution_count": null,
   "metadata": {},
   "outputs": [],
   "source": [
    "#The effect of changing the 'conversion-code' \n",
    "#   from f (floating-point)\n",
    "#   to   e (scientific)\n",
    "print(\"--\", format(57.467657, '10.2e'))\n",
    "print(\"--\", format(0.0033923, '10.2e'))\n",
    "print(\"--\", format(57.4, '10.2e'))\n",
    "print(\"--\", format(57, '10.2e'))\n"
   ]
  },
  {
   "cell_type": "code",
   "execution_count": null,
   "metadata": {},
   "outputs": [],
   "source": [
    "#The effect of changing the 'conversion-code' to `%`\n",
    "print(\"--\", format(57.467657, '10.2%'))\n",
    "print(\"--\", format(0.0033923, '10.2%'))\n",
    "print(\"--\", format(57.4, '10.2%'))\n",
    "print(\"--\", format(57, '10.2%'))\n",
    " \n"
   ]
  },
  {
   "cell_type": "code",
   "execution_count": null,
   "metadata": {},
   "outputs": [],
   "source": [
    "# `<`, `>` to justify the presented number\n",
    "print(\"--\", format(57.467657, '10.2%'))\n",
    "print(\"--\", format(57.467657, '<10.2%'))\n",
    "print(\"--\", format(57.467657, '>10.2%'))"
   ]
  },
  {
   "cell_type": "code",
   "execution_count": null,
   "metadata": {},
   "outputs": [],
   "source": [
    "# Formatting whole-numbers (\"integers\")\n",
    "print(\"--\", format(59832, '10d'))\n",
    "print(\"--\", format(59832, '<10d'))\n"
   ]
  },
  {
   "cell_type": "code",
   "execution_count": null,
   "metadata": {},
   "outputs": [],
   "source": [
    "print(\"--\", format(59832, '10x'))\n",
    "print(\"--\", format(59832, '<10x')) "
   ]
  },
  {
   "cell_type": "code",
   "execution_count": null,
   "metadata": {},
   "outputs": [],
   "source": [
    "\n",
    "print(\"--\", format(59832, '10o'))\n",
    "print(\"--\", format(59832, '<10o')) \n",
    "print(\"--\", format(59832, '10b'))\n",
    "print(\"--\", format(59832, '<10b')) "
   ]
  },
  {
   "cell_type": "code",
   "execution_count": null,
   "metadata": {},
   "outputs": [],
   "source": [
    "#formatting Strings\n",
    "print(\"--\", format(\"Python\", '20s') ,\"--\")\n",
    "print(\"--\", format(\"Python\", '<20s'),\"--\")\n",
    "print(\"--\", format(\"Python\", '>20s'),\"--\")\n"
   ]
  },
  {
   "cell_type": "code",
   "execution_count": null,
   "metadata": {},
   "outputs": [],
   "source": []
  },
  {
   "cell_type": "markdown",
   "metadata": {},
   "source": [
    "#### Using `round()` to round up/down numbers/floats"
   ]
  },
  {
   "cell_type": "code",
   "execution_count": null,
   "metadata": {},
   "outputs": [],
   "source": [
    "round(0.76) #default round to nearest 'unit'-->1"
   ]
  },
  {
   "cell_type": "code",
   "execution_count": null,
   "metadata": {},
   "outputs": [],
   "source": [
    "round(0.4724) #default round to nearest 'unit'-->0"
   ]
  },
  {
   "cell_type": "code",
   "execution_count": null,
   "metadata": {},
   "outputs": [],
   "source": [
    "round(2.8)"
   ]
  },
  {
   "cell_type": "code",
   "execution_count": null,
   "metadata": {},
   "outputs": [],
   "source": [
    "#When: .5 values\n",
    "#\n",
    "round(1.5) #round to nearest _even_ number when .5"
   ]
  },
  {
   "cell_type": "code",
   "execution_count": null,
   "metadata": {},
   "outputs": [],
   "source": [
    "round(2.5) #round to nearest _even_ number when .5"
   ]
  },
  {
   "cell_type": "code",
   "execution_count": null,
   "metadata": {},
   "outputs": [],
   "source": [
    "round(1.28,1) #the '1' refers to the nearest 1/10: e.g. 1.58--> 1.6\n",
    "              # rather than rounding to '2'"
   ]
  },
  {
   "cell_type": "code",
   "execution_count": null,
   "metadata": {},
   "outputs": [],
   "source": [
    "round(1.28)"
   ]
  },
  {
   "cell_type": "code",
   "execution_count": null,
   "metadata": {},
   "outputs": [],
   "source": [
    "round(1.286, 2) #here the '2' rounds to 100th's: so 1.59 (or 1.59_0_)"
   ]
  },
  {
   "cell_type": "code",
   "execution_count": null,
   "metadata": {},
   "outputs": [],
   "source": [
    "round( 17.58, -1 )#negative1 rounds to nearest 10 (not 1/10th) -->20 and zero's the bit after the decimal point"
   ]
  },
  {
   "cell_type": "code",
   "execution_count": null,
   "metadata": {},
   "outputs": [],
   "source": [
    "round( 122.159, -2) #-->100.0 (e.g. ''-2' rounds to nearest 100, not 1/100ths)"
   ]
  },
  {
   "cell_type": "code",
   "execution_count": null,
   "metadata": {},
   "outputs": [],
   "source": [
    "#CARE:\n",
    "round(0.325, 2) #looks like -->0.32 ('2' nearest even 100th)"
   ]
  },
  {
   "cell_type": "code",
   "execution_count": null,
   "metadata": {},
   "outputs": [],
   "source": [
    "#reason: \n",
    "# one: not verified: beind the sceens 0.325 'float', not 0.3250000000000\n",
    "0.32500001123221 #etc. so greater than .5 behind the scenes"
   ]
  },
  {
   "cell_type": "code",
   "execution_count": null,
   "metadata": {},
   "outputs": [],
   "source": [
    "round(0.225,2)"
   ]
  },
  {
   "cell_type": "code",
   "execution_count": null,
   "metadata": {},
   "outputs": [],
   "source": [
    "print( format(0.125, '.20f') )\n",
    "print( format(0.225, '.20f') )\n",
    "print( format(0.325, '.20f') )\n",
    "print( format(0.425, '.20f') )"
   ]
  },
  {
   "cell_type": "code",
   "execution_count": null,
   "metadata": {},
   "outputs": [],
   "source": [
    "x = 0.225\n",
    "print( format(x, '.20f') )\n",
    "round(x, 2)"
   ]
  },
  {
   "cell_type": "code",
   "execution_count": null,
   "metadata": {},
   "outputs": [],
   "source": []
  },
  {
   "cell_type": "code",
   "execution_count": null,
   "metadata": {},
   "outputs": [],
   "source": []
  },
  {
   "cell_type": "code",
   "execution_count": null,
   "metadata": {},
   "outputs": [],
   "source": []
  },
  {
   "cell_type": "code",
   "execution_count": null,
   "metadata": {},
   "outputs": [],
   "source": [
    "hex_code_point = '1F602'  # Unicode code point for the face with tears of joy emoji 😂 in hexadecimal\n",
    "unicode_code_point = ord(chr(int(hex_code_point, 16)))\n",
    "print(f\"The Unicode code point of the emoji is {unicode_code_point}\")\n",
    "print( f\"{chr(int(hex_code_point, 16))}\" )\n"
   ]
  },
  {
   "cell_type": "code",
   "execution_count": null,
   "metadata": {},
   "outputs": [],
   "source": []
  },
  {
   "cell_type": "code",
   "execution_count": null,
   "metadata": {},
   "outputs": [],
   "source": []
  },
  {
   "cell_type": "code",
   "execution_count": null,
   "metadata": {},
   "outputs": [],
   "source": []
  },
  {
   "cell_type": "code",
   "execution_count": null,
   "metadata": {},
   "outputs": [],
   "source": []
  },
  {
   "cell_type": "markdown",
   "metadata": {},
   "source": [
    "#### Python List (\"in-place\" operation concept)"
   ]
  },
  {
   "cell_type": "code",
   "execution_count": null,
   "metadata": {},
   "outputs": [],
   "source": [
    "list = [1,2,3,4,5]"
   ]
  },
  {
   "cell_type": "code",
   "execution_count": null,
   "metadata": {},
   "outputs": [],
   "source": [
    "import random\n",
    "list = [1,2,3,4,]\n",
    "help(random.shuffle)        #\"in-place\" concept"
   ]
  },
  {
   "cell_type": "code",
   "execution_count": 2,
   "metadata": {},
   "outputs": [],
   "source": [
    "#dir(list)"
   ]
  },
  {
   "cell_type": "code",
   "execution_count": null,
   "metadata": {},
   "outputs": [],
   "source": [
    "#Demo sort() and reverse()"
   ]
  }
 ],
 "metadata": {
  "kernelspec": {
   "display_name": "Python 3",
   "language": "python",
   "name": "python3"
  },
  "language_info": {
   "codemirror_mode": {
    "name": "ipython",
    "version": 3
   },
   "file_extension": ".py",
   "mimetype": "text/x-python",
   "name": "python",
   "nbconvert_exporter": "python",
   "pygments_lexer": "ipython3",
   "version": "3.11.4"
  }
 },
 "nbformat": 4,
 "nbformat_minor": 2
}
