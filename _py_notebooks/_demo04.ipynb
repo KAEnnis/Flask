{
 "cells": [
  {
   "cell_type": "code",
   "execution_count": 3,
   "metadata": {},
   "outputs": [
    {
     "name": "stdout",
     "output_type": "stream",
     "text": [
      "<class 'int'> 2\n"
     ]
    }
   ],
   "source": [
    "time = 144\n",
    "\n",
    "min = time//60\n",
    "print( type(min), min)"
   ]
  },
  {
   "cell_type": "code",
   "execution_count": 6,
   "metadata": {},
   "outputs": [
    {
     "name": "stdout",
     "output_type": "stream",
     "text": [
      "294.0 <class 'float'>\n",
      "2 94.0\n"
     ]
    }
   ],
   "source": [
    "#See below: why the int() needed?\n",
    "amount = 2.94\n",
    "cents = amount * 100\n",
    "\n",
    "#euro coin\n",
    "euro_coin = int(cents // 100)  #why the int() needed?\n",
    "left_over = cents % 100\n"
   ]
  },
  {
   "cell_type": "code",
   "execution_count": null,
   "metadata": {},
   "outputs": [],
   "source": [
    "#Improved version:\n",
    "amount = 2.94\n",
    "cents = amount * 100\n",
    "cents = int(cents)      # cast to int() early\n",
    "#euro coin\n",
    "euro_coin = cents // 100\n",
    "left_over = cents % 100"
   ]
  },
  {
   "cell_type": "markdown",
   "metadata": {},
   "source": [
    "#### Using `%` to repeatedly index each element of a sequence"
   ]
  },
  {
   "cell_type": "code",
   "execution_count": 8,
   "metadata": {},
   "outputs": [],
   "source": [
    "# Suppose:\n",
    "slides = [\"slide1\", \"slide2\", \"slide3\"]\n",
    "\n",
    "#want:\n",
    "# slide1, slide2, slide3,... slide1, slide2, slide3... and so on repeatedly\n",
    "\n",
    "# How to go about doing the above without using `%` operator?"
   ]
  },
  {
   "cell_type": "code",
   "execution_count": 11,
   "metadata": {},
   "outputs": [
    {
     "name": "stdout",
     "output_type": "stream",
     "text": [
      "1\n"
     ]
    }
   ],
   "source": [
    "num = 1\n",
    "num_mod_3 = num % 3\n",
    "print(num_mod_3)        #what prints?"
   ]
  },
  {
   "cell_type": "code",
   "execution_count": 12,
   "metadata": {},
   "outputs": [
    {
     "name": "stdout",
     "output_type": "stream",
     "text": [
      "1\n",
      "2\n",
      "0\n",
      "1\n",
      "2\n",
      "0\n"
     ]
    }
   ],
   "source": [
    "print( 1 % 3 )\n",
    "print( 2 % 3 )\n",
    "print( 3 % 3 )  #what prints here\n",
    "print( 4 % 3 )\n",
    "print( 5 % 3 )\n",
    "print( 6 % 3 )  #what prints here"
   ]
  },
  {
   "cell_type": "code",
   "execution_count": 13,
   "metadata": {},
   "outputs": [
    {
     "name": "stdout",
     "output_type": "stream",
     "text": [
      "0\n",
      "1\n",
      "2\n",
      "0\n",
      "1\n",
      "2\n"
     ]
    }
   ],
   "source": [
    "#TASK: adjust the print()'s from the above cell\n",
    "#       to get 0,1,2...0,1,2...repeatedly\n",
    "print( 3 %  3)  #what prints here\n",
    "print( 4 % 3 )\n",
    "print( 5 % 3 )\n",
    "print( 6 % 3 )  #what prints here\n",
    "print( 7 % 3 )  \n",
    "print( 8 % 3 )"
   ]
  },
  {
   "cell_type": "code",
   "execution_count": null,
   "metadata": {},
   "outputs": [],
   "source": [
    "slides = [\"slide1\", \"slide2\", \"slide3\"]\n",
    "#Any application for this...?"
   ]
  },
  {
   "cell_type": "code",
   "execution_count": 14,
   "metadata": {},
   "outputs": [
    {
     "name": "stdout",
     "output_type": "stream",
     "text": [
      "3\n"
     ]
    }
   ],
   "source": [
    "print( len(slides) )"
   ]
  },
  {
   "cell_type": "code",
   "execution_count": 15,
   "metadata": {},
   "outputs": [
    {
     "name": "stdout",
     "output_type": "stream",
     "text": [
      "3\n",
      "4\n",
      "5\n",
      "6\n",
      "7\n",
      "8\n",
      "9\n",
      "10\n",
      "11\n",
      "12\n",
      "program continues: count is 13\n"
     ]
    }
   ],
   "source": [
    "slides = [\"slide1\", \"slide2\", \"slide3\"]\n",
    "\n",
    "count = len(slides)\n",
    "while count <= 12:\n",
    "    print(count)\n",
    "    count +=1\n",
    "\n",
    "print(f\"program continues: count is {count}\")"
   ]
  },
  {
   "cell_type": "code",
   "execution_count": 16,
   "metadata": {},
   "outputs": [
    {
     "name": "stdout",
     "output_type": "stream",
     "text": [
      "slide1\n",
      "slide2\n",
      "slide3\n",
      "slide1\n",
      "slide2\n",
      "slide3\n",
      "slide1\n",
      "slide2\n",
      "slide3\n",
      "slide1\n",
      "program continues: count is 13\n"
     ]
    }
   ],
   "source": [
    "slides = [\"slide1\", \"slide2\", \"slide3\"]\n",
    "#want to get slide1, slide2, slide3, slid1... this time\n",
    "count = len(slides)\n",
    "while count <= 12:\n",
    "    index = count % len(slides)\n",
    "    print(slides[index])\n",
    "    count +=1\n",
    "\n",
    "print(f\"program continues: count is {count}\")"
   ]
  },
  {
   "cell_type": "code",
   "execution_count": null,
   "metadata": {},
   "outputs": [],
   "source": []
  },
  {
   "cell_type": "code",
   "execution_count": null,
   "metadata": {},
   "outputs": [],
   "source": []
  },
  {
   "cell_type": "code",
   "execution_count": null,
   "metadata": {},
   "outputs": [],
   "source": []
  },
  {
   "cell_type": "code",
   "execution_count": null,
   "metadata": {},
   "outputs": [],
   "source": []
  },
  {
   "cell_type": "code",
   "execution_count": null,
   "metadata": {},
   "outputs": [],
   "source": []
  },
  {
   "cell_type": "code",
   "execution_count": 18,
   "metadata": {},
   "outputs": [
    {
     "name": "stdout",
     "output_type": "stream",
     "text": [
      "slide1\n",
      "slide2\n",
      "slide3\n",
      "slide1\n",
      "slide2\n",
      "slide3\n",
      "slide1\n",
      "slide2\n",
      "slide3\n",
      "slide1\n",
      "slide2\n",
      "slide3\n",
      "slide1\n",
      "slide2\n",
      "slide3\n",
      "slide1\n",
      "slide2\n",
      "program continues: count is: ... 20\n"
     ]
    }
   ],
   "source": [
    "slides = [\"slide1\", \"slide2\", \"slide3\"]\n",
    "def print_slide(n):\n",
    "    print(slides[n])\n",
    "    \n",
    "count = len(slides)\n",
    "while count < 20:\n",
    "    slide_index = count % len(slides)\n",
    "    print_slide(slide_index)            #call function here instead\n",
    "    count+=1\n",
    "\n",
    "#TASK: what is count at the end?\n",
    "print(f\"program continues: count is: ... {count}\")"
   ]
  },
  {
   "cell_type": "code",
   "execution_count": null,
   "metadata": {},
   "outputs": [],
   "source": []
  },
  {
   "cell_type": "code",
   "execution_count": null,
   "metadata": {},
   "outputs": [],
   "source": []
  },
  {
   "cell_type": "code",
   "execution_count": null,
   "metadata": {},
   "outputs": [],
   "source": []
  },
  {
   "cell_type": "code",
   "execution_count": null,
   "metadata": {},
   "outputs": [],
   "source": []
  },
  {
   "cell_type": "markdown",
   "metadata": {},
   "source": [
    "#### Python ternary expression: \n",
    "```python\n",
    "    result_if_true if condition else result_if_false\n",
    "```"
   ]
  },
  {
   "cell_type": "code",
   "execution_count": 20,
   "metadata": {},
   "outputs": [
    {
     "name": "stdout",
     "output_type": "stream",
     "text": [
      "hello\n"
     ]
    }
   ],
   "source": [
    "chatty = True\n",
    "print( \"hello\" if chatty else \"...silence...\")"
   ]
  },
  {
   "cell_type": "code",
   "execution_count": null,
   "metadata": {},
   "outputs": [],
   "source": []
  },
  {
   "cell_type": "code",
   "execution_count": null,
   "metadata": {},
   "outputs": [],
   "source": []
  },
  {
   "cell_type": "code",
   "execution_count": null,
   "metadata": {},
   "outputs": [],
   "source": []
  },
  {
   "cell_type": "code",
   "execution_count": null,
   "metadata": {},
   "outputs": [],
   "source": []
  },
  {
   "cell_type": "code",
   "execution_count": 23,
   "metadata": {},
   "outputs": [
    {
     "name": "stdout",
     "output_type": "stream",
     "text": [
      "0\n",
      "1\n",
      "2\n",
      "0\n",
      "1\n"
     ]
    }
   ],
   "source": [
    "#See below use of \"ternary expression\" used on right hand side of an assignment\n",
    "# What's it going to print?\n",
    "#AND: What is the point of this?\n",
    "# AND FIX to make 0,1,2...0,1,2\n",
    "slides = [\"slide1\", \"slide2\", \"slide3\"]\n",
    "count = len(slides)\n",
    "count = count+1 if count<3 else count%len(slides)\n",
    "print(count) #0\n",
    "\n",
    "count = count+1 if count<3 else count%len(slides)\n",
    "print(count) #1\n",
    "\n",
    "count = count+1 if count<3 else count%len(slides)\n",
    "print(count) #2\n",
    "\n",
    "count = count=count-2 if count<3 else count%len(slides)\n",
    "print(count) #0\n",
    "\n",
    "count = count+1 if count<3 else count%len(slides)\n",
    "print(count) #1"
   ]
  },
  {
   "cell_type": "code",
   "execution_count": null,
   "metadata": {},
   "outputs": [],
   "source": []
  },
  {
   "cell_type": "code",
   "execution_count": null,
   "metadata": {},
   "outputs": [],
   "source": []
  },
  {
   "cell_type": "code",
   "execution_count": null,
   "metadata": {},
   "outputs": [],
   "source": []
  },
  {
   "cell_type": "code",
   "execution_count": null,
   "metadata": {},
   "outputs": [],
   "source": []
  },
  {
   "cell_type": "code",
   "execution_count": 25,
   "metadata": {},
   "outputs": [],
   "source": [
    "#TASK: can you fix this code?\n",
    "#       TRY to predict the output before running\n",
    "slides = [\"slide1\", \"slide2\", \"slide3\"]\n",
    "count = len(slides)\n",
    "while count < 20:\n",
    "    print( count , end=\", \")\n",
    "    count = count+1 if count<3 else count%len(slides)\n",
    "    print( f\"[after {count}]\" )\n",
    "print(f\"program continues: count is: ... {count}\")"
   ]
  },
  {
   "cell_type": "code",
   "execution_count": null,
   "metadata": {},
   "outputs": [],
   "source": []
  },
  {
   "cell_type": "code",
   "execution_count": null,
   "metadata": {},
   "outputs": [],
   "source": []
  },
  {
   "cell_type": "code",
   "execution_count": null,
   "metadata": {},
   "outputs": [],
   "source": []
  },
  {
   "cell_type": "code",
   "execution_count": 28,
   "metadata": {},
   "outputs": [
    {
     "name": "stdout",
     "output_type": "stream",
     "text": [
      "Number: 4 - is even: True\n"
     ]
    }
   ],
   "source": [
    "# Imagine the number below will change value:\n",
    "#   (i.e. set to just _one_ value for now)\n",
    "number = 4\n",
    "\n",
    "is_even = True     #stub-value for now\n",
    "print(f\"Number: {number} - is even: {is_even}\")\n"
   ]
  },
  {
   "cell_type": "code",
   "execution_count": 30,
   "metadata": {},
   "outputs": [
    {
     "name": "stdout",
     "output_type": "stream",
     "text": [
      "Number: 5 - is even: False\n"
     ]
    }
   ],
   "source": [
    "#TASK1of3 write if-else code to check is_even\n",
    "number = 5\n",
    "if number%2 ==0:\n",
    "    is_even = True     #stub-value for now\n",
    "else:\n",
    "    is_even = False\n",
    "print(f\"Number: {number} - is even: {is_even}\")"
   ]
  },
  {
   "cell_type": "code",
   "execution_count": null,
   "metadata": {},
   "outputs": [],
   "source": []
  },
  {
   "cell_type": "code",
   "execution_count": null,
   "metadata": {},
   "outputs": [],
   "source": []
  },
  {
   "cell_type": "code",
   "execution_count": null,
   "metadata": {},
   "outputs": [],
   "source": []
  },
  {
   "cell_type": "code",
   "execution_count": null,
   "metadata": {},
   "outputs": [],
   "source": []
  },
  {
   "cell_type": "code",
   "execution_count": 32,
   "metadata": {},
   "outputs": [
    {
     "name": "stdout",
     "output_type": "stream",
     "text": [
      "Number: 5 - is even: False\n"
     ]
    }
   ],
   "source": [
    "#TASK2of3 write a ternery-expression to check is_even\n",
    "number = 5\n",
    "\n",
    "is_even = True if number%2==0 else False    #value-if-true if cond else value-if-false\n",
    "print(f\"Number: {number} - is even: {is_even}\")"
   ]
  },
  {
   "cell_type": "code",
   "execution_count": null,
   "metadata": {},
   "outputs": [],
   "source": []
  },
  {
   "cell_type": "code",
   "execution_count": null,
   "metadata": {},
   "outputs": [],
   "source": []
  },
  {
   "cell_type": "code",
   "execution_count": null,
   "metadata": {},
   "outputs": [],
   "source": []
  },
  {
   "cell_type": "code",
   "execution_count": null,
   "metadata": {},
   "outputs": [],
   "source": []
  },
  {
   "cell_type": "code",
   "execution_count": null,
   "metadata": {},
   "outputs": [],
   "source": []
  },
  {
   "cell_type": "code",
   "execution_count": 33,
   "metadata": {},
   "outputs": [
    {
     "name": "stdout",
     "output_type": "stream",
     "text": [
      "Number: 0 - is even: ...True\n",
      "Number: 1 - is even: ...False\n",
      "Number: 2 - is even: ...True\n",
      "Number: 3 - is even: ...False\n",
      "Number: 4 - is even: ...True\n"
     ]
    }
   ],
   "source": [
    "#TASK3of3 write a ternery-expression to check is_even\n",
    "def is_even( number ):\n",
    "    return True  if number%2==0 else False  #stub-value for now\n",
    "\n",
    "for number in range(5):\n",
    "    print(f\"Number: {number} - is even: ...{is_even(number)}\" )  #TASK: update to print True/False"
   ]
  },
  {
   "cell_type": "code",
   "execution_count": null,
   "metadata": {},
   "outputs": [],
   "source": []
  },
  {
   "cell_type": "code",
   "execution_count": null,
   "metadata": {},
   "outputs": [],
   "source": []
  },
  {
   "cell_type": "code",
   "execution_count": null,
   "metadata": {},
   "outputs": [],
   "source": []
  },
  {
   "cell_type": "code",
   "execution_count": null,
   "metadata": {},
   "outputs": [],
   "source": []
  },
  {
   "cell_type": "code",
   "execution_count": 35,
   "metadata": {},
   "outputs": [
    {
     "name": "stdout",
     "output_type": "stream",
     "text": [
      "3\n",
      "6\n"
     ]
    }
   ],
   "source": [
    "# Challenge: \n",
    "# Consider if a ternery-expression could be used for:\n",
    "# max(num1, num2)\n",
    "# min(num1, num2)\n",
    "# order(num1, num2, asc=True)\n",
    "# abs(num)\n",
    "# square(num)\n",
    "# ...\n",
    "def max(num1, num2):\n",
    "    #return num1 if it's bigger otherwise num2\n",
    "    return num1 if num1>num2 else num2\n",
    "\n",
    "def min(num1, num2):\n",
    "    #return num1 if it's bigger otherwise num2\n",
    "    return num1 if num1<num2 else num2\n",
    "\n",
    "\n",
    "print( min(5, 3) )\n",
    "print( min(6, 9) )"
   ]
  },
  {
   "cell_type": "code",
   "execution_count": null,
   "metadata": {},
   "outputs": [],
   "source": []
  },
  {
   "cell_type": "code",
   "execution_count": 63,
   "metadata": {},
   "outputs": [
    {
     "name": "stdout",
     "output_type": "stream",
     "text": [
      "(3, 5)\n",
      "(2, 3)\n"
     ]
    }
   ],
   "source": [
    "def order(num1, num2, asc=True): #default value for 'asc' parameter\n",
    "    #convert the below to nested ternary\n",
    "    return ( (num1, num2) if num1<num2 else (num2, num1) ) if asc==True else ((num2, num1) if num1<num2 else (num1, num2))\n",
    "    \n",
    "    # if asc==True:\n",
    "    #     if num1<num2 :\n",
    "    #         return (num1, num2)\n",
    "    #     else:\n",
    "    #         return (num2, num1)\n",
    "    # else:\n",
    "    #     if num1<num2 :\n",
    "    #         return (num2, num1)\n",
    "    #     else:\n",
    "    #         return (num1, num2)\n",
    "\n",
    "\n",
    "\n",
    "print( order( 5, 3 ) )   #return (3,5)           #arguments\n",
    "print( order( 2, 3 ) )   #return (2,3)\n"
   ]
  },
  {
   "cell_type": "code",
   "execution_count": null,
   "metadata": {},
   "outputs": [],
   "source": []
  },
  {
   "cell_type": "code",
   "execution_count": null,
   "metadata": {},
   "outputs": [],
   "source": []
  },
  {
   "cell_type": "code",
   "execution_count": null,
   "metadata": {},
   "outputs": [],
   "source": []
  },
  {
   "cell_type": "code",
   "execution_count": null,
   "metadata": {},
   "outputs": [],
   "source": []
  },
  {
   "cell_type": "markdown",
   "metadata": {},
   "source": [
    "# 2. Floating point pitfalls\n",
    "Show that `0.1 + 0.2 == 0.3`"
   ]
  },
  {
   "cell_type": "code",
   "execution_count": 49,
   "metadata": {},
   "outputs": [
    {
     "name": "stdout",
     "output_type": "stream",
     "text": [
      "False\n"
     ]
    }
   ],
   "source": [
    "# Your solution here\n",
    "result =  0.1 + 0.2 == 0.3\n",
    "print(result)\n",
    "# This won't work:\n",
    "# assert 0.1 + 0.2 == 0.3"
   ]
  },
  {
   "cell_type": "code",
   "execution_count": 44,
   "metadata": {},
   "outputs": [
    {
     "name": "stdout",
     "output_type": "stream",
     "text": [
      "0.33\n"
     ]
    }
   ],
   "source": [
    "_0pt33 = 0.33\n",
    "print(_0pt33) #what prints?"
   ]
  },
  {
   "cell_type": "code",
   "execution_count": null,
   "metadata": {},
   "outputs": [],
   "source": []
  },
  {
   "cell_type": "code",
   "execution_count": null,
   "metadata": {},
   "outputs": [],
   "source": []
  },
  {
   "cell_type": "code",
   "execution_count": null,
   "metadata": {},
   "outputs": [],
   "source": []
  },
  {
   "cell_type": "code",
   "execution_count": null,
   "metadata": {},
   "outputs": [],
   "source": []
  },
  {
   "cell_type": "code",
   "execution_count": 45,
   "metadata": {},
   "outputs": [
    {
     "name": "stdout",
     "output_type": "stream",
     "text": [
      "0.33\n",
      "0.33 actually 0.3300000000000000155431223\n"
     ]
    },
    {
     "data": {
      "text/plain": [
       "'0.3300000000000000155431223'"
      ]
     },
     "execution_count": 45,
     "metadata": {},
     "output_type": "execute_result"
    }
   ],
   "source": [
    "_0pt33 = 0.33\n",
    "print(_0pt33)\n",
    "print(f\"{_0pt33} actually {_0pt33:.25f}\") #note the ':' to mark the \"format-specifier\"\n",
    "format(_0pt33, \".25f\")"
   ]
  },
  {
   "cell_type": "code",
   "execution_count": null,
   "metadata": {},
   "outputs": [],
   "source": []
  },
  {
   "cell_type": "code",
   "execution_count": null,
   "metadata": {},
   "outputs": [],
   "source": []
  },
  {
   "cell_type": "code",
   "execution_count": null,
   "metadata": {},
   "outputs": [],
   "source": []
  },
  {
   "cell_type": "code",
   "execution_count": null,
   "metadata": {},
   "outputs": [],
   "source": []
  },
  {
   "cell_type": "code",
   "execution_count": 51,
   "metadata": {},
   "outputs": [
    {
     "name": "stdout",
     "output_type": "stream",
     "text": [
      "0.2999999999999999888977698\n",
      "0.2000000000000000111022302\n",
      "0.1000000000000000055511151\n",
      "0.3000000000000000444089210\n",
      "3.33333333333333348136307\n"
     ]
    }
   ],
   "source": [
    "# 0.3 == 0.1 + 0.2\n",
    "print( format(0.3, \".25f\") )\n",
    "print( format(0.2, \".25f\") )\n",
    "print( format(0.1, \".25f\") )\n",
    "print( format(0.1+0.2, \".25f\") )\n",
    "print( format(10/3, \".23f\") )"
   ]
  },
  {
   "cell_type": "markdown",
   "metadata": {},
   "source": [
    "#### Formatting with `format()` and \"format-specifiers\" (e.g. '10.2f')"
   ]
  },
  {
   "cell_type": "code",
   "execution_count": 52,
   "metadata": {},
   "outputs": [
    {
     "name": "stdout",
     "output_type": "stream",
     "text": [
      "4.21111783456\n",
      "The number nicely formatted is: --      4.21--\n"
     ]
    }
   ],
   "source": [
    "number = 4.21111783456\n",
    "print( number )\n",
    "print(f\"The number nicely formatted is: --{number:10.2f}--\")  \n",
    "#NOTE: @f-string -> the ':' to denote the \"format-specifier\""
   ]
  },
  {
   "cell_type": "code",
   "execution_count": 53,
   "metadata": {},
   "outputs": [
    {
     "name": "stdout",
     "output_type": "stream",
     "text": [
      "--      57.47\n",
      "--       0.00\n",
      "--      57.40\n",
      "--      57.00\n"
     ]
    }
   ],
   "source": [
    "print(\"--\", format(57.467657, '10.2f'))\n",
    "print(\"--\", format(0.0033923, '10.2f'))\n",
    "print(\"--\", format(57.4, '10.2f'))\n",
    "print(\"--\", format(57, '10.2f'))"
   ]
  },
  {
   "cell_type": "code",
   "execution_count": 54,
   "metadata": {},
   "outputs": [
    {
     "name": "stdout",
     "output_type": "stream",
     "text": [
      "--   5.75e+01\n",
      "--   3.39e-03\n",
      "--   5.74e+01\n",
      "--   5.70e+01\n"
     ]
    }
   ],
   "source": [
    "#The effect of changing the 'conversion-code' \n",
    "#   from f (floating-point)\n",
    "#   to   e (scientific)\n",
    "print(\"--\", format(57.467657, '10.2e'))\n",
    "print(\"--\", format(0.0033923, '10.2e'))\n",
    "print(\"--\", format(57.4, '10.2e'))\n",
    "print(\"--\", format(57, '10.2e'))\n"
   ]
  },
  {
   "cell_type": "code",
   "execution_count": 55,
   "metadata": {},
   "outputs": [
    {
     "name": "stdout",
     "output_type": "stream",
     "text": [
      "--   5746.77%\n",
      "--      0.34%\n",
      "--   5740.00%\n",
      "--   5700.00%\n"
     ]
    }
   ],
   "source": [
    "#The effect of changing the 'conversion-code' to `%`\n",
    "print(\"--\", format(57.467657, '10.2%'))\n",
    "print(\"--\", format(0.0033923, '10.2%'))\n",
    "print(\"--\", format(57.4, '10.2%'))\n",
    "print(\"--\", format(57, '10.2%'))\n",
    " \n"
   ]
  },
  {
   "cell_type": "code",
   "execution_count": 57,
   "metadata": {},
   "outputs": [
    {
     "name": "stdout",
     "output_type": "stream",
     "text": [
      "--   5746.77%\n",
      "-- 5746.77%   --\n",
      "--   5746.77%\n"
     ]
    }
   ],
   "source": [
    "# `<`, `>` to justify the presented number\n",
    "print(\"--\", format(57.467657, '10.2%'))\n",
    "print(\"--\", format(57.467657, '<10.2%'), \"--\")\n",
    "print(\"--\", format(57.467657, '>10.2%'))"
   ]
  },
  {
   "cell_type": "code",
   "execution_count": 58,
   "metadata": {},
   "outputs": [
    {
     "name": "stdout",
     "output_type": "stream",
     "text": [
      "--      59832\n",
      "-- 59832     \n"
     ]
    }
   ],
   "source": [
    "# Formatting whole-numbers (\"integers\")\n",
    "print(\"--\", format(59832, '10d'))\n",
    "print(\"--\", format(59832, '<10d'))\n"
   ]
  },
  {
   "cell_type": "code",
   "execution_count": 59,
   "metadata": {},
   "outputs": [
    {
     "name": "stdout",
     "output_type": "stream",
     "text": [
      "--       e9b8\n",
      "-- e9b8      \n"
     ]
    }
   ],
   "source": [
    "print(\"--\", format(59832, '10x'))\n",
    "print(\"--\", format(59832, '<10x')) "
   ]
  },
  {
   "cell_type": "code",
   "execution_count": 60,
   "metadata": {},
   "outputs": [
    {
     "name": "stdout",
     "output_type": "stream",
     "text": [
      "--     164670\n",
      "-- 164670    \n",
      "-- 1110100110111000\n",
      "-- 1110100110111000\n"
     ]
    }
   ],
   "source": [
    "\n",
    "print(\"--\", format(59832, '10o'))\n",
    "print(\"--\", format(59832, '<10o')) \n",
    "print(\"--\", format(59832, '10b'))\n",
    "print(\"--\", format(59832, '<10b')) "
   ]
  },
  {
   "cell_type": "code",
   "execution_count": 61,
   "metadata": {},
   "outputs": [
    {
     "name": "stdout",
     "output_type": "stream",
     "text": [
      "-- Python               --\n",
      "-- Python               --\n",
      "--               Python --\n"
     ]
    }
   ],
   "source": [
    "#formatting Strings\n",
    "print(\"--\", format(\"Python\", '20s') ,\"--\")\n",
    "print(\"--\", format(\"Python\", '<20s'),\"--\")\n",
    "print(\"--\", format(\"Python\", '>20s'),\"--\")\n"
   ]
  },
  {
   "cell_type": "code",
   "execution_count": null,
   "metadata": {},
   "outputs": [],
   "source": []
  },
  {
   "cell_type": "markdown",
   "metadata": {},
   "source": [
    "#### Using `round()` to round up/down numbers/floats"
   ]
  },
  {
   "cell_type": "code",
   "execution_count": 64,
   "metadata": {},
   "outputs": [
    {
     "data": {
      "text/plain": [
       "1"
      ]
     },
     "execution_count": 64,
     "metadata": {},
     "output_type": "execute_result"
    }
   ],
   "source": [
    "round(0.76) #default round to nearest 'unit'-->1"
   ]
  },
  {
   "cell_type": "code",
   "execution_count": 65,
   "metadata": {},
   "outputs": [
    {
     "data": {
      "text/plain": [
       "0"
      ]
     },
     "execution_count": 65,
     "metadata": {},
     "output_type": "execute_result"
    }
   ],
   "source": [
    "round(0.4724) #default round to nearest 'unit'-->0"
   ]
  },
  {
   "cell_type": "code",
   "execution_count": 66,
   "metadata": {},
   "outputs": [
    {
     "data": {
      "text/plain": [
       "3"
      ]
     },
     "execution_count": 66,
     "metadata": {},
     "output_type": "execute_result"
    }
   ],
   "source": [
    "round(2.8)"
   ]
  },
  {
   "cell_type": "code",
   "execution_count": 67,
   "metadata": {},
   "outputs": [
    {
     "data": {
      "text/plain": [
       "2"
      ]
     },
     "execution_count": 67,
     "metadata": {},
     "output_type": "execute_result"
    }
   ],
   "source": [
    "#When: .5 values\n",
    "#\n",
    "round(1.5) #round to nearest _even_ number when .5"
   ]
  },
  {
   "cell_type": "code",
   "execution_count": 69,
   "metadata": {},
   "outputs": [
    {
     "data": {
      "text/plain": [
       "2"
      ]
     },
     "execution_count": 69,
     "metadata": {},
     "output_type": "execute_result"
    }
   ],
   "source": [
    "round(2.50) #round to nearest _even_ number when .5"
   ]
  },
  {
   "cell_type": "code",
   "execution_count": 70,
   "metadata": {},
   "outputs": [
    {
     "data": {
      "text/plain": [
       "1.3"
      ]
     },
     "execution_count": 70,
     "metadata": {},
     "output_type": "execute_result"
    }
   ],
   "source": [
    "round(1.28,1) #the '1' refers to the nearest 1/10: e.g. 1.58--> 1.6\n",
    "              # rather than rounding to '2'"
   ]
  },
  {
   "cell_type": "code",
   "execution_count": 71,
   "metadata": {},
   "outputs": [
    {
     "data": {
      "text/plain": [
       "1"
      ]
     },
     "execution_count": 71,
     "metadata": {},
     "output_type": "execute_result"
    }
   ],
   "source": [
    "round(1.28)"
   ]
  },
  {
   "cell_type": "code",
   "execution_count": 72,
   "metadata": {},
   "outputs": [
    {
     "data": {
      "text/plain": [
       "1.29"
      ]
     },
     "execution_count": 72,
     "metadata": {},
     "output_type": "execute_result"
    }
   ],
   "source": [
    "round(1.286, 2) #here the '2' rounds to 100th's: so 1.59 (or 1.59_0_)"
   ]
  },
  {
   "cell_type": "code",
   "execution_count": 73,
   "metadata": {},
   "outputs": [
    {
     "data": {
      "text/plain": [
       "20.0"
      ]
     },
     "execution_count": 73,
     "metadata": {},
     "output_type": "execute_result"
    }
   ],
   "source": [
    "round( 17.58, -1 )#negative1 rounds to nearest 10 (not 1/10th) -->20 and zero's the bit after the decimal point"
   ]
  },
  {
   "cell_type": "code",
   "execution_count": 74,
   "metadata": {},
   "outputs": [
    {
     "data": {
      "text/plain": [
       "100.0"
      ]
     },
     "execution_count": 74,
     "metadata": {},
     "output_type": "execute_result"
    }
   ],
   "source": [
    "round( 122.159, -2) #-->100.0 (e.g. ''-2' rounds to nearest 100, not 1/100ths)"
   ]
  },
  {
   "cell_type": "code",
   "execution_count": 75,
   "metadata": {},
   "outputs": [
    {
     "data": {
      "text/plain": [
       "0.33"
      ]
     },
     "execution_count": 75,
     "metadata": {},
     "output_type": "execute_result"
    }
   ],
   "source": [
    "#CARE:\n",
    "round(0.325, 2) #looks like -->0.32 ('2' nearest even 100th)"
   ]
  },
  {
   "cell_type": "code",
   "execution_count": null,
   "metadata": {},
   "outputs": [],
   "source": [
    "#reason: \n",
    "# one: not verified: beind the sceens 0.325 'float', not 0.3250000000000\n",
    "0.32500001123221 #etc. so greater than .5 behind the scenes"
   ]
  },
  {
   "cell_type": "code",
   "execution_count": 76,
   "metadata": {},
   "outputs": [
    {
     "data": {
      "text/plain": [
       "0.23"
      ]
     },
     "execution_count": 76,
     "metadata": {},
     "output_type": "execute_result"
    }
   ],
   "source": [
    "round(0.225,2)"
   ]
  },
  {
   "cell_type": "code",
   "execution_count": 80,
   "metadata": {},
   "outputs": [
    {
     "name": "stdout",
     "output_type": "stream",
     "text": [
      "0.12500000000000000000000000000000000000000000000000\n",
      "0.22500000000000000555\n",
      "0.32500000000000001110\n",
      "0.42499999999999998890\n"
     ]
    }
   ],
   "source": [
    "print( format(0.125, '.50f') )\n",
    "print( format(0.225, '.20f') )\n",
    "print( format(0.325, '.20f') )\n",
    "print( format(0.425, '.20f') )"
   ]
  },
  {
   "cell_type": "code",
   "execution_count": 81,
   "metadata": {},
   "outputs": [
    {
     "name": "stdout",
     "output_type": "stream",
     "text": [
      "0.22500000000000000555\n"
     ]
    },
    {
     "data": {
      "text/plain": [
       "0.23"
      ]
     },
     "execution_count": 81,
     "metadata": {},
     "output_type": "execute_result"
    }
   ],
   "source": [
    "x = 0.225\n",
    "print( format(x, '.20f') )\n",
    "round(x, 2)"
   ]
  },
  {
   "cell_type": "code",
   "execution_count": null,
   "metadata": {},
   "outputs": [],
   "source": []
  },
  {
   "cell_type": "code",
   "execution_count": null,
   "metadata": {},
   "outputs": [],
   "source": []
  },
  {
   "cell_type": "code",
   "execution_count": null,
   "metadata": {},
   "outputs": [],
   "source": []
  },
  {
   "cell_type": "code",
   "execution_count": null,
   "metadata": {},
   "outputs": [],
   "source": [
    "hex_code_point = '1F602'  # Unicode code point for the face with tears of joy emoji 😂 in hexadecimal\n",
    "unicode_code_point = ord(chr(int(hex_code_point, 16)))\n",
    "print(f\"The Unicode code point of the emoji is {unicode_code_point}\")\n",
    "print( f\"{chr(int(hex_code_point, 16))}\" )\n"
   ]
  },
  {
   "cell_type": "code",
   "execution_count": null,
   "metadata": {},
   "outputs": [],
   "source": []
  },
  {
   "cell_type": "code",
   "execution_count": null,
   "metadata": {},
   "outputs": [],
   "source": []
  },
  {
   "cell_type": "code",
   "execution_count": null,
   "metadata": {},
   "outputs": [],
   "source": []
  },
  {
   "cell_type": "code",
   "execution_count": null,
   "metadata": {},
   "outputs": [],
   "source": []
  },
  {
   "cell_type": "markdown",
   "metadata": {},
   "source": [
    "#### Python List (\"in-place\" operation concept)"
   ]
  },
  {
   "cell_type": "code",
   "execution_count": null,
   "metadata": {},
   "outputs": [],
   "source": [
    "list = [1,2,3,4,5]"
   ]
  },
  {
   "cell_type": "code",
   "execution_count": 85,
   "metadata": {},
   "outputs": [
    {
     "name": "stdout",
     "output_type": "stream",
     "text": [
      "2112933804544\n",
      "[2, 4, 1, 3]\n",
      "2112933804544\n"
     ]
    }
   ],
   "source": [
    "import random\n",
    "list = [1,2,3,4,]\n",
    "print( id(list))\n",
    "# help(random.shuffle)        #\"in-place\" concept\n",
    "random.shuffle(list)\n",
    "print(list)\n",
    "print(id(list))\n"
   ]
  },
  {
   "cell_type": "code",
   "execution_count": 89,
   "metadata": {},
   "outputs": [
    {
     "name": "stdout",
     "output_type": "stream",
     "text": [
      "[2, 4, 1, 3]\n",
      "[1, 2, 3, 4]\n"
     ]
    }
   ],
   "source": [
    "# dir(list)\n",
    "# help(list.sort)\n",
    "list = [2, 4, 1, 3]\n",
    "print(list)\n",
    "list.sort()\n",
    "print(list)\n"
   ]
  },
  {
   "cell_type": "code",
   "execution_count": 91,
   "metadata": {},
   "outputs": [
    {
     "name": "stdout",
     "output_type": "stream",
     "text": [
      "[1, 2, 3, 4] 2112933805184\n",
      "[4, 3, 2, 1] 2112933805184\n"
     ]
    }
   ],
   "source": [
    "#Demo sort() and reverse()\n",
    "list = [1, 2, 3, 4]\n",
    "print(list, id(list))\n",
    "list.reverse()\n",
    "print(list, id(list))"
   ]
  }
 ],
 "metadata": {
  "kernelspec": {
   "display_name": "Python 3",
   "language": "python",
   "name": "python3"
  },
  "language_info": {
   "codemirror_mode": {
    "name": "ipython",
    "version": 3
   },
   "file_extension": ".py",
   "mimetype": "text/x-python",
   "name": "python",
   "nbconvert_exporter": "python",
   "pygments_lexer": "ipython3",
   "version": "3.11.4"
  }
 },
 "nbformat": 4,
 "nbformat_minor": 2
}
