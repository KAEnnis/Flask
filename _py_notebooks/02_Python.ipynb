{
 "cells": [
  {
   "cell_type": "markdown",
   "id": "1d8ed898",
   "metadata": {
    "tags": []
   },
   "source": [
    "### Things being looked at below:\n",
    "\n",
    "1. Custom Functions\n",
    "1. String Functions\n",
    "1. Built-in Functions\n"
   ]
  },
  {
   "cell_type": "markdown",
   "id": "0bdfd39e",
   "metadata": {
    "jupyter": {
     "source_hidden": true
    },
    "tags": []
   },
   "source": [
    "# Functions"
   ]
  },
  {
   "cell_type": "markdown",
   "id": "8246eb6c",
   "metadata": {
    "id": "bA5ajAmk7XH6",
    "jupyter": {
     "source_hidden": true
    },
    "tags": []
   },
   "source": [
    "# The typical syntax of a function definition:"
   ]
  },
  {
   "cell_type": "code",
   "execution_count": 1,
   "id": "86d1d187",
   "metadata": {},
   "outputs": [
    {
     "data": {
      "text/plain": [
       "['__add__',\n",
       " '__class__',\n",
       " '__contains__',\n",
       " '__delattr__',\n",
       " '__dir__',\n",
       " '__doc__',\n",
       " '__eq__',\n",
       " '__format__',\n",
       " '__ge__',\n",
       " '__getattribute__',\n",
       " '__getitem__',\n",
       " '__getnewargs__',\n",
       " '__getstate__',\n",
       " '__gt__',\n",
       " '__hash__',\n",
       " '__init__',\n",
       " '__init_subclass__',\n",
       " '__iter__',\n",
       " '__le__',\n",
       " '__len__',\n",
       " '__lt__',\n",
       " '__mod__',\n",
       " '__mul__',\n",
       " '__ne__',\n",
       " '__new__',\n",
       " '__reduce__',\n",
       " '__reduce_ex__',\n",
       " '__repr__',\n",
       " '__rmod__',\n",
       " '__rmul__',\n",
       " '__setattr__',\n",
       " '__sizeof__',\n",
       " '__str__',\n",
       " '__subclasshook__',\n",
       " 'capitalize',\n",
       " 'casefold',\n",
       " 'center',\n",
       " 'count',\n",
       " 'encode',\n",
       " 'endswith',\n",
       " 'expandtabs',\n",
       " 'find',\n",
       " 'format',\n",
       " 'format_map',\n",
       " 'index',\n",
       " 'isalnum',\n",
       " 'isalpha',\n",
       " 'isascii',\n",
       " 'isdecimal',\n",
       " 'isdigit',\n",
       " 'isidentifier',\n",
       " 'islower',\n",
       " 'isnumeric',\n",
       " 'isprintable',\n",
       " 'isspace',\n",
       " 'istitle',\n",
       " 'isupper',\n",
       " 'join',\n",
       " 'ljust',\n",
       " 'lower',\n",
       " 'lstrip',\n",
       " 'maketrans',\n",
       " 'partition',\n",
       " 'removeprefix',\n",
       " 'removesuffix',\n",
       " 'replace',\n",
       " 'rfind',\n",
       " 'rindex',\n",
       " 'rjust',\n",
       " 'rpartition',\n",
       " 'rsplit',\n",
       " 'rstrip',\n",
       " 'split',\n",
       " 'splitlines',\n",
       " 'startswith',\n",
       " 'strip',\n",
       " 'swapcase',\n",
       " 'title',\n",
       " 'translate',\n",
       " 'upper',\n",
       " 'zfill']"
      ]
     },
     "execution_count": 1,
     "metadata": {},
     "output_type": "execute_result"
    }
   ],
   "source": [
    "dir(str)"
   ]
  },
  {
   "cell_type": "code",
   "execution_count": 14,
   "id": "96a6c49b",
   "metadata": {},
   "outputs": [
    {
     "name": "stdout",
     "output_type": "stream",
     "text": [
      "this-xxxxy-content\n",
      "abcdefg\n"
     ]
    }
   ],
   "source": [
    "the_data = \" -- this-xxxxy-content ## \"\n",
    "\n",
    "def get_content(data):                  #Encapsulation of two statements\n",
    "    data = data.lstrip(\" -- \")\n",
    "    data = data.rstrip(\"## \")\n",
    "    print(data)\n",
    "\n",
    "get_content(the_data)\n",
    "other_data = \" -- abcdefg ## \"\n",
    "get_content(other_data)\n"
   ]
  },
  {
   "cell_type": "code",
   "execution_count": null,
   "id": "6a1c8f70",
   "metadata": {},
   "outputs": [],
   "source": []
  },
  {
   "cell_type": "code",
   "execution_count": null,
   "id": "ea9cfe3a",
   "metadata": {},
   "outputs": [],
   "source": []
  },
  {
   "cell_type": "code",
   "execution_count": null,
   "id": "2fe113c2",
   "metadata": {},
   "outputs": [],
   "source": []
  },
  {
   "cell_type": "code",
   "execution_count": null,
   "id": "8f778dd5",
   "metadata": {},
   "outputs": [],
   "source": []
  },
  {
   "cell_type": "code",
   "execution_count": null,
   "id": "c617bd68",
   "metadata": {},
   "outputs": [],
   "source": []
  },
  {
   "cell_type": "code",
   "execution_count": 15,
   "id": "844859da",
   "metadata": {},
   "outputs": [
    {
     "name": "stdout",
     "output_type": "stream",
     "text": [
      "begin program\n",
      "hello world!\n"
     ]
    }
   ],
   "source": [
    "#function definitions\n",
    "def greet():                                        #note the full-colon\n",
    "    print(\"hello world!\")                           #note the indent\n",
    "\n",
    "#BELOW\n",
    "#code that uses the above functions\n",
    "\n",
    "print(\"begin program\")\n",
    "greet()                  #function call\n"
   ]
  },
  {
   "cell_type": "code",
   "execution_count": 16,
   "id": "6cfb0e09",
   "metadata": {},
   "outputs": [
    {
     "name": "stdout",
     "output_type": "stream",
     "text": [
      "a\n",
      "inside test() function\n",
      "b\n",
      "c\n"
     ]
    }
   ],
   "source": [
    "def test():\n",
    "    print(\"inside test() function\")\n",
    "    print(\"b\")\n",
    "\n",
    "print(\"a\")\n",
    "test()\n",
    "print(\"c\")"
   ]
  },
  {
   "cell_type": "code",
   "execution_count": 30,
   "id": "221ec0e4",
   "metadata": {},
   "outputs": [
    {
     "name": "stdout",
     "output_type": "stream",
     "text": [
      "Hey thereRob\n",
      "Hey there Bill\n",
      "Hey there Sue\n"
     ]
    }
   ],
   "source": [
    "#DRY - Don't Repeat Yourself\n",
    "# TASK 1: print \"Hey Rob\" using the 'name' below\n",
    "name = 'Rob'\n",
    "print(f\"Hey there{name}\" )\n",
    "\n",
    "# TASK 2: set name to 'Bill' and repeat\n",
    "name = \"Bill\"\n",
    "print(f\"Hey there {name}\" )\n",
    "\n",
    "name = \"Sue\"\n",
    "print(f\"Hey there {name}\" )\n",
    "\n",
    "# TASK 3: What do you notice?"
   ]
  },
  {
   "cell_type": "code",
   "execution_count": 29,
   "id": "0b2fbd73",
   "metadata": {},
   "outputs": [
    {
     "name": "stdout",
     "output_type": "stream",
     "text": [
      "Hey there Sue\n",
      "Hey there Rob\n",
      "Hey there Bill\n"
     ]
    }
   ],
   "source": [
    "def greet( a_name ):            #'parameter'\n",
    "    print(F\"Hey there {a_name}\")#one-change and one-change only\n",
    "\n",
    "greet(\"Sue\")                    #'argument' at the call 'Sue'\n",
    "greet(\"Rob\")\n",
    "greet(\"Bill\")\n"
   ]
  },
  {
   "cell_type": "code",
   "execution_count": null,
   "id": "479fb7c8",
   "metadata": {},
   "outputs": [],
   "source": []
  },
  {
   "cell_type": "code",
   "execution_count": null,
   "id": "8c3570ef",
   "metadata": {},
   "outputs": [],
   "source": []
  },
  {
   "cell_type": "code",
   "execution_count": null,
   "id": "66c3dc3e",
   "metadata": {},
   "outputs": [],
   "source": []
  },
  {
   "cell_type": "code",
   "execution_count": null,
   "id": "addba5ae",
   "metadata": {},
   "outputs": [],
   "source": [
    "def greet(person):         #a function that declares a \"parameter\"\n",
    "    print(\"Hey\", person)\n",
    "    \n",
    "greet(\"rob\")\n",
    "greet(\"bill\")"
   ]
  },
  {
   "cell_type": "code",
   "execution_count": null,
   "id": "75e6599f",
   "metadata": {},
   "outputs": [],
   "source": [
    "#Remember this....\n",
    "person = \"Rob\"             #**Not** DRY (Don't Repeat Yourself)\n",
    "print(\"Hey\", person)\n",
    "person = \"Bill\"\n",
    "print(\"Hey\", person)"
   ]
  },
  {
   "cell_type": "code",
   "execution_count": 32,
   "id": "0fd532d9",
   "metadata": {},
   "outputs": [
    {
     "name": "stdout",
     "output_type": "stream",
     "text": [
      "I AM A FISH\n"
     ]
    }
   ],
   "source": [
    "#a function that 'returns'\n",
    "\n",
    "def make_upper_case(word): \n",
    "    return word.upper()       #no saving of repeating code here\n",
    "\n",
    "\n",
    "# print( \"I am a Fish\".upper() )\n",
    "print( make_upper_case(\"I am A FiSh\") )"
   ]
  },
  {
   "cell_type": "code",
   "execution_count": 35,
   "id": "53674e58",
   "metadata": {},
   "outputs": [
    {
     "name": "stdout",
     "output_type": "stream",
     "text": [
      "10\n"
     ]
    }
   ],
   "source": [
    "#Generating random numbers\n",
    "import random                               #import whole module\n",
    "a_random_number = random.randint(0, 10)\n",
    "\n",
    "print( a_random_number )"
   ]
  },
  {
   "cell_type": "code",
   "execution_count": 39,
   "id": "96197e4b",
   "metadata": {},
   "outputs": [
    {
     "name": "stdout",
     "output_type": "stream",
     "text": [
      "4\n"
     ]
    }
   ],
   "source": [
    "from random import randint                  #import just the randint() function from the random module\n",
    "a_random_number = randint(0,10)\n",
    "\n",
    "print( a_random_number )"
   ]
  },
  {
   "cell_type": "code",
   "execution_count": 52,
   "id": "7bb5b8ec",
   "metadata": {},
   "outputs": [
    {
     "name": "stdout",
     "output_type": "stream",
     "text": [
      "11.59\n"
     ]
    }
   ],
   "source": [
    "# help() and dir() for learning\n",
    "import random\n",
    "# dir(random)\n",
    "# help(random.uniform) #just fn name - no round brackets\n",
    "\n",
    "x = random.uniform(0, 100)\n",
    "print( F\"{x:.2F}\" )"
   ]
  },
  {
   "cell_type": "code",
   "execution_count": 54,
   "id": "caa867d0",
   "metadata": {},
   "outputs": [
    {
     "name": "stdout",
     "output_type": "stream",
     "text": [
      "age is four\n"
     ]
    }
   ],
   "source": [
    "#if-statements in Python\n",
    "#if on it's one\n",
    "age = 4\n",
    "\n",
    "if age == 4 :         # 'if (age == 4):'  not so Pythonesque with round brakets\n",
    "    print( \"age is four\")\n",
    "          "
   ]
  },
  {
   "cell_type": "code",
   "execution_count": 58,
   "id": "99e3d935",
   "metadata": {},
   "outputs": [],
   "source": [
    "#if-else\n",
    "if age == 4:\n",
    "    \"\"\"to-do: write logic\"\"\"            #doc-string instead of pass\n",
    "else:\n",
    "    pass                                #'pass' keyword"
   ]
  },
  {
   "cell_type": "code",
   "execution_count": null,
   "id": "40a08cc2",
   "metadata": {},
   "outputs": [],
   "source": [
    "#if else-if\n",
    "\n",
    "if age==4:\n",
    "    pass\n",
    "elif age == 5:\n",
    "    pass\n",
    "\n",
    "\n",
    "if age == 4:\n",
    "    pass\n",
    "elif age == 5:\n",
    "    pass\n",
    "else:                       #catch-all clause\n",
    "    print(\"for all else\")"
   ]
  },
  {
   "cell_type": "code",
   "execution_count": null,
   "id": "27e31b55",
   "metadata": {},
   "outputs": [],
   "source": []
  },
  {
   "cell_type": "code",
   "execution_count": null,
   "id": "f6633ea1",
   "metadata": {},
   "outputs": [],
   "source": []
  },
  {
   "cell_type": "code",
   "execution_count": null,
   "id": "6cc3c3bb",
   "metadata": {},
   "outputs": [],
   "source": []
  },
  {
   "cell_type": "code",
   "execution_count": null,
   "id": "e607a0db",
   "metadata": {},
   "outputs": [],
   "source": []
  },
  {
   "cell_type": "code",
   "execution_count": null,
   "id": "b352842f",
   "metadata": {},
   "outputs": [],
   "source": []
  },
  {
   "cell_type": "code",
   "execution_count": null,
   "id": "030e471d",
   "metadata": {},
   "outputs": [],
   "source": [
    "#General WAY of writing a python script/program: see PEP08\n",
    "#import(s) at the top\n",
    "import random\n",
    "\n",
    "#function definitions\n",
    "def do_this():\n",
    "    print(\"do this\")\n",
    "    \n",
    "def do_that():\n",
    "    print(\"do that\")\n",
    "\n",
    "\n",
    "#code that uses the function definitions\n",
    "num = random.randint(0, 10)\n",
    "print(f\"random generated: {num}\" )\n",
    "\n",
    "if num > 5:\n",
    "    do_this()\n",
    "else:\n",
    "    do_that()\n",
    "\n",
    "print(\"program continues\")   \n",
    "    "
   ]
  },
  {
   "cell_type": "code",
   "execution_count": 61,
   "id": "ed6250b8",
   "metadata": {},
   "outputs": [
    {
     "name": "stdout",
     "output_type": "stream",
     "text": [
      "get rice\n",
      "fill pot with water\n",
      "put rice in pot\n",
      "turn on heat\n",
      "**************************************************\n",
      "get rice\n",
      "fill pan with wine\n",
      "put rice in pan\n",
      "turn on heat\n"
     ]
    }
   ],
   "source": [
    "# Separate what varies from what stays the same...\n",
    "def cook(food, vessel, liquid):                     #\"parameters\"\n",
    "    print( f\"get {food}\" )\n",
    "    print( f\"fill {vessel} with {liquid}\" )\n",
    "    print( f\"put {food} in {vessel}\" )\n",
    "    print( f\"turn on heat\" )\n",
    "\n",
    "cook(\"rice\", \"pot\", \"water\") #\"passing in  'rice', 'pot' and 'water' as argument\"\n",
    "print( \"*\"*50)\n",
    "cook(\"rice\", \"pan\", \"wine\")"
   ]
  },
  {
   "cell_type": "code",
   "execution_count": null,
   "id": "d9d37ede",
   "metadata": {},
   "outputs": [],
   "source": []
  },
  {
   "cell_type": "code",
   "execution_count": null,
   "id": "e9143442",
   "metadata": {},
   "outputs": [],
   "source": []
  },
  {
   "cell_type": "code",
   "execution_count": null,
   "id": "082559f6",
   "metadata": {},
   "outputs": [],
   "source": []
  },
  {
   "cell_type": "code",
   "execution_count": null,
   "id": "823e40ef",
   "metadata": {},
   "outputs": [],
   "source": []
  },
  {
   "cell_type": "code",
   "execution_count": null,
   "id": "c77e357a",
   "metadata": {},
   "outputs": [],
   "source": []
  },
  {
   "cell_type": "code",
   "execution_count": null,
   "id": "ef143d67",
   "metadata": {},
   "outputs": [],
   "source": []
  },
  {
   "cell_type": "code",
   "execution_count": 66,
   "id": "1c61c004",
   "metadata": {},
   "outputs": [
    {
     "name": "stdout",
     "output_type": "stream",
     "text": [
      "Help on function decide in module __main__:\n",
      "\n",
      "decide()\n",
      "    simulates axxxxxxxxxx decision of whether to eat or not\n",
      "\n"
     ]
    }
   ],
   "source": [
    "#imports at the top\n",
    "import random\n",
    "\n",
    "#function definitions section\n",
    "def message():\n",
    "    \"\"\"prints a message to the screen\"\"\"\n",
    "    print(\"\\nmake some food...\")\n",
    "    \n",
    "def cook( food, liquid, vessel):\n",
    "    \"\"\"simulates cooking food in a liquid in a vessel\"\"\"\n",
    "    print(\"\\tget\", food)                 #food 'varies'\n",
    "    print(\"\\tfill a pot with\", liquid)   #liquid can vary\n",
    "    print(\"\\tput\", food, \"in the\", vessel )\n",
    "    print(\"\\tturn on the heat\")\n",
    "\n",
    "def decide():\n",
    "    \"\"\"\n",
    "        simulates a decision of whether to eat or not\n",
    "    \"\"\"\n",
    "    num = random.randint(0, 10)\n",
    "    print(f\"random generated: {num}\" )\n",
    "\n",
    "    if num > 5:\n",
    "        cook(\"carrots\", \"beer\", \"frying-pan\")  #calling another function from within another\n",
    "    else:\n",
    "        print(\"go hungry\")\n",
    "\n",
    "    return \"that's life!\"\n",
    "\n",
    "#code that uses the above functions\n",
    "# message()\n",
    "# print( decide() )\n",
    "# message()\n",
    "# print( decide() )\n",
    "help(decide)"
   ]
  },
  {
   "cell_type": "code",
   "execution_count": null,
   "id": "3c8fba45",
   "metadata": {},
   "outputs": [],
   "source": [
    "#test importing from a module of our own creation"
   ]
  },
  {
   "cell_type": "code",
   "execution_count": 67,
   "id": "a279a056",
   "metadata": {},
   "outputs": [
    {
     "name": "stdout",
     "output_type": "stream",
     "text": [
      "my module function running...\n",
      "my module message...\n"
     ]
    }
   ],
   "source": [
    "import my_module #DO NOT PUT .py\n",
    "my_module.test_fn()\n",
    "my_module.message()"
   ]
  },
  {
   "cell_type": "code",
   "execution_count": null,
   "id": "7c78bdde",
   "metadata": {},
   "outputs": [],
   "source": []
  },
  {
   "cell_type": "code",
   "execution_count": null,
   "id": "092284e4",
   "metadata": {},
   "outputs": [],
   "source": []
  },
  {
   "cell_type": "code",
   "execution_count": null,
   "id": "50403b2b",
   "metadata": {},
   "outputs": [],
   "source": []
  },
  {
   "cell_type": "code",
   "execution_count": null,
   "id": "d6a57104",
   "metadata": {},
   "outputs": [],
   "source": []
  },
  {
   "cell_type": "code",
   "execution_count": null,
   "id": "57c08517",
   "metadata": {},
   "outputs": [],
   "source": []
  },
  {
   "cell_type": "code",
   "execution_count": null,
   "id": "84233167",
   "metadata": {},
   "outputs": [],
   "source": []
  },
  {
   "cell_type": "markdown",
   "id": "ce756563",
   "metadata": {
    "jupyter": {
     "source_hidden": true
    },
    "tags": []
   },
   "source": [
    "# A basic example - a function that calculates the double of its input"
   ]
  },
  {
   "cell_type": "code",
   "execution_count": 74,
   "id": "b3f5399e",
   "metadata": {},
   "outputs": [
    {
     "name": "stdout",
     "output_type": "stream",
     "text": [
      "function with no return\n",
      "None\n"
     ]
    }
   ],
   "source": [
    "#Care: 'None' appears if printing a fn that doesn't return anything\n",
    "def function_with_no_return():\n",
    "    print(\"function with no return\")\n",
    "\n",
    "\n",
    "def a_return_fn():\n",
    "    return 7\n",
    "\n",
    "print( function_with_no_return() )\n",
    "\n"
   ]
  },
  {
   "cell_type": "code",
   "execution_count": 68,
   "id": "299d1955",
   "metadata": {
    "jupyter": {
     "outputs_hidden": true,
     "source_hidden": true
    },
    "tags": []
   },
   "outputs": [
    {
     "name": "stdout",
     "output_type": "stream",
     "text": [
      "42\n"
     ]
    }
   ],
   "source": [
    "def double(x):\n",
    "    \"\"\"Return twice the value of x.\"\"\"\n",
    "    my_double = x * 2\n",
    "    return my_double\n",
    "\n",
    "double_of_21 = double(21)\n",
    "print(double_of_21)  # should print 42"
   ]
  },
  {
   "cell_type": "code",
   "execution_count": null,
   "id": "dabd5774",
   "metadata": {
    "collapsed": true,
    "jupyter": {
     "outputs_hidden": true,
     "source_hidden": true
    },
    "tags": []
   },
   "outputs": [],
   "source": [
    "help(double)  # will print the docstring of our function"
   ]
  },
  {
   "cell_type": "markdown",
   "id": "30a34576",
   "metadata": {
    "jupyter": {
     "source_hidden": true
    },
    "tags": []
   },
   "source": [
    "# An example of a two-parameter function - calculating the average"
   ]
  },
  {
   "cell_type": "code",
   "execution_count": 75,
   "id": "ee61cebd",
   "metadata": {
    "collapsed": true,
    "jupyter": {
     "outputs_hidden": true,
     "source_hidden": true
    },
    "tags": []
   },
   "outputs": [
    {
     "name": "stdout",
     "output_type": "stream",
     "text": [
      "5.0\n"
     ]
    }
   ],
   "source": [
    "def average(a, b):\n",
    "    \"\"\"Calculate the arithmetic average of numbers a and b.\"\"\"\n",
    "    return (a + b) / 2\n",
    "\n",
    "print(average(1, 9))  # should print 5.0"
   ]
  },
  {
   "cell_type": "markdown",
   "id": "bf00ced8",
   "metadata": {
    "jupyter": {
     "source_hidden": true
    },
    "tags": []
   },
   "source": [
    "# Both parameters and return values are optional"
   ]
  },
  {
   "cell_type": "code",
   "execution_count": 76,
   "id": "6122882b",
   "metadata": {
    "collapsed": true,
    "jupyter": {
     "outputs_hidden": true,
     "source_hidden": true
    },
    "tags": []
   },
   "outputs": [
    {
     "name": "stdout",
     "output_type": "stream",
     "text": [
      "If you root yourself\n",
      "in love\n",
      "and kindness,\n",
      "your hear will always bloom.\n"
     ]
    }
   ],
   "source": [
    "def recite_poem():\n",
    "    \"\"\"Recite the poem Always Bloom by Alexandra Vasiliu\"\"\"\n",
    "    print(\"If you root yourself\")\n",
    "    print(\"in love\")\n",
    "    print(\"and kindness,\")\n",
    "    print(\"your hear will always bloom.\")\n",
    "\n",
    "recite_poem()"
   ]
  },
  {
   "cell_type": "markdown",
   "id": "d5e0172c",
   "metadata": {
    "jupyter": {
     "source_hidden": true
    },
    "tags": []
   },
   "source": [
    "# We can have multiple return values, using tuples"
   ]
  },
  {
   "cell_type": "code",
   "execution_count": 80,
   "id": "53500240",
   "metadata": {},
   "outputs": [
    {
     "name": "stdout",
     "output_type": "stream",
     "text": [
      "the name returned is: bill, and the age returned is: 14\n"
     ]
    }
   ],
   "source": [
    "#Tuples and tuple-unpacking to return two things from a function\n",
    "def name_and_age():\n",
    "    name = \"bill\"\n",
    "    age = 14\n",
    "    #want to return both name and age\n",
    "    return (name,age)\n",
    "\n",
    "# result = name_and_age()\n",
    "# print( result[0] )\n",
    "# print( result[1] )\n",
    "\n",
    "#\"tuple un-packing\"\n",
    "\n",
    "the_name, the_age = name_and_age()\n",
    "print(f\"the name returned is: {the_name}, and the age returned is: {the_age}\")"
   ]
  },
  {
   "cell_type": "markdown",
   "id": "fa807df9",
   "metadata": {
    "jupyter": {
     "source_hidden": true
    },
    "tags": []
   },
   "source": [
    "# Positional Parameters and Default Values"
   ]
  },
  {
   "cell_type": "code",
   "execution_count": 86,
   "id": "5a090c5e",
   "metadata": {},
   "outputs": [
    {
     "name": "stdout",
     "output_type": "stream",
     "text": [
      "inside: b is:  10\n",
      "inside: a is:  2\n",
      "6.0\n"
     ]
    }
   ],
   "source": [
    "def average(a, b):\n",
    "    \"\"\"Calculate the arithmetic average of numbers a and b.\"\"\"\n",
    "    print(\"inside: b is: \", b)\n",
    "    print(\"inside: a is: \", a)\n",
    "    return (a + b) / 2\n",
    "\n",
    "\"\"\"result = average( 2, 10 )        #positional argument matching\"\"\"\n",
    "\"\"\"result = average( a=2, b=10 )    #named argument matching\"\"\" \n",
    "result = average( b=10, a=2 )       #named argument matching (without matching position)\n",
    "\n",
    "print(result)"
   ]
  },
  {
   "cell_type": "code",
   "execution_count": null,
   "id": "e5c11ec6",
   "metadata": {},
   "outputs": [],
   "source": []
  },
  {
   "cell_type": "markdown",
   "id": "6d420739",
   "metadata": {
    "jupyter": {
     "source_hidden": true
    },
    "tags": []
   },
   "source": [
    "# Functions can be passed as values"
   ]
  },
  {
   "cell_type": "code",
   "execution_count": 87,
   "id": "e991df7e",
   "metadata": {
    "collapsed": true,
    "jupyter": {
     "outputs_hidden": true,
     "source_hidden": true
    },
    "tags": []
   },
   "outputs": [
    {
     "name": "stdout",
     "output_type": "stream",
     "text": [
      "What's in a name? That which we call a rose\n",
      "By any other name would smell as sweet\n",
      "What's in a name? That which we call a rose\n",
      "By any other name would smell as sweet\n"
     ]
    }
   ],
   "source": [
    "def rose():\n",
    "    \"\"\"Print a line from Romeo and Juliet.\"\"\"\n",
    "    print(\"What's in a name? That which we call a rose\\nBy any other name would smell as sweet\")\n",
    "\n",
    "rose()\n",
    "any_other_name = rose  # Note the lack of brackets\n",
    "any_other_name()"
   ]
  },
  {
   "cell_type": "code",
   "execution_count": 88,
   "id": "d0c7b6a0",
   "metadata": {},
   "outputs": [
    {
     "name": "stdout",
     "output_type": "stream",
     "text": [
      "rose\n"
     ]
    }
   ],
   "source": [
    "def rose():\n",
    "    \"\"\"Print a line from Romeo and Juliet.\"\"\"\n",
    "    print(\"rose\")\n",
    "\n",
    "def call_rose_inside( a_fn ):\n",
    "    a_fn()  #at runtime: as if 'rose()'\n",
    "\n",
    "call_rose_inside( rose ) #a function being passed as argument to another function"
   ]
  },
  {
   "cell_type": "code",
   "execution_count": null,
   "id": "ad7d6818",
   "metadata": {},
   "outputs": [],
   "source": []
  },
  {
   "cell_type": "code",
   "execution_count": null,
   "id": "0409c14e",
   "metadata": {},
   "outputs": [],
   "source": []
  },
  {
   "cell_type": "code",
   "execution_count": null,
   "id": "13da2f94",
   "metadata": {},
   "outputs": [],
   "source": []
  },
  {
   "cell_type": "markdown",
   "id": "9a9a9d8b",
   "metadata": {
    "jupyter": {
     "source_hidden": true
    },
    "tags": []
   },
   "source": [
    "# Everything in Python is an object, and objects have methods"
   ]
  },
  {
   "cell_type": "code",
   "execution_count": null,
   "id": "0c0c3674",
   "metadata": {
    "collapsed": true,
    "jupyter": {
     "outputs_hidden": true,
     "source_hidden": true
    },
    "tags": []
   },
   "outputs": [],
   "source": [
    "# Methods are functions attached to an object\n",
    "# We can use the built-in `dir` function to learn what methods an object has\n",
    "s = \"Hello world\"\n",
    "dir(s)  # Will print all the methods and attributes that are available on a string (for now ignore the ones with underscores)"
   ]
  },
  {
   "cell_type": "code",
   "execution_count": null,
   "id": "f4dcf9df",
   "metadata": {
    "collapsed": true,
    "jupyter": {
     "outputs_hidden": true,
     "source_hidden": true
    },
    "tags": []
   },
   "outputs": [],
   "source": [
    "# We can then use `help` to get any methods \n",
    "help(s.upper)\n",
    "# Python also has great documentation for all of these - https://docs.python.org/3/library/stdtypes.html#string-methods"
   ]
  },
  {
   "cell_type": "markdown",
   "id": "2d8dd0a3",
   "metadata": {
    "jupyter": {
     "source_hidden": true
    },
    "tags": []
   },
   "source": [
    "# Some particularly useful string methods\n",
    "\n",
    "Count appearance of substrings: `s.count(sub [, start[, end]])`\n",
    "Begins/ends with a substring? `s.startswith(sub[, start[, end]])` , `s.endswith(sub[, start[, end]])`\n",
    "All capital/lowercase letters: `s.upper()` , `s.lower()`\n",
    "Remove whitespace: `s.strip([chars])`\n",
    "Find position of substring: `s.index(sub[, start[, end]])`\n",
    "Replace a substring: `.replace(old, new[, count])`\n",
    "\n",
    "Many more exist - the documentation, Google and Stack Overflow are your friends"
   ]
  },
  {
   "cell_type": "markdown",
   "id": "0c701773",
   "metadata": {
    "jupyter": {
     "source_hidden": true
    },
    "tags": []
   },
   "source": [
    "# Modules\n",
    "\n",
    "Functions thematically belonging together can be stored in a separate Python file. (Same for all other objects)\n",
    "\n",
    "Such a file is called a module and can be loaded in any Python script.\n",
    "\n",
    "There are dozens of modules are available directly in the Python Standard Library, included in any Python installation, and hundred of thousands of others can be easily installed. See https://docs.python.org/3/library/index.html"
   ]
  },
  {
   "cell_type": "code",
   "execution_count": null,
   "id": "a476040c",
   "metadata": {
    "collapsed": true,
    "jupyter": {
     "outputs_hidden": true,
     "source_hidden": true
    },
    "tags": []
   },
   "outputs": [],
   "source": [
    "# To make use of a module, we need to import it, by referring to it by name, without the \".py\" extension:\n",
    "\n",
    "import math\n",
    "print(math.gcd(18, 12))  # The greatest common divisor of these is 6"
   ]
  },
  {
   "cell_type": "code",
   "execution_count": null,
   "id": "67bf3331",
   "metadata": {
    "collapsed": true,
    "jupyter": {
     "outputs_hidden": true,
     "source_hidden": true
    },
    "tags": []
   },
   "outputs": [],
   "source": [
    "# We can also import one or more particular objects from a module by using `from ... import ...`:\n",
    "from math import gcd, pi\n",
    "print(gcd(18, 12))\n",
    "print(pi)"
   ]
  },
  {
   "cell_type": "code",
   "execution_count": null,
   "id": "6fd01461",
   "metadata": {
    "jupyter": {
     "source_hidden": true
    },
    "tags": []
   },
   "outputs": [],
   "source": [
    "# Again: in-built wisdom here...\n",
    "# The zen of Python:\n",
    "# import this"
   ]
  }
 ],
 "metadata": {
  "colab": {
   "name": "Welcome to DataCamp Workspaces.ipynb",
   "provenance": []
  },
  "kernelspec": {
   "display_name": "Python 3 (ipykernel)",
   "language": "python",
   "name": "python3"
  },
  "language_info": {
   "codemirror_mode": {
    "name": "ipython",
    "version": 3
   },
   "file_extension": ".py",
   "mimetype": "text/x-python",
   "name": "python",
   "nbconvert_exporter": "python",
   "pygments_lexer": "ipython3",
   "version": "3.11.4"
  }
 },
 "nbformat": 4,
 "nbformat_minor": 5
}
