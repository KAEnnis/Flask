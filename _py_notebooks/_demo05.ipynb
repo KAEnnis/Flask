{
 "cells": [
  {
   "cell_type": "markdown",
   "metadata": {},
   "source": [
    "### The practicalities of using Lists: a guided tour"
   ]
  },
  {
   "cell_type": "markdown",
   "metadata": {},
   "source": [
    "#### A quick look at list.insert(0)"
   ]
  },
  {
   "cell_type": "code",
   "execution_count": 1,
   "metadata": {},
   "outputs": [
    {
     "name": "stdout",
     "output_type": "stream",
     "text": [
      "['a', 'b', 'c', 'e']\n"
     ]
    }
   ],
   "source": [
    "list_ = [5,6,7,8]\n",
    "print( list(\"abce\") )"
   ]
  },
  {
   "cell_type": "code",
   "execution_count": 2,
   "metadata": {},
   "outputs": [
    {
     "name": "stdout",
     "output_type": "stream",
     "text": [
      "begin: [5, 6, 7, 8]\n",
      "  end: [3, 4, 5, 6, 7, 8]\n"
     ]
    }
   ],
   "source": [
    "list_ = [5,6,7,8]\n",
    "\n",
    "print(f\"begin: {list_}\")\n",
    "list_.insert(0, 4)\n",
    "list_.insert(0, 3)\n",
    "print(f\"  end: {list_}\")"
   ]
  },
  {
   "cell_type": "markdown",
   "metadata": {},
   "source": [
    "#### Create a list of of even numbers from 1-20"
   ]
  },
  {
   "cell_type": "code",
   "execution_count": 4,
   "metadata": {},
   "outputs": [
    {
     "name": "stdout",
     "output_type": "stream",
     "text": [
      "[2, 4, 6, 8, 10, 12, 14, 16, 18, 20]\n"
     ]
    }
   ],
   "source": [
    "# TASK: write a for-loop to create a list and put all\n",
    "# the even numbers from 1-20 inside\n",
    "# Print that list at the end.\n",
    "even_numbers = []\n",
    "\n",
    "for num in range(1, 21):\n",
    "    # Check if the number is even\n",
    "    if num % 2 == 0:\n",
    "        # Add the even number to the list\n",
    "        even_numbers.append(num)\n",
    "\n",
    "print(even_numbers)"
   ]
  },
  {
   "cell_type": "code",
   "execution_count": null,
   "metadata": {},
   "outputs": [],
   "source": []
  },
  {
   "cell_type": "code",
   "execution_count": null,
   "metadata": {},
   "outputs": [],
   "source": []
  },
  {
   "cell_type": "code",
   "execution_count": null,
   "metadata": {},
   "outputs": [],
   "source": []
  },
  {
   "cell_type": "code",
   "execution_count": null,
   "metadata": {},
   "outputs": [],
   "source": []
  },
  {
   "cell_type": "code",
   "execution_count": null,
   "metadata": {},
   "outputs": [],
   "source": []
  },
  {
   "cell_type": "markdown",
   "metadata": {},
   "source": [
    "#### List Comprehensions\n",
    "```Python\n",
    "new_list = [expression for item in iterable if condition]\n",
    "```\n"
   ]
  },
  {
   "cell_type": "code",
   "execution_count": 5,
   "metadata": {},
   "outputs": [
    {
     "name": "stdout",
     "output_type": "stream",
     "text": [
      "[0, 2, 4, 6, 8, 10, 12, 14, 16, 18, 20]\n"
     ]
    }
   ],
   "source": [
    "# Generate a list of even numbers from 0 to 19\n",
    "even_numbers = [x for x in range(21) if x % 2 == 0]\n",
    "print(even_numbers)"
   ]
  },
  {
   "cell_type": "code",
   "execution_count": null,
   "metadata": {},
   "outputs": [],
   "source": []
  },
  {
   "cell_type": "code",
   "execution_count": 6,
   "metadata": {},
   "outputs": [
    {
     "name": "stdout",
     "output_type": "stream",
     "text": [
      "[0, 4, 16, 36, 64]\n"
     ]
    }
   ],
   "source": [
    "# Generate: the squares of all the even numbers from 0 to 9\n",
    "even_squares = [x**2 for x in range(10) if x % 2 == 0]\n",
    "print(even_squares)"
   ]
  },
  {
   "cell_type": "code",
   "execution_count": null,
   "metadata": {},
   "outputs": [],
   "source": [
    "\n"
   ]
  },
  {
   "cell_type": "code",
   "execution_count": 7,
   "metadata": {},
   "outputs": [
    {
     "name": "stdout",
     "output_type": "stream",
     "text": [
      "[2, 4, 6, 8, 10]\n"
     ]
    }
   ],
   "source": [
    "original_list = [1, 2, 3, 4, 5]\n",
    "doubled_list = [x * 2 for x in original_list]\n",
    "\n",
    "print(doubled_list)\n"
   ]
  },
  {
   "cell_type": "code",
   "execution_count": null,
   "metadata": {},
   "outputs": [],
   "source": []
  },
  {
   "cell_type": "code",
   "execution_count": 10,
   "metadata": {},
   "outputs": [
    {
     "name": "stdout",
     "output_type": "stream",
     "text": [
      "[1, 3, 5, 7, 9]\n",
      "[1, 3, 5, 7, 9]\n"
     ]
    }
   ],
   "source": [
    "numbers = [1, 2, 3, 4, 5, 6, 7, 8, 9]\n",
    "# odd_numbers = [x for x in numbers if x % 2 != 0]\n",
    "\n",
    "print( [x for x in numbers if x%2!=0] )\n",
    "#equivalent code below...\n",
    "odd_numbers = []\n",
    "for x in numbers:\n",
    "    if x%2!=0:\n",
    "        odd_numbers.append(x)\n",
    "        \n",
    "print(odd_numbers)\n"
   ]
  },
  {
   "cell_type": "code",
   "execution_count": null,
   "metadata": {},
   "outputs": [],
   "source": []
  },
  {
   "cell_type": "code",
   "execution_count": 11,
   "metadata": {},
   "outputs": [
    {
     "name": "stdout",
     "output_type": "stream",
     "text": [
      "[4, 36, 100]\n"
     ]
    }
   ],
   "source": [
    "positive_numbers = [2, -4, 6, -8, 10]\n",
    "squared_positive = [x**2 for x in positive_numbers if x > 0]\n",
    "\n",
    "print(squared_positive)\n"
   ]
  },
  {
   "cell_type": "code",
   "execution_count": null,
   "metadata": {},
   "outputs": [],
   "source": []
  },
  {
   "cell_type": "code",
   "execution_count": 12,
   "metadata": {},
   "outputs": [
    {
     "name": "stdout",
     "output_type": "stream",
     "text": [
      "['APPLE', 'BANANA', 'ORANGE']\n"
     ]
    }
   ],
   "source": [
    "words = [\"apple\", \"banana\", \"orange\"]\n",
    "uppercase_words = [word.upper() for word in words]\n",
    "\n",
    "print(uppercase_words)\n"
   ]
  },
  {
   "cell_type": "code",
   "execution_count": null,
   "metadata": {},
   "outputs": [],
   "source": []
  },
  {
   "cell_type": "code",
   "execution_count": null,
   "metadata": {},
   "outputs": [],
   "source": []
  },
  {
   "cell_type": "code",
   "execution_count": null,
   "metadata": {},
   "outputs": [],
   "source": []
  },
  {
   "cell_type": "code",
   "execution_count": 13,
   "metadata": {},
   "outputs": [
    {
     "name": "stdout",
     "output_type": "stream",
     "text": [
      "['apple', 'kiwi', 'grape']\n"
     ]
    }
   ],
   "source": [
    "fruits = [\"apple\", \"banana\", \"kiwi\", \"orange\", \"grape\"]\n",
    "short_fruits = [fruit for fruit in fruits if len(fruit) <= 5]\n",
    "\n",
    "print(short_fruits)\n"
   ]
  },
  {
   "cell_type": "code",
   "execution_count": null,
   "metadata": {},
   "outputs": [],
   "source": []
  },
  {
   "cell_type": "code",
   "execution_count": null,
   "metadata": {},
   "outputs": [],
   "source": []
  },
  {
   "cell_type": "code",
   "execution_count": null,
   "metadata": {},
   "outputs": [],
   "source": []
  },
  {
   "cell_type": "markdown",
   "metadata": {},
   "source": [
    "#### Practical example: Using list comprehension to remove punctuation"
   ]
  },
  {
   "cell_type": "code",
   "execution_count": 14,
   "metadata": {},
   "outputs": [
    {
     "name": "stdout",
     "output_type": "stream",
     "text": [
      "!\"#$%&'()*+,-./:;<=>?@[\\]^_`{|}~\n"
     ]
    }
   ],
   "source": [
    "import string\n",
    "print( string.punctuation )"
   ]
  },
  {
   "cell_type": "code",
   "execution_count": 15,
   "metadata": {},
   "outputs": [
    {
     "name": "stdout",
     "output_type": "stream",
     "text": [
      "h-e-l-l-o\n"
     ]
    }
   ],
   "source": [
    "text = \"hello\"\n",
    "text = \"-\".join(text)\n",
    "print(text)"
   ]
  },
  {
   "cell_type": "code",
   "execution_count": 16,
   "metadata": {},
   "outputs": [
    {
     "name": "stdout",
     "output_type": "stream",
     "text": [
      "['h', 'e', 'l', 'l', 'o']\n"
     ]
    }
   ],
   "source": [
    "print( list(\"hello\") )  #convert string to list"
   ]
  },
  {
   "cell_type": "code",
   "execution_count": 17,
   "metadata": {},
   "outputs": [
    {
     "name": "stdout",
     "output_type": "stream",
     "text": [
      "['h', 'e', 'l', 'l', 'o']\n",
      "hello\n"
     ]
    }
   ],
   "source": [
    "text_list = ['h', 'e', 'l', 'l', 'o']\n",
    "print(text_list)\n",
    "\n",
    "text = ''.join(text_list)  #list to string conversion idiom\n",
    "print(text)"
   ]
  },
  {
   "cell_type": "code",
   "execution_count": null,
   "metadata": {},
   "outputs": [],
   "source": [
    "# Using list comprehension to remove punctuation\n",
    "import string\n",
    "\n",
    "sentence = \"This is a sample sentence, with some punctuation!\"\n",
    "sentence_without_punctuation = ''.join([char for char in sentence if char not in string.punctuation])\n",
    "print(sentence_without_punctuation)\n",
    "#What does this code do?\n"
   ]
  },
  {
   "cell_type": "code",
   "execution_count": 18,
   "metadata": {},
   "outputs": [
    {
     "name": "stdout",
     "output_type": "stream",
     "text": [
      "!\"#$%&'()*+,-./:;<=>?@[\\]^_`{|}~\n"
     ]
    }
   ],
   "source": [
    "import string\n",
    "print(string.punctuation)"
   ]
  },
  {
   "cell_type": "code",
   "execution_count": 21,
   "metadata": {},
   "outputs": [
    {
     "name": "stdout",
     "output_type": "stream",
     "text": [
      "This is a sample sentence  with  some punctuation\n"
     ]
    }
   ],
   "source": [
    "import string\n",
    "\n",
    "sentence = \"This is a sample sentence? {} with! < >some punctuation!\"\n",
    "print( ''.join( [char for char in sentence if char not in string.punctuation] ))"
   ]
  },
  {
   "cell_type": "code",
   "execution_count": null,
   "metadata": {},
   "outputs": [],
   "source": []
  },
  {
   "cell_type": "markdown",
   "metadata": {},
   "source": [
    "#### quick test of list comprehension \"comprehension\" "
   ]
  },
  {
   "cell_type": "code",
   "execution_count": 22,
   "metadata": {},
   "outputs": [
    {
     "name": "stdout",
     "output_type": "stream",
     "text": [
      "[0, 1, 2, 3, 4]\n",
      "[0.0, 0.5, 1.0, 1.5, 2.0]\n",
      "[0.0, 0.5, 1.0]\n"
     ]
    }
   ],
   "source": [
    "#TASK: What does each of these achieve:\n",
    "list1 = [x for x in range(0, 5)] \n",
    "print(list1) \n",
    "\n",
    " \n",
    "list2 = [0.5 * x for x in list1] \n",
    "print(list2)\n",
    "\n",
    "\n",
    "list3 = [x for x in list2 if x < 1.5]\n",
    "print(list3)\n"
   ]
  },
  {
   "cell_type": "code",
   "execution_count": null,
   "metadata": {},
   "outputs": [],
   "source": [
    "#TASK: For any two from the above cell\n",
    "#   write a traditional loop to achieve the same\n"
   ]
  },
  {
   "cell_type": "code",
   "execution_count": null,
   "metadata": {},
   "outputs": [],
   "source": []
  },
  {
   "cell_type": "markdown",
   "metadata": {},
   "source": [
    "#### Copying Lists:"
   ]
  },
  {
   "cell_type": "code",
   "execution_count": 23,
   "metadata": {},
   "outputs": [
    {
     "name": "stdout",
     "output_type": "stream",
     "text": [
      "[9, 2, 3, 4, 5]\n",
      "[9, 2, 3, 4, 5]\n"
     ]
    }
   ],
   "source": [
    "#Using the slice operator [:]\n",
    "original_list = [1, 2, 3, 4, 5]\n",
    "copied_list = original_list         #NOT COPYING\n",
    "\n",
    "#QUESTION: If you change 'copied_list' \n",
    "#           will it effect 'original_list'\n",
    "\n",
    "copied_list[0] = 9\n",
    "print( copied_list )   \n",
    "print( original_list ) #both same (OR different)"
   ]
  },
  {
   "cell_type": "code",
   "execution_count": null,
   "metadata": {},
   "outputs": [],
   "source": []
  },
  {
   "cell_type": "code",
   "execution_count": null,
   "metadata": {},
   "outputs": [],
   "source": []
  },
  {
   "cell_type": "code",
   "execution_count": null,
   "metadata": {},
   "outputs": [],
   "source": []
  },
  {
   "cell_type": "code",
   "execution_count": null,
   "metadata": {},
   "outputs": [],
   "source": []
  },
  {
   "cell_type": "code",
   "execution_count": null,
   "metadata": {},
   "outputs": [],
   "source": []
  },
  {
   "cell_type": "code",
   "execution_count": 25,
   "metadata": {},
   "outputs": [
    {
     "name": "stdout",
     "output_type": "stream",
     "text": [
      "[1, 2, 3, 4, 5] \n",
      " [9, 2, 3, 4, 5]\n",
      "1620931503296 \n",
      " 1620932862528\n"
     ]
    }
   ],
   "source": [
    "#Using the slice operator [:]\n",
    "original_list = [1, 2, 3, 4, 5]\n",
    "copied_list   = original_list[:]\n",
    "\n",
    "#what to print to prove distinct list objects at the end\n",
    "copied_list[0] = 9\n",
    "print( original_list, \"\\n\", copied_list )           #different (copy)\n",
    "print( id(original_list), \"\\n\", id(copied_list) )   #different (copy)\n"
   ]
  },
  {
   "cell_type": "code",
   "execution_count": null,
   "metadata": {},
   "outputs": [],
   "source": []
  },
  {
   "cell_type": "code",
   "execution_count": null,
   "metadata": {},
   "outputs": [],
   "source": []
  },
  {
   "cell_type": "code",
   "execution_count": null,
   "metadata": {},
   "outputs": [],
   "source": []
  },
  {
   "cell_type": "code",
   "execution_count": 26,
   "metadata": {},
   "outputs": [
    {
     "name": "stdout",
     "output_type": "stream",
     "text": [
      "1620931501184 1620932972480\n"
     ]
    }
   ],
   "source": [
    "\n",
    "#Using the list() function:\n",
    "original_list = [1, 2, 3, 4, 5]\n",
    "copied_list = list(original_list)\n",
    "\n",
    "print( id(original_list), id(copied_list) )"
   ]
  },
  {
   "cell_type": "code",
   "execution_count": null,
   "metadata": {},
   "outputs": [],
   "source": []
  },
  {
   "cell_type": "code",
   "execution_count": null,
   "metadata": {},
   "outputs": [],
   "source": []
  },
  {
   "cell_type": "code",
   "execution_count": null,
   "metadata": {},
   "outputs": [],
   "source": []
  },
  {
   "cell_type": "code",
   "execution_count": null,
   "metadata": {},
   "outputs": [],
   "source": []
  },
  {
   "cell_type": "code",
   "execution_count": 27,
   "metadata": {},
   "outputs": [
    {
     "name": "stdout",
     "output_type": "stream",
     "text": [
      "1620931503296 1620932677312\n"
     ]
    }
   ],
   "source": [
    "#Using the copy() method from the copy module:\n",
    "import copy\n",
    "\n",
    "original_list = [1, 2, 3, 4, 5]\n",
    "copied_list = copy.copy(original_list)\n",
    "print( id(original_list), id(copied_list) )"
   ]
  },
  {
   "cell_type": "code",
   "execution_count": 31,
   "metadata": {},
   "outputs": [
    {
     "name": "stdout",
     "output_type": "stream",
     "text": [
      "[1, ['z', 'b'], 5] [1, ['z', 'b'], 5]\n",
      "1620931420224 1620932973504\n"
     ]
    }
   ],
   "source": [
    "import copy\n",
    "#               @11213['z', 'b]\n",
    "#               [1, @11213, 5]\n",
    "original_list = [1, @11213, 5]\n",
    "copied_list = copy.copy(original_list)      #copied (\"shallow copy\")\n",
    "\n",
    "copied_list[1][0] = 'z'                     #changed copied\n",
    "\n",
    "print(original_list, copied_list)           #original updated aswell??\n",
    "print( id(original_list), id(copied_list) )\n"
   ]
  },
  {
   "cell_type": "code",
   "execution_count": null,
   "metadata": {},
   "outputs": [],
   "source": []
  },
  {
   "cell_type": "code",
   "execution_count": null,
   "metadata": {},
   "outputs": [],
   "source": []
  },
  {
   "cell_type": "code",
   "execution_count": null,
   "metadata": {},
   "outputs": [],
   "source": []
  },
  {
   "cell_type": "code",
   "execution_count": 34,
   "metadata": {},
   "outputs": [
    {
     "name": "stdout",
     "output_type": "stream",
     "text": [
      "1620935008192 1620932973504\n",
      "[1, ['a', 'b'], 4, 5] [1, ['z', 'b'], 4, 5]\n",
      "1620935008192 1620935009408\n"
     ]
    }
   ],
   "source": [
    "import copy\n",
    "#               @32411['a', 'b]\n",
    "#               @11213['a', 'b]\n",
    "#                 [1, @11213, 5]\n",
    "# original_list = [1, @11213, 5]\n",
    "original_list = [1, ['a','b'], 4, 5]\n",
    "deep_copied_list = copy.deepcopy(original_list)  #\"deep copy\"\n",
    "\n",
    "print( id(original_list), id(copied_list) )\n",
    "deep_copied_list[1][0] = 'z'                     #changed copy only\n",
    "\n",
    "print(original_list, deep_copied_list)           #original unchanged\n",
    "print( id(original_list), id(deep_copied_list) )"
   ]
  },
  {
   "cell_type": "code",
   "execution_count": null,
   "metadata": {},
   "outputs": [],
   "source": []
  },
  {
   "cell_type": "code",
   "execution_count": null,
   "metadata": {},
   "outputs": [],
   "source": []
  },
  {
   "cell_type": "code",
   "execution_count": null,
   "metadata": {},
   "outputs": [],
   "source": []
  },
  {
   "cell_type": "code",
   "execution_count": null,
   "metadata": {},
   "outputs": [],
   "source": []
  },
  {
   "cell_type": "code",
   "execution_count": null,
   "metadata": {},
   "outputs": [],
   "source": []
  },
  {
   "cell_type": "markdown",
   "metadata": {},
   "source": [
    "#### passing list's to functions"
   ]
  },
  {
   "cell_type": "code",
   "execution_count": 37,
   "metadata": {},
   "outputs": [
    {
     "name": "stdout",
     "output_type": "stream",
     "text": [
      "1620934786752\n",
      "3\n",
      "1\n",
      "2\n",
      "6\n",
      "4\n",
      "2\n",
      "1620935004608\n",
      "1\n",
      "2\n",
      "3\n",
      "4\n",
      "5\n",
      "6\n"
     ]
    }
   ],
   "source": [
    "def print_list(pass_in_list):\n",
    "    print(id(pass_in_list))\n",
    "    for element in pass_in_list:\n",
    "        print(element)\n",
    "\n",
    "my_list = [3,1,2,6,4,2]\n",
    "\n",
    "print_list( my_list )\n",
    "print_list( [1,2,3,4,5,6] )\n",
    "\n",
    "#TASK: alter the above code to check if\n",
    "#       the same list object inside the\n",
    "#       print_list function"
   ]
  },
  {
   "cell_type": "code",
   "execution_count": null,
   "metadata": {},
   "outputs": [],
   "source": []
  },
  {
   "cell_type": "code",
   "execution_count": null,
   "metadata": {},
   "outputs": [],
   "source": []
  },
  {
   "cell_type": "code",
   "execution_count": null,
   "metadata": {},
   "outputs": [],
   "source": []
  },
  {
   "cell_type": "code",
   "execution_count": null,
   "metadata": {},
   "outputs": [],
   "source": []
  },
  {
   "cell_type": "code",
   "execution_count": 48,
   "metadata": {},
   "outputs": [
    {
     "name": "stdout",
     "output_type": "stream",
     "text": [
      "before: [3, 1, 2, 6, 4, 2]\n",
      "[3, 1, 2, 6, 'XXX', 2]\n",
      " after: [3, 1, 2, 6, 4, 2]\n"
     ]
    }
   ],
   "source": [
    "#TASK: Examine the code first:\n",
    "#       Try to predict the outcome\n",
    "import random\n",
    "def modify_list(list_passed_in):\n",
    "    last_index = len(list_passed_in)-1 \n",
    "    i = random.randint( 0, last_index )\n",
    "    \n",
    "    list_passed_in[i]=\"XXX\"  #changeing the outside list\n",
    "    print(list_passed_in)\n",
    "\n",
    "\n",
    "# Define a list\n",
    "my_list = [3, 1, 2, 6, 4, 2]\n",
    "\n",
    "print(f\"before: {my_list}\")\n",
    "# modify_list(my_list)\n",
    "modify_list( my_list[:] )           #sending a copy outside not changed.\n",
    "print(f\" after: {my_list}\")\n"
   ]
  },
  {
   "cell_type": "code",
   "execution_count": null,
   "metadata": {},
   "outputs": [],
   "source": []
  },
  {
   "cell_type": "code",
   "execution_count": null,
   "metadata": {},
   "outputs": [],
   "source": []
  },
  {
   "cell_type": "code",
   "execution_count": null,
   "metadata": {},
   "outputs": [],
   "source": []
  },
  {
   "cell_type": "markdown",
   "metadata": {},
   "source": [
    "#### Returning a list created inside a function"
   ]
  },
  {
   "cell_type": "code",
   "execution_count": 49,
   "metadata": {},
   "outputs": [
    {
     "name": "stdout",
     "output_type": "stream",
     "text": [
      "[1, 2, 3, 4, 5, 6] 1620935267328\n",
      "[6, 5, 4, 3, 2, 1] 1620934948736\n"
     ]
    }
   ],
   "source": [
    "#no great point to this functon:\n",
    "#   better use list.reverse(): only for demo\n",
    "def reverse( a_list ): #[1,2,3]\n",
    "    result = []             #create new obj here\n",
    "    for element in a_list:\n",
    "        result.insert(0, element) #[3,2,1]\n",
    "    \n",
    "    return result           #return new obj here\n",
    "\n",
    "\n",
    "list1 = [1, 2, 3, 4, 5, 6]\n",
    "list2 = reverse(list1)\n",
    "\n",
    "print( list1, id(list1) )\n",
    "print( list2, id(list2) )"
   ]
  },
  {
   "cell_type": "code",
   "execution_count": null,
   "metadata": {},
   "outputs": [],
   "source": []
  },
  {
   "cell_type": "code",
   "execution_count": null,
   "metadata": {},
   "outputs": [],
   "source": []
  },
  {
   "cell_type": "code",
   "execution_count": null,
   "metadata": {},
   "outputs": [],
   "source": []
  },
  {
   "cell_type": "code",
   "execution_count": null,
   "metadata": {},
   "outputs": [],
   "source": []
  },
  {
   "cell_type": "markdown",
   "metadata": {},
   "source": [
    "#### Issues: list as a default arg"
   ]
  },
  {
   "cell_type": "code",
   "execution_count": null,
   "metadata": {},
   "outputs": [],
   "source": [
    "#TASK: add a line to figure out what is happening here\n",
    "def add(x, lst=[]): #default empty-list\n",
    "    \n",
    "    if x not in lst:\n",
    "        lst.append(x)\n",
    "        \n",
    "    return lst\n",
    "\n",
    "add(4)\n",
    "add(3)\n"
   ]
  },
  {
   "cell_type": "code",
   "execution_count": null,
   "metadata": {},
   "outputs": [],
   "source": []
  },
  {
   "cell_type": "code",
   "execution_count": null,
   "metadata": {},
   "outputs": [],
   "source": []
  },
  {
   "cell_type": "code",
   "execution_count": null,
   "metadata": {},
   "outputs": [],
   "source": []
  },
  {
   "cell_type": "code",
   "execution_count": null,
   "metadata": {},
   "outputs": [],
   "source": [
    "def add(x, lst=None): #Set to `None` this time\n",
    "    if x not in lst:\n",
    "        lst.append(x)\n",
    "        \n",
    "    return lst\n",
    "\n",
    "add(4)                  #What will happen this time?"
   ]
  },
  {
   "cell_type": "code",
   "execution_count": null,
   "metadata": {},
   "outputs": [],
   "source": []
  },
  {
   "cell_type": "code",
   "execution_count": null,
   "metadata": {},
   "outputs": [],
   "source": []
  },
  {
   "cell_type": "code",
   "execution_count": null,
   "metadata": {},
   "outputs": [],
   "source": []
  },
  {
   "cell_type": "code",
   "execution_count": null,
   "metadata": {},
   "outputs": [],
   "source": []
  },
  {
   "cell_type": "code",
   "execution_count": null,
   "metadata": {},
   "outputs": [],
   "source": []
  },
  {
   "cell_type": "code",
   "execution_count": null,
   "metadata": {},
   "outputs": [],
   "source": [
    "def add(x, lst=None):\n",
    "    if lst == None:\n",
    "        lst=[]\n",
    "    if x not in lst:\n",
    "        lst.append(x)\n",
    "        \n",
    "    return lst\n",
    "\n",
    "add(4)"
   ]
  },
  {
   "cell_type": "code",
   "execution_count": null,
   "metadata": {},
   "outputs": [],
   "source": [
    "#FURTHER TESTING VERSION 1) add(...,lst=[]) Vs VERSION 2) add(...,lst=None)\n",
    "#Version 1:\n",
    "def add(x, lst=[]):\n",
    "    if x not in lst:\n",
    "        lst.append(x)\n",
    "        \n",
    "    return lst\n",
    "\n",
    "# #Version 2:\n",
    "# def add(x, lst=None):\n",
    "#     if lst == None:\n",
    "#         lst = []\n",
    "#     if not(x in lst):\n",
    "#         lst.append(x)\n",
    "        \n",
    "#     return lst\n",
    "\n",
    "list1 = add(1)\n",
    "print(list1)\n",
    "\n",
    "list2 = add(2)\n",
    "print(list2)\n",
    "\n",
    "list3 = add(3, [11, 12, 13, 14])\n",
    "print(list3)\n",
    "\n",
    "list4 = add(4)\n",
    "print(list4)\n"
   ]
  },
  {
   "cell_type": "code",
   "execution_count": null,
   "metadata": {},
   "outputs": [],
   "source": []
  },
  {
   "cell_type": "code",
   "execution_count": null,
   "metadata": {},
   "outputs": [],
   "source": []
  },
  {
   "cell_type": "code",
   "execution_count": null,
   "metadata": {},
   "outputs": [],
   "source": []
  },
  {
   "cell_type": "code",
   "execution_count": null,
   "metadata": {},
   "outputs": [],
   "source": []
  },
  {
   "cell_type": "code",
   "execution_count": null,
   "metadata": {},
   "outputs": [],
   "source": []
  },
  {
   "cell_type": "markdown",
   "metadata": {},
   "source": [
    "#### A 'matrix' as a \"list of lists\""
   ]
  },
  {
   "cell_type": "code",
   "execution_count": null,
   "metadata": {},
   "outputs": [],
   "source": [
    "matrix = [[1, 2, 3], [4, 5, 6], [7, 8, 9]] \n",
    "\n",
    "#TASK: access and print the 5, the 8 and the 9"
   ]
  },
  {
   "cell_type": "code",
   "execution_count": null,
   "metadata": {},
   "outputs": [],
   "source": []
  },
  {
   "cell_type": "code",
   "execution_count": null,
   "metadata": {},
   "outputs": [],
   "source": []
  },
  {
   "cell_type": "code",
   "execution_count": null,
   "metadata": {},
   "outputs": [],
   "source": []
  },
  {
   "cell_type": "code",
   "execution_count": null,
   "metadata": {},
   "outputs": [],
   "source": []
  },
  {
   "cell_type": "code",
   "execution_count": null,
   "metadata": {},
   "outputs": [],
   "source": []
  },
  {
   "cell_type": "code",
   "execution_count": null,
   "metadata": {},
   "outputs": [],
   "source": [
    "#Write code to randomly create a matrix (2-d list)\n",
    "# based on the following start-point: \n",
    "import random\n",
    "rows = 3            #just giving an idea...\n",
    "cols = 3\n",
    "\n",
    "                    #just giving another idea\n",
    "test_list = []\n",
    "test_list.append( random.randint(0, 100))\n",
    "test_list.append( random.randint(0, 100))\n",
    "test_list.append( random.randint(0, 100))\n",
    "\n",
    "print(test_list)\n",
    "\n"
   ]
  }
 ],
 "metadata": {
  "kernelspec": {
   "display_name": "Python 3",
   "language": "python",
   "name": "python3"
  },
  "language_info": {
   "codemirror_mode": {
    "name": "ipython",
    "version": 3
   },
   "file_extension": ".py",
   "mimetype": "text/x-python",
   "name": "python",
   "nbconvert_exporter": "python",
   "pygments_lexer": "ipython3",
   "version": "3.11.4"
  }
 },
 "nbformat": 4,
 "nbformat_minor": 2
}
