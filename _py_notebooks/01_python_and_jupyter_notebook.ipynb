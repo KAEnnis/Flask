{
 "cells": [
  {
   "cell_type": "markdown",
   "id": "58b6a119",
   "metadata": {
    "jupyter": {
     "source_hidden": true
    },
    "tags": []
   },
   "source": [
    "### Things being looked at below:\n",
    "\n",
    "1. Jupyter Notebook navigating/using\n",
    "1. Python as a calculator\n",
    "1. Variables\n",
    "1. Types\n",
    "1. Arithmetic operators\n",
    "1. Boolean logic\n",
    "1. Strings\n",
    "1. Printing\n",
    "1. Exercises"
   ]
  },
  {
   "cell_type": "code",
   "execution_count": null,
   "id": "c20a73ba",
   "metadata": {},
   "outputs": [],
   "source": [
    "#begin"
   ]
  },
  {
   "cell_type": "code",
   "execution_count": null,
   "id": "88a0c60e",
   "metadata": {},
   "outputs": [],
   "source": []
  },
  {
   "cell_type": "code",
   "execution_count": null,
   "id": "48d1775f",
   "metadata": {},
   "outputs": [],
   "source": []
  },
  {
   "cell_type": "code",
   "execution_count": null,
   "id": "f7f97370",
   "metadata": {},
   "outputs": [],
   "source": []
  },
  {
   "cell_type": "code",
   "execution_count": null,
   "id": "1c2883bc",
   "metadata": {},
   "outputs": [],
   "source": []
  },
  {
   "cell_type": "code",
   "execution_count": null,
   "id": "51040032",
   "metadata": {},
   "outputs": [],
   "source": []
  },
  {
   "cell_type": "code",
   "execution_count": null,
   "id": "a07f11df",
   "metadata": {},
   "outputs": [],
   "source": []
  },
  {
   "cell_type": "code",
   "execution_count": null,
   "id": "ecd25304",
   "metadata": {},
   "outputs": [],
   "source": []
  },
  {
   "cell_type": "code",
   "execution_count": null,
   "id": "cc96ca11",
   "metadata": {},
   "outputs": [],
   "source": []
  },
  {
   "cell_type": "code",
   "execution_count": null,
   "id": "ad26ecbd",
   "metadata": {},
   "outputs": [],
   "source": []
  },
  {
   "cell_type": "code",
   "execution_count": null,
   "id": "c2838470",
   "metadata": {},
   "outputs": [],
   "source": []
  },
  {
   "cell_type": "code",
   "execution_count": null,
   "id": "58da3770",
   "metadata": {},
   "outputs": [],
   "source": []
  },
  {
   "cell_type": "code",
   "execution_count": null,
   "id": "ba205274",
   "metadata": {},
   "outputs": [],
   "source": [
    "#Cell highlight\n",
    "# A --> new cell above\n",
    "# B --> new cell below\n",
    "# ESC --> goes from edit mode (cursor) to cell-highlight\n",
    "# ENTER --> goes to edit mode\n",
    "# DD --> deletes a cell"
   ]
  },
  {
   "cell_type": "code",
   "execution_count": 2,
   "id": "0949dd9f",
   "metadata": {},
   "outputs": [
    {
     "name": "stdout",
     "output_type": "stream",
     "text": [
      "bill\n",
      "tim\n"
     ]
    }
   ],
   "source": [
    "bill = \"bill\"\n",
    "print( bill )\n",
    "#...\n",
    "bill = \"tim\"\n",
    "print( bill )\n",
    "#better to use say, 'person_name' for the 'variability' of the value over time"
   ]
  },
  {
   "cell_type": "code",
   "execution_count": 5,
   "id": "8dd76e38",
   "metadata": {},
   "outputs": [
    {
     "data": {
      "text/plain": [
       "93093"
      ]
     },
     "execution_count": 5,
     "metadata": {},
     "output_type": "execute_result"
    }
   ],
   "source": [
    "403 * 231"
   ]
  },
  {
   "cell_type": "code",
   "execution_count": 1,
   "id": "e3603c23",
   "metadata": {},
   "outputs": [],
   "source": [
    "def miles_per_km():    #a function to create a 'constant'\n",
    "    return 1.60934"
   ]
  },
  {
   "cell_type": "code",
   "execution_count": 6,
   "id": "484ecb7f",
   "metadata": {
    "jupyter": {
     "outputs_hidden": true,
     "source_hidden": true
    },
    "tags": []
   },
   "outputs": [
    {
     "data": {
      "text/plain": [
       "648.56402"
      ]
     },
     "execution_count": 6,
     "metadata": {},
     "output_type": "execute_result"
    }
   ],
   "source": [
    "# Great calculator but how can we make it store values?\n",
    "# We do this by defining variables, e.g.:\n",
    "miles_to_london = 403\n",
    "miles_per_km = 1.60934                              #use variable (not constant)\n",
    "km_to_london = miles_to_london * miles_per_km\n",
    "km_to_london"
   ]
  },
  {
   "cell_type": "code",
   "execution_count": 7,
   "id": "c900709b",
   "metadata": {
    "jupyter": {
     "outputs_hidden": true,
     "source_hidden": true
    },
    "tags": []
   },
   "outputs": [
    {
     "data": {
      "text/plain": [
       "42.19528546"
      ]
     },
     "execution_count": 7,
     "metadata": {},
     "output_type": "execute_result"
    }
   ],
   "source": [
    "# We can now reuse the variable miles_per_km in a new block without having to define it again\n",
    "miles_in_marathon = 26.219\n",
    "km_in_marathon = miles_in_marathon * miles_per_km #use variable from above cell (~constant)\n",
    "km_in_marathon"
   ]
  },
  {
   "cell_type": "code",
   "execution_count": 4,
   "id": "93255e43",
   "metadata": {},
   "outputs": [
    {
     "data": {
      "text/plain": [
       "42.19528546"
      ]
     },
     "execution_count": 4,
     "metadata": {},
     "output_type": "execute_result"
    }
   ],
   "source": [
    "#redefine miles_per_km as a fn in this cell now\n",
    "def miles_per_km():    #a function to create a 'constant'\n",
    "    return 1.60934\n",
    "# We can now use the (~constant) fn instead of the variable\n",
    "miles_in_marathon = 26.219\n",
    "km_in_marathon = miles_in_marathon * miles_per_km() #use fn from above (~constant)\n",
    "km_in_marathon"
   ]
  },
  {
   "cell_type": "markdown",
   "id": "37ad957f",
   "metadata": {
    "jupyter": {
     "source_hidden": true
    },
    "tags": []
   },
   "source": [
    "## Important notes\n",
    "\n",
    "- Variables can have any name you want, as long as it contains only letters, underscores and digits, but cannot start with a digit\n",
    "-  Variables are case sensitive, so `miles` is different from `MILES`\n",
    "-  While we use the equals sign (=), assignment to a variable is not the same as equality (which we will see later), and should be read as assigning the value on the right-hand-side to the variable named on the left-hand-side\n",
    "- Once defined, a variable will maintain its value throughout the current piece of code, and can be used in any place where a regular value can be used.\n",
    "- Code should be read top to bottom (unless there is any special structure). A variable cannot be used before it is assigned a new value; it can be reassigned a new value, which will be used for all subsequent code"
   ]
  },
  {
   "cell_type": "code",
   "execution_count": 9,
   "id": "7c8567fc",
   "metadata": {},
   "outputs": [
    {
     "name": "stdout",
     "output_type": "stream",
     "text": [
      "for us\n",
      "for us\n",
      "for us\n"
     ]
    }
   ],
   "source": [
    "# What is a legal name for a variable?\n",
    "\n",
    "#4us = \"for us\"             #Can't start with a number\n",
    "_4us = \"for us\"\n",
    "print( _4us )\n",
    "\n",
    "forUs = \"for us\"            #NOT Python convention: 'camel-case' more Java/JavaScript/C# way\n",
    "print(forUs)\n",
    "\n",
    "for_us = \"for us\"           #Pythonesque using underscores in the name\n",
    "print( for_us )"
   ]
  },
  {
   "cell_type": "markdown",
   "id": "617a34ee",
   "metadata": {
    "jupyter": {
     "source_hidden": true
    },
    "tags": []
   },
   "source": [
    "# Types\n",
    "Values (and variables) in Python all have types, which define the way they are stored and the ways they can be used.\n",
    "There are 5 basic types in Python:\n",
    "\n",
    "| Type     | Declaration | Example             | Purpose                                 |\n",
    "|----------|-------------|---------------------|-----------------------------------------|\n",
    "| Integer  | int         | x = 124             | Whole numbers                           |\n",
    "| Float    | float       | x = 124.56          | Numbers with a decimal point            |\n",
    "| String   | str         | x = \"Hello World\"   | For any text                            |\n",
    "| Boolean  | bool        | x = True, x = False | For logical conditions                  |\n",
    "| NoneType | None        | x = None            | To mark something as not having a value |\n",
    "\n",
    "# Important lesson to remember!\n",
    "We can't do arithmetic operations on variables of different types. Therefore make sure that you are always aware of your variables types!"
   ]
  },
  {
   "cell_type": "code",
   "execution_count": 10,
   "id": "179a10fe",
   "metadata": {},
   "outputs": [
    {
     "name": "stdout",
     "output_type": "stream",
     "text": [
      "now\n"
     ]
    }
   ],
   "source": [
    "to_be_used_later = None             ##'None' value signifies an 'absence' of a value\n",
    "\n",
    "# ... \n",
    "to_be_used_later = \"now\"\n",
    "print( to_be_used_later )"
   ]
  },
  {
   "cell_type": "code",
   "execution_count": 11,
   "id": "cf50589d",
   "metadata": {
    "jupyter": {
     "outputs_hidden": true,
     "source_hidden": true
    },
    "tags": []
   },
   "outputs": [
    {
     "name": "stdout",
     "output_type": "stream",
     "text": [
      "20\n"
     ]
    }
   ],
   "source": [
    "x = 10\n",
    "y = \"10\"\n",
    "result = x + int(y)     #not so nice HERE!\n",
    "print( result )\n"
   ]
  },
  {
   "cell_type": "code",
   "execution_count": null,
   "id": "d25ed436",
   "metadata": {},
   "outputs": [],
   "source": [
    "#'nicer' way...\n",
    "x = 10\n",
    "y = \"10\"\n",
    "y = int(y)              #added: \"y is the int of y\"\n",
    "\n",
    "result = x + y          #easier to read HERE!\n",
    "print(result) "
   ]
  },
  {
   "cell_type": "code",
   "execution_count": null,
   "id": "1b8fdec7",
   "metadata": {},
   "outputs": [],
   "source": [
    "#nicer again\n",
    "age     = 10\n",
    "aged_by = \"10\"\n",
    "aged_by = int(aged_by)\n",
    "\n",
    "future_age = age + aged_by\n",
    "\n",
    "print( future_age )"
   ]
  },
  {
   "cell_type": "code",
   "execution_count": 12,
   "id": "5f984b8a",
   "metadata": {},
   "outputs": [
    {
     "name": "stdout",
     "output_type": "stream",
     "text": [
      "The Zen of Python, by Tim Peters\n",
      "\n",
      "Beautiful is better than ugly.\n",
      "Explicit is better than implicit.\n",
      "Simple is better than complex.\n",
      "Complex is better than complicated.\n",
      "Flat is better than nested.\n",
      "Sparse is better than dense.\n",
      "Readability counts.\n",
      "Special cases aren't special enough to break the rules.\n",
      "Although practicality beats purity.\n",
      "Errors should never pass silently.\n",
      "Unless explicitly silenced.\n",
      "In the face of ambiguity, refuse the temptation to guess.\n",
      "There should be one-- and preferably only one --obvious way to do it.\n",
      "Although that way may not be obvious at first unless you're Dutch.\n",
      "Now is better than never.\n",
      "Although never is often better than *right* now.\n",
      "If the implementation is hard to explain, it's a bad idea.\n",
      "If the implementation is easy to explain, it may be a good idea.\n",
      "Namespaces are one honking great idea -- let's do more of those!\n"
     ]
    }
   ],
   "source": [
    "#readability matters!\n",
    "# self-documenting code PEP-20 Zen of Python\n",
    "# import this #CTRL-'?'\n",
    "import this"
   ]
  },
  {
   "cell_type": "markdown",
   "id": "d5970ef3",
   "metadata": {
    "jupyter": {
     "source_hidden": true
    },
    "tags": []
   },
   "source": [
    "# Casting types\n"
   ]
  },
  {
   "cell_type": "code",
   "execution_count": 1,
   "id": "0653ffa9",
   "metadata": {
    "jupyter": {
     "outputs_hidden": true,
     "source_hidden": true
    },
    "tags": []
   },
   "outputs": [
    {
     "name": "stdout",
     "output_type": "stream",
     "text": [
      "20\n"
     ]
    }
   ],
   "source": [
    "#Recap...\n",
    "x = 10\n",
    "y = \"10\"\n",
    "result = x + int(y)\n",
    "\n",
    "# quiz: What is x?\n",
    "print(result)"
   ]
  },
  {
   "cell_type": "code",
   "execution_count": 2,
   "id": "ced2b6de",
   "metadata": {
    "jupyter": {
     "outputs_hidden": true,
     "source_hidden": true
    },
    "tags": []
   },
   "outputs": [
    {
     "name": "stdout",
     "output_type": "stream",
     "text": [
      "1010\n"
     ]
    }
   ],
   "source": [
    "x = 10\n",
    "y = \"10\"\n",
    "# quiz - what would be the result if we cast into a string instead?\n",
    "result = str(x) + y\n",
    "\n",
    "print( result )"
   ]
  },
  {
   "cell_type": "markdown",
   "id": "c71e8a52",
   "metadata": {
    "jupyter": {
     "source_hidden": true
    },
    "tags": []
   },
   "source": [
    "# Arithmetic operations\n",
    "Python supports all the regular arithmetic operations from school:\n",
    "\n",
    "| Symbol |    Task Performed   | Example | Result |\n",
    "|:------:|:-------------------:|:-------:|:------:|\n",
    "|    +   |       Addition      |  4 + 3  |    7   |\n",
    "|    -   |     Subtraction     |  4 - 3  |    1   |\n",
    "|    /   |   (True) Division   |  7 / 2  |   3.5  |\n",
    "|   //   |    Floor Division   |  7 // 2 |    3   |\n",
    "|    %   |   Mod (Remainder)   |  7 % 2  |    1   |\n",
    "|    *   |    Multiplication   |  4 * 3  |   12   |\n",
    "|   **   | Power of (exponent) |  7 ** 2 |   49   |"
   ]
  },
  {
   "cell_type": "markdown",
   "id": "d94c21d3",
   "metadata": {
    "jupyter": {
     "source_hidden": true
    },
    "tags": []
   },
   "source": [
    "# Be mindful of the order of operations (again, same as in school):\n",
    "\n",
    "| Operation, from highest precedence to lowest | In Python |\n",
    "|----------------------------------------------|-----------|\n",
    "|                   **B**rackets                   |    ( )    |\n",
    "|                   **E**xponents                  |     **    |\n",
    "|                **M**ultiplication                |     *     |\n",
    "|                   **D**ivision                   |  /, //, % |\n",
    "|                   **A**ddition                   |     +     |\n",
    "|                  **S**ubtraction                 |     -     |"
   ]
  },
  {
   "cell_type": "code",
   "execution_count": 4,
   "id": "d92638c3",
   "metadata": {
    "jupyter": {
     "outputs_hidden": true,
     "source_hidden": true
    },
    "tags": []
   },
   "outputs": [
    {
     "name": "stdout",
     "output_type": "stream",
     "text": [
      "64.0\n"
     ]
    }
   ],
   "source": [
    "result = (16 ** 2) / 4\n",
    "print( result )"
   ]
  },
  {
   "cell_type": "code",
   "execution_count": 9,
   "id": "159e5344",
   "metadata": {
    "jupyter": {
     "outputs_hidden": true,
     "source_hidden": true
    },
    "tags": []
   },
   "outputs": [
    {
     "name": "stdout",
     "output_type": "stream",
     "text": [
      "13 49\n"
     ]
    }
   ],
   "source": [
    "# Quick quiz, which one is bigger?\n",
    "calc1 = 4 + 3 ** 2\n",
    "# or\n",
    "calc2 =  (4 + 3) ** 2\n",
    "# print(\"cast your vote now\")         #why no calculation result printing?\n",
    "print( calc1, calc2 )"
   ]
  },
  {
   "cell_type": "code",
   "execution_count": null,
   "id": "5aba9e26",
   "metadata": {},
   "outputs": [],
   "source": []
  },
  {
   "cell_type": "code",
   "execution_count": null,
   "metadata": {},
   "outputs": [],
   "source": []
  },
  {
   "cell_type": "markdown",
   "id": "24e43bc0",
   "metadata": {
    "jupyter": {
     "source_hidden": true
    },
    "tags": []
   },
   "source": [
    "# Comparison operators\n",
    "These operators can be used on numbers and many other types to return Boolean values (i.e. True or False)\n",
    "They are used extensively for conditional statements, which we'll see in week 3.\n",
    "\n",
    "| Operation        | In Python | Purpose                       |\n",
    "|------------------|-----------|-------------------------------|\n",
    "|       Equal      | x == y    |  x and y have the same value  |\n",
    "|     Not equal    | x != y    | x and y have different values |\n",
    "|     Less than    | x < y     |      x is smaller than y      |\n",
    "|   Greater than   | x > y     |       x is larger than y      |\n",
    "|   Less or equal  | x <= y    |   x is smaller or equal to y  |\n",
    "| Greater or equal | x >= y    |   x is larger or equal to y   |\n"
   ]
  },
  {
   "cell_type": "code",
   "execution_count": 10,
   "id": "94f1892f",
   "metadata": {
    "jupyter": {
     "outputs_hidden": true,
     "source_hidden": true
    },
    "tags": []
   },
   "outputs": [
    {
     "data": {
      "text/plain": [
       "True"
      ]
     },
     "execution_count": 10,
     "metadata": {},
     "output_type": "execute_result"
    }
   ],
   "source": [
    "# comparison example:\n",
    "x = 5   #\"is assigned\" or \"is assigned the value\"\n",
    "x == 5  # note the difference between = and =="
   ]
  },
  {
   "cell_type": "code",
   "execution_count": 11,
   "id": "f6a3550c",
   "metadata": {
    "jupyter": {
     "outputs_hidden": true,
     "source_hidden": true
    },
    "tags": []
   },
   "outputs": [
    {
     "data": {
      "text/plain": [
       "False"
      ]
     },
     "execution_count": 11,
     "metadata": {},
     "output_type": "execute_result"
    }
   ],
   "source": [
    "x > 7"
   ]
  },
  {
   "cell_type": "markdown",
   "id": "5ecba0ae",
   "metadata": {
    "jupyter": {
     "source_hidden": true
    },
    "tags": []
   },
   "source": [
    "# Logical operators\n",
    "These operators allow us to combine conditional logic operations, and will become essential later on, particularly in week 3\n",
    "\n",
    "| Logical Operation |           Result           |\n",
    "|:-----------------:|:--------------------------:|\n",
    "|       not x       |   True only if x is False  |\n",
    "|      x and y      | True only if both are True |\n",
    "|       x or y      | True unless both are False |"
   ]
  },
  {
   "cell_type": "markdown",
   "id": "b63b585f",
   "metadata": {
    "jupyter": {
     "source_hidden": true
    },
    "tags": []
   },
   "source": [
    "|   a   | not a |\n",
    "|:-----:|:-----:|\n",
    "| False |  True |\n",
    "|  True | False |\n",
    "\n",
    "|   a   |   b   | a and b |\n",
    "|:-----:|:-----:|---------|\n",
    "| False | False | False   |\n",
    "| False |  True | False   |\n",
    "| True  | False | False   |\n",
    "| True  | True  | True    |\n",
    "\n",
    "|   a   |   b   | a or b |\n",
    "|:-----:|:-----:|--------|\n",
    "| False | False | False  |\n",
    "| False |  True | True   |\n",
    "| True  | False | True   |\n",
    "| True  | True  | True   |"
   ]
  },
  {
   "cell_type": "code",
   "execution_count": 14,
   "id": "ae388d6d",
   "metadata": {
    "jupyter": {
     "outputs_hidden": true,
     "source_hidden": true
    },
    "tags": []
   },
   "outputs": [
    {
     "data": {
      "text/plain": [
       "False"
      ]
     },
     "execution_count": 14,
     "metadata": {},
     "output_type": "execute_result"
    }
   ],
   "source": [
    "x = 20  #should say true\n",
    "\n",
    "# check whether x is between 10 and 20 (Exclusive!)\n",
    "x >= 10 and x < 20       #\"off-by-one errors\"\n",
    "\n",
    "#....0....10.....15....20 # the numberline - save hours of your life"
   ]
  },
  {
   "cell_type": "code",
   "execution_count": null,
   "id": "bc864478",
   "metadata": {},
   "outputs": [],
   "source": []
  },
  {
   "cell_type": "code",
   "execution_count": null,
   "id": "63b75e80",
   "metadata": {},
   "outputs": [],
   "source": []
  },
  {
   "cell_type": "code",
   "execution_count": null,
   "id": "c2fbe683",
   "metadata": {},
   "outputs": [],
   "source": []
  },
  {
   "cell_type": "code",
   "execution_count": null,
   "id": "681786fc",
   "metadata": {},
   "outputs": [],
   "source": []
  },
  {
   "cell_type": "code",
   "execution_count": null,
   "id": "8aecdc70",
   "metadata": {},
   "outputs": [],
   "source": []
  },
  {
   "cell_type": "code",
   "execution_count": null,
   "id": "e8070813",
   "metadata": {},
   "outputs": [],
   "source": []
  },
  {
   "cell_type": "code",
   "execution_count": 15,
   "id": "74a1e80b",
   "metadata": {
    "jupyter": {
     "outputs_hidden": true,
     "source_hidden": true
    },
    "tags": []
   },
   "outputs": [
    {
     "data": {
      "text/plain": [
       "False"
      ]
     },
     "execution_count": 15,
     "metadata": {},
     "output_type": "execute_result"
    }
   ],
   "source": [
    "x = 10\n",
    "# note that for this particular usage, Python actually allows us to combine the two\n",
    "10 < x < 20    #x > 10 and x < 20"
   ]
  },
  {
   "cell_type": "code",
   "execution_count": 16,
   "id": "d5989919",
   "metadata": {
    "jupyter": {
     "outputs_hidden": true,
     "source_hidden": true
    },
    "tags": []
   },
   "outputs": [
    {
     "data": {
      "text/plain": [
       "False"
      ]
     },
     "execution_count": 16,
     "metadata": {},
     "output_type": "execute_result"
    }
   ],
   "source": [
    "num = 42\n",
    "not ((num % 2 == 0) and (num % 3 == 0))\n",
    "\n",
    "# What did we check for?\n",
    "# That wasn't very easy to read was it?\n",
    "# Is there a way we can make it more readable?"
   ]
  },
  {
   "cell_type": "code",
   "execution_count": null,
   "id": "a5646904",
   "metadata": {
    "jupyter": {
     "outputs_hidden": true,
     "source_hidden": true
    },
    "tags": []
   },
   "outputs": [],
   "source": [
    "# WAS: below but not very readable\n",
    "# num = 42\n",
    "# not ((num % 2 == 0) and (num % 3 == 0))\n",
    "# Refactored Above to:\n",
    "num = 42\n",
    "divisible_by_2 = num % 2 == 0\n",
    "divisible_by_3 = num % 3 == 0\n",
    "divisible_by_both = divisible_by_2 and divisible_by_3\n",
    "not divisible_by_both\n",
    "\n",
    "#write code where you are...\n",
    "#sympathetic to the reader"
   ]
  },
  {
   "cell_type": "markdown",
   "id": "eddb74a4",
   "metadata": {
    "jupyter": {
     "source_hidden": true
    },
    "tags": []
   },
   "source": [
    "# Strings\n",
    "- Used to represent text in a flexible way\n",
    "- Can be added (concatenated)\n",
    "- Can be multiplied (repeated)\n",
    "- Can contain multiple lines"
   ]
  },
  {
   "cell_type": "code",
   "execution_count": 21,
   "id": "f0a6a469",
   "metadata": {},
   "outputs": [
    {
     "name": "stdout",
     "output_type": "stream",
     "text": [
      "<class 'str'>\n"
     ]
    },
    {
     "data": {
      "text/plain": [
       "['__add__',\n",
       " '__class__',\n",
       " '__contains__',\n",
       " '__delattr__',\n",
       " '__dir__',\n",
       " '__doc__',\n",
       " '__eq__',\n",
       " '__format__',\n",
       " '__ge__',\n",
       " '__getattribute__',\n",
       " '__getitem__',\n",
       " '__getnewargs__',\n",
       " '__getstate__',\n",
       " '__gt__',\n",
       " '__hash__',\n",
       " '__init__',\n",
       " '__init_subclass__',\n",
       " '__iter__',\n",
       " '__le__',\n",
       " '__len__',\n",
       " '__lt__',\n",
       " '__mod__',\n",
       " '__mul__',\n",
       " '__ne__',\n",
       " '__new__',\n",
       " '__reduce__',\n",
       " '__reduce_ex__',\n",
       " '__repr__',\n",
       " '__rmod__',\n",
       " '__rmul__',\n",
       " '__setattr__',\n",
       " '__sizeof__',\n",
       " '__str__',\n",
       " '__subclasshook__',\n",
       " 'capitalize',\n",
       " 'casefold',\n",
       " 'center',\n",
       " 'count',\n",
       " 'encode',\n",
       " 'endswith',\n",
       " 'expandtabs',\n",
       " 'find',\n",
       " 'format',\n",
       " 'format_map',\n",
       " 'index',\n",
       " 'isalnum',\n",
       " 'isalpha',\n",
       " 'isascii',\n",
       " 'isdecimal',\n",
       " 'isdigit',\n",
       " 'isidentifier',\n",
       " 'islower',\n",
       " 'isnumeric',\n",
       " 'isprintable',\n",
       " 'isspace',\n",
       " 'istitle',\n",
       " 'isupper',\n",
       " 'join',\n",
       " 'ljust',\n",
       " 'lower',\n",
       " 'lstrip',\n",
       " 'maketrans',\n",
       " 'partition',\n",
       " 'removeprefix',\n",
       " 'removesuffix',\n",
       " 'replace',\n",
       " 'rfind',\n",
       " 'rindex',\n",
       " 'rjust',\n",
       " 'rpartition',\n",
       " 'rsplit',\n",
       " 'rstrip',\n",
       " 'split',\n",
       " 'splitlines',\n",
       " 'startswith',\n",
       " 'strip',\n",
       " 'swapcase',\n",
       " 'title',\n",
       " 'translate',\n",
       " 'upper',\n",
       " 'zfill']"
      ]
     },
     "execution_count": 21,
     "metadata": {},
     "output_type": "execute_result"
    }
   ],
   "source": [
    "text1 = \"hello\"\n",
    "text2 = \"good bye\"\n",
    "print( type(text1) )\n",
    "\n",
    "# dir(str)"
   ]
  },
  {
   "cell_type": "code",
   "execution_count": 23,
   "id": "e08f8c52",
   "metadata": {},
   "outputs": [
    {
     "name": "stdout",
     "output_type": "stream",
     "text": [
      "bananna : True\n"
     ]
    }
   ],
   "source": [
    "text1 = \"bananna\"\n",
    "print( text1, \":\", text1.endswith(\"anna\") )"
   ]
  },
  {
   "cell_type": "code",
   "execution_count": 28,
   "id": "db9c6aa9",
   "metadata": {},
   "outputs": [
    {
     "name": "stdout",
     "output_type": "stream",
     "text": [
      "7\n",
      "x\n"
     ]
    }
   ],
   "source": [
    "text = \"banxnna\"\n",
    "characters = len(text)          #len() in-built fn that gets lenght of a String\n",
    "print(characters)\n",
    "#       [b][a][n]...[a]\n",
    "#       [0][1][2]...[6]\n",
    "#       [-7][-6][-5]...[-1]\n",
    "\n",
    "print( text[-4] )               #indexing: zero-based positive numbers\n",
    "                                #       or: -1-based  negative numbers"
   ]
  },
  {
   "cell_type": "code",
   "execution_count": 33,
   "id": "0e35922b",
   "metadata": {},
   "outputs": [
    {
     "name": "stdout",
     "output_type": "stream",
     "text": [
      "inside the if\n",
      "also inside the if\n",
      "after the if statement\n"
     ]
    }
   ],
   "source": [
    "num = 4\n",
    "if num == 4 :\n",
    "    print(\"inside the if\")              # **NOTE** the indent\n",
    "    print(\"also inside the if\")\n",
    "else:\n",
    "    print(\"inside the else\")\n",
    "    print(\"also inside the else\")\n",
    "\n",
    "print(\"after the if statement\")"
   ]
  },
  {
   "cell_type": "code",
   "execution_count": 36,
   "id": "bc891d6b",
   "metadata": {},
   "outputs": [
    {
     "data": {
      "text/plain": [
       "['__add__',\n",
       " '__class__',\n",
       " '__contains__',\n",
       " '__delattr__',\n",
       " '__dir__',\n",
       " '__doc__',\n",
       " '__eq__',\n",
       " '__format__',\n",
       " '__ge__',\n",
       " '__getattribute__',\n",
       " '__getitem__',\n",
       " '__getnewargs__',\n",
       " '__getstate__',\n",
       " '__gt__',\n",
       " '__hash__',\n",
       " '__init__',\n",
       " '__init_subclass__',\n",
       " '__iter__',\n",
       " '__le__',\n",
       " '__len__',\n",
       " '__lt__',\n",
       " '__mod__',\n",
       " '__mul__',\n",
       " '__ne__',\n",
       " '__new__',\n",
       " '__reduce__',\n",
       " '__reduce_ex__',\n",
       " '__repr__',\n",
       " '__rmod__',\n",
       " '__rmul__',\n",
       " '__setattr__',\n",
       " '__sizeof__',\n",
       " '__str__',\n",
       " '__subclasshook__',\n",
       " 'capitalize',\n",
       " 'casefold',\n",
       " 'center',\n",
       " 'count',\n",
       " 'encode',\n",
       " 'endswith',\n",
       " 'expandtabs',\n",
       " 'find',\n",
       " 'format',\n",
       " 'format_map',\n",
       " 'index',\n",
       " 'isalnum',\n",
       " 'isalpha',\n",
       " 'isascii',\n",
       " 'isdecimal',\n",
       " 'isdigit',\n",
       " 'isidentifier',\n",
       " 'islower',\n",
       " 'isnumeric',\n",
       " 'isprintable',\n",
       " 'isspace',\n",
       " 'istitle',\n",
       " 'isupper',\n",
       " 'join',\n",
       " 'ljust',\n",
       " 'lower',\n",
       " 'lstrip',\n",
       " 'maketrans',\n",
       " 'partition',\n",
       " 'removeprefix',\n",
       " 'removesuffix',\n",
       " 'replace',\n",
       " 'rfind',\n",
       " 'rindex',\n",
       " 'rjust',\n",
       " 'rpartition',\n",
       " 'rsplit',\n",
       " 'rstrip',\n",
       " 'split',\n",
       " 'splitlines',\n",
       " 'startswith',\n",
       " 'strip',\n",
       " 'swapcase',\n",
       " 'title',\n",
       " 'translate',\n",
       " 'upper',\n",
       " 'zfill']"
      ]
     },
     "execution_count": 36,
     "metadata": {},
     "output_type": "execute_result"
    }
   ],
   "source": [
    "dir(str)"
   ]
  },
  {
   "cell_type": "code",
   "execution_count": 39,
   "id": "276e77c2",
   "metadata": {},
   "outputs": [
    {
     "name": "stdout",
     "output_type": "stream",
     "text": [
      "Help on method_descriptor:\n",
      "\n",
      "join(self, iterable, /)\n",
      "    Concatenate any number of strings.\n",
      "    \n",
      "    The string whose method is called is inserted in between each given string.\n",
      "    The result is returned as a new string.\n",
      "    \n",
      "    Example: '.'.join(['ab', 'pq', 'rs']) -> 'ab.pq.rs'\n",
      "\n"
     ]
    }
   ],
   "source": [
    "help( str.join )"
   ]
  },
  {
   "cell_type": "code",
   "execution_count": 34,
   "id": "0ca7513b",
   "metadata": {},
   "outputs": [
    {
     "name": "stdout",
     "output_type": "stream",
     "text": [
      "it's a digit\n"
     ]
    }
   ],
   "source": [
    "my_string = \"10\"\n",
    "converted = int(my_string)\n",
    "\n",
    "#example\n",
    "hello = \"p8p8\"\n",
    "if hello[3].isdigit():\n",
    "    print(\"it's a digit\")\n",
    "else:\n",
    "    print(\"not a digit\")\n",
    "    "
   ]
  },
  {
   "cell_type": "code",
   "execution_count": 38,
   "id": "762f4860",
   "metadata": {
    "jupyter": {
     "outputs_hidden": true,
     "source_hidden": true
    },
    "tags": []
   },
   "outputs": [
    {
     "data": {
      "text/plain": [
       "\"Python's Awesome\""
      ]
     },
     "execution_count": 38,
     "metadata": {},
     "output_type": "execute_result"
    }
   ],
   "source": [
    "# We use either single or double quotes (doesn't matter)\n",
    "# Either type of quote can contain the other type\n",
    "first_part = \"Python's\"\n",
    "second_part = 'Awesome'\n",
    "first_part + \" \" + second_part"
   ]
  },
  {
   "cell_type": "code",
   "execution_count": 43,
   "id": "6e1feef0",
   "metadata": {},
   "outputs": [
    {
     "name": "stdout",
     "output_type": "stream",
     "text": [
      "hello\n"
     ]
    }
   ],
   "source": [
    "#variable name 'hello' VS value 'hello'\n",
    "hello = \"hillo\"\n",
    "\n",
    "print(hello)"
   ]
  },
  {
   "cell_type": "code",
   "execution_count": 44,
   "id": "5ae5029b",
   "metadata": {
    "jupyter": {
     "outputs_hidden": true,
     "source_hidden": true
    },
    "tags": []
   },
   "outputs": [
    {
     "data": {
      "text/plain": [
       "'Strings can be repeated repeated repeated '"
      ]
     },
     "execution_count": 44,
     "metadata": {},
     "output_type": "execute_result"
    }
   ],
   "source": [
    "first_part = \"Strings can be \"\n",
    "second_part = \"repeated \"\n",
    "first_part + 3 * second_part"
   ]
  },
  {
   "cell_type": "code",
   "execution_count": 46,
   "id": "ce2afac1",
   "metadata": {},
   "outputs": [
    {
     "data": {
      "text/plain": [
       "'**************************************************'"
      ]
     },
     "execution_count": 46,
     "metadata": {},
     "output_type": "execute_result"
    }
   ],
   "source": [
    "\"*\"*50"
   ]
  },
  {
   "cell_type": "markdown",
   "id": "44806992",
   "metadata": {
    "jupyter": {
     "source_hidden": true
    },
    "tags": []
   },
   "source": [
    "# Multiline strings\n",
    "To use multiple lines in a string, we either: \n",
    "\n",
    "- Use the special `\\n` character (newline character)\n",
    "- Or use triple-quoted strings"
   ]
  },
  {
   "cell_type": "code",
   "execution_count": null,
   "id": "3e7e302c",
   "metadata": {
    "jupyter": {
     "outputs_hidden": true,
     "source_hidden": true
    },
    "tags": []
   },
   "outputs": [],
   "source": [
    "multiline_string = \"Hello\\nthere\"\n",
    "print(multiline_string)"
   ]
  },
  {
   "cell_type": "code",
   "execution_count": 48,
   "id": "05f07923",
   "metadata": {
    "jupyter": {
     "outputs_hidden": true,
     "source_hidden": true
    },
    "tags": []
   },
   "outputs": [
    {
     "name": "stdout",
     "output_type": "stream",
     "text": [
      "Hello\n",
      "there\n",
      "yourself\n"
     ]
    }
   ],
   "source": [
    "multiline_string = '''Hello\n",
    "there\n",
    "yourself'''\n",
    "print(multiline_string)"
   ]
  },
  {
   "cell_type": "markdown",
   "id": "b17f5bcc",
   "metadata": {
    "jupyter": {
     "source_hidden": true
    },
    "tags": []
   },
   "source": [
    "# Printing\n",
    "When you run a cell in jupyter notebooks, the last value in the cell is always displayed (but only the last)."
   ]
  },
  {
   "cell_type": "code",
   "execution_count": 49,
   "id": "5d606c17",
   "metadata": {
    "jupyter": {
     "outputs_hidden": true,
     "source_hidden": true
    },
    "tags": []
   },
   "outputs": [
    {
     "name": "stdout",
     "output_type": "stream",
     "text": [
      "Python\n",
      "Is versatile\n",
      "and fun\n"
     ]
    },
    {
     "data": {
      "text/plain": [
       "'last word freak'"
      ]
     },
     "execution_count": 49,
     "metadata": {},
     "output_type": "execute_result"
    }
   ],
   "source": [
    "print(\"Python\")\n",
    "print(\"Is versatile\")\n",
    "print( \"and fun\" )\n",
    "x = 'last word freak'\n",
    "x"
   ]
  },
  {
   "cell_type": "markdown",
   "id": "9b2d0fe9",
   "metadata": {
    "jupyter": {
     "source_hidden": true
    },
    "tags": []
   },
   "source": [
    "# Combining strings with other values\n",
    "Often we find the need to put numbers and other values inside strings.\n",
    "One way to do so, is to cast the values directly into strings when we need to:"
   ]
  },
  {
   "cell_type": "code",
   "execution_count": 51,
   "id": "b87a75bc",
   "metadata": {
    "jupyter": {
     "outputs_hidden": true,
     "source_hidden": true
    },
    "tags": []
   },
   "outputs": [
    {
     "name": "stdout",
     "output_type": "stream",
     "text": [
      "Happy 48th birthday Patrick\n"
     ]
    }
   ],
   "source": [
    "greeting_start = \"Happy \"\n",
    "greeting_end = \"th birthday \"\n",
    "name = \"Patrick\"\n",
    "age = 48\n",
    "print(greeting_start + str(age) + greeting_end + name) #concatenate"
   ]
  },
  {
   "cell_type": "code",
   "execution_count": 53,
   "id": "d6545e04",
   "metadata": {
    "jupyter": {
     "outputs_hidden": true,
     "source_hidden": true
    },
    "tags": []
   },
   "outputs": [
    {
     "name": "stdout",
     "output_type": "stream",
     "text": [
      "Which means it has more than 76 quirks\n"
     ]
    }
   ],
   "source": [
    "# Quick quiz, what's wrong with this expression?\n",
    "part1 = \"Which means it has more than \"\n",
    "part2 = 76\n",
    "part3 = \" quirks\"\n",
    "print(part1 + str(part2) + part3)"
   ]
  },
  {
   "cell_type": "code",
   "execution_count": 54,
   "id": "4733c5db",
   "metadata": {
    "jupyter": {
     "outputs_hidden": true,
     "source_hidden": true
    },
    "tags": []
   },
   "outputs": [
    {
     "name": "stdout",
     "output_type": "stream",
     "text": [
      "Which means it has more than 76 quirks\n"
     ]
    }
   ],
   "source": [
    "# To address this type mismatch, we need to either cast part2 to a str\n",
    "# Or pass the variables separately to the print function, separated by commas:\n",
    "part1 = \"Which means it has more than\"\n",
    "part2 = 76\n",
    "part3 = \"quirks\"\n",
    "print(part1, part2, part3)"
   ]
  },
  {
   "cell_type": "code",
   "execution_count": 55,
   "id": "69ea3ea2",
   "metadata": {
    "jupyter": {
     "outputs_hidden": true,
     "source_hidden": true
    },
    "tags": []
   },
   "outputs": [
    {
     "name": "stdout",
     "output_type": "stream",
     "text": [
      "Which means it has more than 76 quirks\n"
     ]
    }
   ],
   "source": [
    "# Or use the special f-strings to create our combined string\n",
    "# In f-strings, we prefix the string with the letter `f`, and then use curly-braces to put variable placeholders in our text:\n",
    "num = 76\n",
    "#f\"Which means it has more than {num} quirks\"\n",
    "\n",
    "print( f\"Which means it has more than {num} quirks\" )"
   ]
  },
  {
   "cell_type": "code",
   "execution_count": 60,
   "id": "04ff7cd8",
   "metadata": {
    "jupyter": {
     "outputs_hidden": true,
     "source_hidden": true
    },
    "tags": []
   },
   "outputs": [
    {
     "data": {
      "text/plain": [
       "'To complete a marathon, you need to run 15.731 kilometers'"
      ]
     },
     "execution_count": 60,
     "metadata": {},
     "output_type": "execute_result"
    }
   ],
   "source": [
    "# f-strings also have many additional formatting powers\n",
    "# To use these, we put a colon after the placeholder value, and then tell Python how to do the formatting\n",
    "# For example, to round with one digit after the decimal point, use this:\n",
    "miles_in_marathon = 26.219\n",
    "miles_per_km = .6\n",
    "km_in_marathon = miles_in_marathon * miles_per_km\n",
    "f\"To complete a marathon, you need to run {km_in_marathon:.3f} kilometers\""
   ]
  },
  {
   "cell_type": "markdown",
   "id": "129f40ab",
   "metadata": {
    "jupyter": {
     "source_hidden": true
    },
    "tags": []
   },
   "source": [
    "# Comments\n"
   ]
  },
  {
   "cell_type": "code",
   "execution_count": null,
   "id": "7942d6ff",
   "metadata": {
    "jupyter": {
     "source_hidden": true
    },
    "tags": []
   },
   "outputs": [],
   "source": [
    "\"\"\"\n",
    "This is used as a comment at the top \n",
    "of functions/methods classes....\n",
    "\"\"\"\n",
    "                            # fruits = 12\n",
    "\n",
    "fruits = 12                 #num fruits offered in store"
   ]
  },
  {
   "cell_type": "code",
   "execution_count": null,
   "id": "483e3409",
   "metadata": {
    "jupyter": {
     "source_hidden": true
    },
    "tags": []
   },
   "outputs": [],
   "source": [
    "# alternatively, sometimes a comment can be replaced with a more explicit variable name\n",
    "types_of_fruit_in_the_store = 12\n",
    "# use your judgment to decide what's most appropriate for your code's readers"
   ]
  },
  {
   "cell_type": "markdown",
   "id": "4032ec0d",
   "metadata": {
    "jupyter": {
     "source_hidden": true
    },
    "tags": []
   },
   "source": [
    "# Questions?"
   ]
  }
 ],
 "metadata": {
  "colab": {
   "name": "Welcome to DataCamp Workspaces.ipynb",
   "provenance": []
  },
  "kernelspec": {
   "display_name": "Python 3 (ipykernel)",
   "language": "python",
   "name": "python3"
  },
  "language_info": {
   "codemirror_mode": {
    "name": "ipython",
    "version": 3
   },
   "file_extension": ".py",
   "mimetype": "text/x-python",
   "name": "python",
   "nbconvert_exporter": "python",
   "pygments_lexer": "ipython3",
   "version": "3.11.4"
  }
 },
 "nbformat": 4,
 "nbformat_minor": 5
}
