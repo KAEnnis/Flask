{
 "cells": [
  {
   "cell_type": "code",
   "execution_count": 4,
   "metadata": {},
   "outputs": [
    {
     "name": "stdout",
     "output_type": "stream",
     "text": [
      "number: 4567, digit: 7\n",
      "number: 456, digit: 7\n",
      "number: 456, digit: 6\n",
      "number: 45, digit: 6\n",
      "number: 45, digit: 5\n",
      "number: 4, digit: 5\n",
      "number: 4, digit: 4\n",
      "number: 0, digit: 4\n",
      "sum is: 22\n"
     ]
    }
   ],
   "source": [
    "number = 4567\n",
    "\n",
    "sum = 0\n",
    "while (digit := number%10):\n",
    "    sum += digit\n",
    "    number = number // 10\n",
    "\n",
    "print(f\"sum is: {sum}\")"
   ]
  }
 ],
 "metadata": {
  "kernelspec": {
   "display_name": "Python 3",
   "language": "python",
   "name": "python3"
  },
  "language_info": {
   "codemirror_mode": {
    "name": "ipython",
    "version": 3
   },
   "file_extension": ".py",
   "mimetype": "text/x-python",
   "name": "python",
   "nbconvert_exporter": "python",
   "pygments_lexer": "ipython3",
   "version": "3.11.4"
  }
 },
 "nbformat": 4,
 "nbformat_minor": 2
}
